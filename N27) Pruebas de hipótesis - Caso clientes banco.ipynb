{
 "cells": [
  {
   "cell_type": "markdown",
   "metadata": {
    "colab_type": "text",
    "id": "8XB8xTtnlvLx"
   },
   "source": [
    "# ¿Existen diferencias significativas entre los saldos de las distintas cohortes de mis clientes?"
   ]
  },
  {
   "cell_type": "markdown",
   "metadata": {},
   "source": [
    "## Introducción\n",
    "\n",
    "**Contexto empresarial.** Usted dirige una unidad de análisis empresarial en un banco y se le ha pedido que apoye a la unidad de marketing para realizar un análisis de segmentación de clientes. Se le proporciona un conjunto de datos que comprende una muestra de clientes, los saldos de sus cuentas bancarias y cierta información demográfica sobre ellos. Diferentes poblaciones en todo el país tienen diferentes niveles de ingresos y pueden tener diferentes perfiles de gasto. Su equipo de marketing desea saber si existen diferencias significativas en los saldos bancarios de los diferentes subsegmentos de su base de clientes, de modo que puedan diseñar productos específicos para diferentes grupos.\n",
    "\n",
    "**Problema empresarial.** El departamento de marketing quiere que determine: **\"¿Existen diferencias estadísticamente significativas en los saldos bancarios de sus segmentos de clientes (por edad, trabajo, educación, estado civil, etc.)?\"**\n",
    "\n",
    "**Contexto analítico.** El conjunto de datos que usaremos en este caso se obtuvo de Kaggle (https://www.kaggle.com/skverma875/bank-marketing-dataset). En este caso, daremos el primer paso hacia la transición del **análisis exploratorio de datos** al **análisis confirmatorio**. Vamos a: (1) aprender un marco formal para la prueba de hipótesis; (2) aprender sobre $p$ - valores; (3) generar una hipótesis a partir del análisis exploratorio de datos; y finalmente (4) analizar los resultados de una prueba de hipótesis."
   ]
  },
  {
   "cell_type": "code",
   "execution_count": 2,
   "metadata": {},
   "outputs": [
    {
     "name": "stdout",
     "output_type": "stream",
     "text": [
      "Collecting pingouin\n",
      "  Downloading pingouin-0.5.2.tar.gz (185 kB)\n",
      "Requirement already satisfied: numpy>=1.19 in c:\\users\\windows\\anaconda3\\lib\\site-packages (from pingouin) (1.21.6)\n",
      "Requirement already satisfied: scipy>=1.7 in c:\\users\\windows\\anaconda3\\lib\\site-packages (from pingouin) (1.7.3)\n",
      "Requirement already satisfied: pandas>=1.0 in c:\\users\\windows\\anaconda3\\lib\\site-packages (from pingouin) (1.3.5)\n",
      "Requirement already satisfied: matplotlib>=3.0.2 in c:\\users\\windows\\anaconda3\\lib\\site-packages (from pingouin) (3.2.2)\n",
      "Requirement already satisfied: seaborn>=0.11 in c:\\users\\windows\\anaconda3\\lib\\site-packages (from pingouin) (0.11.2)\n",
      "Requirement already satisfied: statsmodels>=0.13 in c:\\users\\windows\\anaconda3\\lib\\site-packages (from pingouin) (0.13.2)\n",
      "Requirement already satisfied: scikit-learn<1.1.0 in c:\\users\\windows\\anaconda3\\lib\\site-packages (from pingouin) (1.0.2)\n",
      "Collecting pandas_flavor>=0.2.0\n",
      "  Downloading pandas_flavor-0.3.0-py3-none-any.whl (6.3 kB)\n",
      "Collecting outdated\n",
      "  Downloading outdated-0.2.1-py3-none-any.whl (7.5 kB)\n",
      "Requirement already satisfied: tabulate in c:\\users\\windows\\anaconda3\\lib\\site-packages (from pingouin) (0.8.9)\n",
      "Requirement already satisfied: pyparsing!=2.0.4,!=2.1.2,!=2.1.6,>=2.0.1 in c:\\users\\windows\\anaconda3\\lib\\site-packages (from matplotlib>=3.0.2->pingouin) (3.0.4)\n",
      "Requirement already satisfied: cycler>=0.10 in c:\\users\\windows\\anaconda3\\lib\\site-packages (from matplotlib>=3.0.2->pingouin) (0.11.0)\n",
      "Requirement already satisfied: kiwisolver>=1.0.1 in c:\\users\\windows\\anaconda3\\lib\\site-packages (from matplotlib>=3.0.2->pingouin) (1.3.2)\n",
      "Requirement already satisfied: python-dateutil>=2.1 in c:\\users\\windows\\anaconda3\\lib\\site-packages (from matplotlib>=3.0.2->pingouin) (2.8.2)\n",
      "Requirement already satisfied: pytz>=2017.3 in c:\\users\\windows\\anaconda3\\lib\\site-packages (from pandas>=1.0->pingouin) (2021.3)\n",
      "Collecting lazy-loader==0.1rc2\n",
      "  Downloading lazy_loader-0.1rc2-py3-none-any.whl (5.1 kB)\n",
      "Requirement already satisfied: xarray in c:\\users\\windows\\anaconda3\\lib\\site-packages (from pandas_flavor>=0.2.0->pingouin) (0.20.1)\n",
      "Requirement already satisfied: six>=1.5 in c:\\users\\windows\\anaconda3\\lib\\site-packages (from python-dateutil>=2.1->matplotlib>=3.0.2->pingouin) (1.16.0)\n",
      "Requirement already satisfied: joblib>=0.11 in c:\\users\\windows\\anaconda3\\lib\\site-packages (from scikit-learn<1.1.0->pingouin) (1.1.0)\n",
      "Requirement already satisfied: threadpoolctl>=2.0.0 in c:\\users\\windows\\anaconda3\\lib\\site-packages (from scikit-learn<1.1.0->pingouin) (2.2.0)\n",
      "Requirement already satisfied: patsy>=0.5.2 in c:\\users\\windows\\anaconda3\\lib\\site-packages (from statsmodels>=0.13->pingouin) (0.5.2)\n",
      "Requirement already satisfied: packaging>=21.3 in c:\\users\\windows\\anaconda3\\lib\\site-packages (from statsmodels>=0.13->pingouin) (21.3)\n",
      "Collecting littleutils\n",
      "  Downloading littleutils-0.2.2.tar.gz (6.6 kB)\n",
      "Requirement already satisfied: requests in c:\\users\\windows\\anaconda3\\lib\\site-packages (from outdated->pingouin) (2.27.1)\n",
      "Requirement already satisfied: certifi>=2017.4.17 in c:\\users\\windows\\anaconda3\\lib\\site-packages (from requests->outdated->pingouin) (2021.10.8)\n",
      "Requirement already satisfied: urllib3<1.27,>=1.21.1 in c:\\users\\windows\\anaconda3\\lib\\site-packages (from requests->outdated->pingouin) (1.26.9)\n",
      "Requirement already satisfied: idna<4,>=2.5 in c:\\users\\windows\\anaconda3\\lib\\site-packages (from requests->outdated->pingouin) (3.3)\n",
      "Requirement already satisfied: charset-normalizer~=2.0.0 in c:\\users\\windows\\anaconda3\\lib\\site-packages (from requests->outdated->pingouin) (2.0.4)\n",
      "Building wheels for collected packages: pingouin, littleutils\n",
      "  Building wheel for pingouin (setup.py): started\n",
      "  Building wheel for pingouin (setup.py): finished with status 'done'\n",
      "  Created wheel for pingouin: filename=pingouin-0.5.2-py3-none-any.whl size=196207 sha256=d9ed167436a8c42a0147bb0a715bae41ecc796e6fe7c4fc5f1132efa70efe374\n",
      "  Stored in directory: c:\\users\\windows\\appdata\\local\\pip\\cache\\wheels\\c0\\9f\\92\\4c574395e1e8e5e08cf73dcb76815a7eaa62921833b6b0f6ad\n",
      "  Building wheel for littleutils (setup.py): started\n",
      "  Building wheel for littleutils (setup.py): finished with status 'done'\n",
      "  Created wheel for littleutils: filename=littleutils-0.2.2-py3-none-any.whl size=7048 sha256=048aa634813c9bae9433aede124f7da94b868d9140e1cd3f4bcfd55428c249b8\n",
      "  Stored in directory: c:\\users\\windows\\appdata\\local\\pip\\cache\\wheels\\04\\bb\\0d\\2d02ec45f29c48d6192476bfb59c5a0e64b605e7212374dd15\n",
      "Successfully built pingouin littleutils\n",
      "Installing collected packages: littleutils, lazy-loader, pandas-flavor, outdated, pingouin\n",
      "Successfully installed lazy-loader-0.1rc2 littleutils-0.2.2 outdated-0.2.1 pandas-flavor-0.3.0 pingouin-0.5.2\n"
     ]
    }
   ],
   "source": [
    "!pip install pingouin"
   ]
  },
  {
   "cell_type": "code",
   "execution_count": 3,
   "metadata": {},
   "outputs": [],
   "source": [
    "import pandas as pd\n",
    "import numpy as np\n",
    "import matplotlib.pyplot as plt\n",
    "import seaborn as sns\n",
    "import statsmodels.api as sm\n",
    "from statsmodels.formula.api import ols\n",
    "import statsmodels\n",
    "from scipy import stats\n",
    "from pingouin import pairwise_ttests #this is for performing the pairwise tests"
   ]
  },
  {
   "cell_type": "markdown",
   "metadata": {},
   "source": [
    "## Exploración de datos"
   ]
  },
  {
   "cell_type": "markdown",
   "metadata": {},
   "source": [
    "Los datos incluyen el saldo de la cuenta de 45.211 clientes, junto con varias otras características:"
   ]
  },
  {
   "cell_type": "code",
   "execution_count": 4,
   "metadata": {
    "colab": {
     "base_uri": "https://localhost:8080/",
     "height": 233
    },
    "colab_type": "code",
    "id": "IAeKAI4GYfXj",
    "outputId": "0afd3e03-0e57-4bf8-ff8a-1fdd70a2275c"
   },
   "outputs": [
    {
     "data": {
      "text/plain": [
       "(45211, 17)"
      ]
     },
     "execution_count": 4,
     "metadata": {},
     "output_type": "execute_result"
    }
   ],
   "source": [
    "bank = pd.read_csv(\"bank-full.csv\")\n",
    "bank.shape"
   ]
  },
  {
   "cell_type": "code",
   "execution_count": 5,
   "metadata": {},
   "outputs": [
    {
     "data": {
      "text/html": [
       "<div>\n",
       "<style scoped>\n",
       "    .dataframe tbody tr th:only-of-type {\n",
       "        vertical-align: middle;\n",
       "    }\n",
       "\n",
       "    .dataframe tbody tr th {\n",
       "        vertical-align: top;\n",
       "    }\n",
       "\n",
       "    .dataframe thead th {\n",
       "        text-align: right;\n",
       "    }\n",
       "</style>\n",
       "<table border=\"1\" class=\"dataframe\">\n",
       "  <thead>\n",
       "    <tr style=\"text-align: right;\">\n",
       "      <th></th>\n",
       "      <th>age</th>\n",
       "      <th>job</th>\n",
       "      <th>marital</th>\n",
       "      <th>education</th>\n",
       "      <th>default</th>\n",
       "      <th>balance</th>\n",
       "      <th>housing</th>\n",
       "      <th>loan</th>\n",
       "      <th>contact</th>\n",
       "      <th>day</th>\n",
       "      <th>month</th>\n",
       "      <th>duration</th>\n",
       "      <th>campaign</th>\n",
       "      <th>pdays</th>\n",
       "      <th>previous</th>\n",
       "      <th>poutcome</th>\n",
       "      <th>y</th>\n",
       "    </tr>\n",
       "  </thead>\n",
       "  <tbody>\n",
       "    <tr>\n",
       "      <th>0</th>\n",
       "      <td>58</td>\n",
       "      <td>management</td>\n",
       "      <td>married</td>\n",
       "      <td>tertiary</td>\n",
       "      <td>no</td>\n",
       "      <td>2143</td>\n",
       "      <td>yes</td>\n",
       "      <td>no</td>\n",
       "      <td>unknown</td>\n",
       "      <td>5</td>\n",
       "      <td>may</td>\n",
       "      <td>261</td>\n",
       "      <td>1</td>\n",
       "      <td>-1</td>\n",
       "      <td>0</td>\n",
       "      <td>unknown</td>\n",
       "      <td>no</td>\n",
       "    </tr>\n",
       "    <tr>\n",
       "      <th>1</th>\n",
       "      <td>44</td>\n",
       "      <td>technician</td>\n",
       "      <td>single</td>\n",
       "      <td>secondary</td>\n",
       "      <td>no</td>\n",
       "      <td>29</td>\n",
       "      <td>yes</td>\n",
       "      <td>no</td>\n",
       "      <td>unknown</td>\n",
       "      <td>5</td>\n",
       "      <td>may</td>\n",
       "      <td>151</td>\n",
       "      <td>1</td>\n",
       "      <td>-1</td>\n",
       "      <td>0</td>\n",
       "      <td>unknown</td>\n",
       "      <td>no</td>\n",
       "    </tr>\n",
       "    <tr>\n",
       "      <th>2</th>\n",
       "      <td>33</td>\n",
       "      <td>entrepreneur</td>\n",
       "      <td>married</td>\n",
       "      <td>secondary</td>\n",
       "      <td>no</td>\n",
       "      <td>2</td>\n",
       "      <td>yes</td>\n",
       "      <td>yes</td>\n",
       "      <td>unknown</td>\n",
       "      <td>5</td>\n",
       "      <td>may</td>\n",
       "      <td>76</td>\n",
       "      <td>1</td>\n",
       "      <td>-1</td>\n",
       "      <td>0</td>\n",
       "      <td>unknown</td>\n",
       "      <td>no</td>\n",
       "    </tr>\n",
       "    <tr>\n",
       "      <th>3</th>\n",
       "      <td>47</td>\n",
       "      <td>blue-collar</td>\n",
       "      <td>married</td>\n",
       "      <td>unknown</td>\n",
       "      <td>no</td>\n",
       "      <td>1506</td>\n",
       "      <td>yes</td>\n",
       "      <td>no</td>\n",
       "      <td>unknown</td>\n",
       "      <td>5</td>\n",
       "      <td>may</td>\n",
       "      <td>92</td>\n",
       "      <td>1</td>\n",
       "      <td>-1</td>\n",
       "      <td>0</td>\n",
       "      <td>unknown</td>\n",
       "      <td>no</td>\n",
       "    </tr>\n",
       "    <tr>\n",
       "      <th>4</th>\n",
       "      <td>33</td>\n",
       "      <td>unknown</td>\n",
       "      <td>single</td>\n",
       "      <td>unknown</td>\n",
       "      <td>no</td>\n",
       "      <td>1</td>\n",
       "      <td>no</td>\n",
       "      <td>no</td>\n",
       "      <td>unknown</td>\n",
       "      <td>5</td>\n",
       "      <td>may</td>\n",
       "      <td>198</td>\n",
       "      <td>1</td>\n",
       "      <td>-1</td>\n",
       "      <td>0</td>\n",
       "      <td>unknown</td>\n",
       "      <td>no</td>\n",
       "    </tr>\n",
       "  </tbody>\n",
       "</table>\n",
       "</div>"
      ],
      "text/plain": [
       "   age           job  marital  education default  balance housing loan  \\\n",
       "0   58    management  married   tertiary      no     2143     yes   no   \n",
       "1   44    technician   single  secondary      no       29     yes   no   \n",
       "2   33  entrepreneur  married  secondary      no        2     yes  yes   \n",
       "3   47   blue-collar  married    unknown      no     1506     yes   no   \n",
       "4   33       unknown   single    unknown      no        1      no   no   \n",
       "\n",
       "   contact  day month  duration  campaign  pdays  previous poutcome   y  \n",
       "0  unknown    5   may       261         1     -1         0  unknown  no  \n",
       "1  unknown    5   may       151         1     -1         0  unknown  no  \n",
       "2  unknown    5   may        76         1     -1         0  unknown  no  \n",
       "3  unknown    5   may        92         1     -1         0  unknown  no  \n",
       "4  unknown    5   may       198         1     -1         0  unknown  no  "
      ]
     },
     "execution_count": 5,
     "metadata": {},
     "output_type": "execute_result"
    }
   ],
   "source": [
    "bank.head()"
   ]
  },
  {
   "cell_type": "markdown",
   "metadata": {},
   "source": [
    "Variables de interés en este caso son:\n",
    "* **balance:** bank balance; key variable of interest\n",
    "* **job:** the title of the job (“management”, “technician”, etc)\n",
    "* **marital:** marital status (\"single\", \"married\" or \"divorced\")\n",
    "* **education:** different levels of education (\"primary\",\"secondary\",\"tertiary\",\"unknown\")\n",
    "* **default:** the customer defaulted (\"yes\" or \"no\")\n",
    "* **loan:** the customer took out a loan (\"yes\" or \"no\")"
   ]
  },
  {
   "cell_type": "code",
   "execution_count": 6,
   "metadata": {},
   "outputs": [
    {
     "data": {
      "text/html": [
       "<div>\n",
       "<style scoped>\n",
       "    .dataframe tbody tr th:only-of-type {\n",
       "        vertical-align: middle;\n",
       "    }\n",
       "\n",
       "    .dataframe tbody tr th {\n",
       "        vertical-align: top;\n",
       "    }\n",
       "\n",
       "    .dataframe thead th {\n",
       "        text-align: right;\n",
       "    }\n",
       "</style>\n",
       "<table border=\"1\" class=\"dataframe\">\n",
       "  <thead>\n",
       "    <tr style=\"text-align: right;\">\n",
       "      <th></th>\n",
       "      <th>age</th>\n",
       "      <th>balance</th>\n",
       "      <th>day</th>\n",
       "      <th>duration</th>\n",
       "      <th>campaign</th>\n",
       "      <th>pdays</th>\n",
       "      <th>previous</th>\n",
       "    </tr>\n",
       "  </thead>\n",
       "  <tbody>\n",
       "    <tr>\n",
       "      <th>count</th>\n",
       "      <td>45211.000000</td>\n",
       "      <td>45211.000000</td>\n",
       "      <td>45211.000000</td>\n",
       "      <td>45211.000000</td>\n",
       "      <td>45211.000000</td>\n",
       "      <td>45211.000000</td>\n",
       "      <td>45211.000000</td>\n",
       "    </tr>\n",
       "    <tr>\n",
       "      <th>mean</th>\n",
       "      <td>40.936210</td>\n",
       "      <td>1362.272058</td>\n",
       "      <td>15.806419</td>\n",
       "      <td>258.163080</td>\n",
       "      <td>2.763841</td>\n",
       "      <td>40.197828</td>\n",
       "      <td>0.580323</td>\n",
       "    </tr>\n",
       "    <tr>\n",
       "      <th>std</th>\n",
       "      <td>10.618762</td>\n",
       "      <td>3044.765829</td>\n",
       "      <td>8.322476</td>\n",
       "      <td>257.527812</td>\n",
       "      <td>3.098021</td>\n",
       "      <td>100.128746</td>\n",
       "      <td>2.303441</td>\n",
       "    </tr>\n",
       "    <tr>\n",
       "      <th>min</th>\n",
       "      <td>18.000000</td>\n",
       "      <td>-8019.000000</td>\n",
       "      <td>1.000000</td>\n",
       "      <td>0.000000</td>\n",
       "      <td>1.000000</td>\n",
       "      <td>-1.000000</td>\n",
       "      <td>0.000000</td>\n",
       "    </tr>\n",
       "    <tr>\n",
       "      <th>25%</th>\n",
       "      <td>33.000000</td>\n",
       "      <td>72.000000</td>\n",
       "      <td>8.000000</td>\n",
       "      <td>103.000000</td>\n",
       "      <td>1.000000</td>\n",
       "      <td>-1.000000</td>\n",
       "      <td>0.000000</td>\n",
       "    </tr>\n",
       "    <tr>\n",
       "      <th>50%</th>\n",
       "      <td>39.000000</td>\n",
       "      <td>448.000000</td>\n",
       "      <td>16.000000</td>\n",
       "      <td>180.000000</td>\n",
       "      <td>2.000000</td>\n",
       "      <td>-1.000000</td>\n",
       "      <td>0.000000</td>\n",
       "    </tr>\n",
       "    <tr>\n",
       "      <th>75%</th>\n",
       "      <td>48.000000</td>\n",
       "      <td>1428.000000</td>\n",
       "      <td>21.000000</td>\n",
       "      <td>319.000000</td>\n",
       "      <td>3.000000</td>\n",
       "      <td>-1.000000</td>\n",
       "      <td>0.000000</td>\n",
       "    </tr>\n",
       "    <tr>\n",
       "      <th>max</th>\n",
       "      <td>95.000000</td>\n",
       "      <td>102127.000000</td>\n",
       "      <td>31.000000</td>\n",
       "      <td>4918.000000</td>\n",
       "      <td>63.000000</td>\n",
       "      <td>871.000000</td>\n",
       "      <td>275.000000</td>\n",
       "    </tr>\n",
       "  </tbody>\n",
       "</table>\n",
       "</div>"
      ],
      "text/plain": [
       "                age        balance           day      duration      campaign  \\\n",
       "count  45211.000000   45211.000000  45211.000000  45211.000000  45211.000000   \n",
       "mean      40.936210    1362.272058     15.806419    258.163080      2.763841   \n",
       "std       10.618762    3044.765829      8.322476    257.527812      3.098021   \n",
       "min       18.000000   -8019.000000      1.000000      0.000000      1.000000   \n",
       "25%       33.000000      72.000000      8.000000    103.000000      1.000000   \n",
       "50%       39.000000     448.000000     16.000000    180.000000      2.000000   \n",
       "75%       48.000000    1428.000000     21.000000    319.000000      3.000000   \n",
       "max       95.000000  102127.000000     31.000000   4918.000000     63.000000   \n",
       "\n",
       "              pdays      previous  \n",
       "count  45211.000000  45211.000000  \n",
       "mean      40.197828      0.580323  \n",
       "std      100.128746      2.303441  \n",
       "min       -1.000000      0.000000  \n",
       "25%       -1.000000      0.000000  \n",
       "50%       -1.000000      0.000000  \n",
       "75%       -1.000000      0.000000  \n",
       "max      871.000000    275.000000  "
      ]
     },
     "execution_count": 6,
     "metadata": {},
     "output_type": "execute_result"
    }
   ],
   "source": [
    "bank.describe()"
   ]
  },
  {
   "cell_type": "code",
   "execution_count": 7,
   "metadata": {},
   "outputs": [
    {
     "data": {
      "image/png": "[encoded data removed]",
      "text/plain": [
       "<Figure size 432x288 with 1 Axes>"
      ]
     },
     "metadata": {
      "needs_background": "light"
     },
     "output_type": "display_data"
    }
   ],
   "source": [
    "plt.hist(bank['balance'],bins = 30);"
   ]
  },
  {
   "cell_type": "markdown",
   "metadata": {},
   "source": [
    "### Ejercicio 1:\n",
    "\n",
    "De las tablas y el histograma anteriores, vemos una gran variedad en el saldo bancario de sus clientes. ¿Por qué crees que es esto?"
   ]
  },
  {
   "cell_type": "markdown",
   "metadata": {},
   "source": [
    "**Respuesta:** Hay muchos subgrupos en nuestra población. Por ejemplo, hay personas con diversos grados de educación, perfiles laborales, etc. Por lo tanto, esperaremos que estos subgrupos tengan diferentes saldos bancarios."
   ]
  },
  {
   "cell_type": "markdown",
   "metadata": {},
   "source": [
    "### Ejercicio 2:\n",
    "Considere las variables `job`, `marital`, `education`, `default`, `housing`, `loan`. Para cada variable, escriba código para graficas el número de clientes en cada categoría de esa variable, usando el comando `sns.countplot()`."
   ]
  },
  {
   "cell_type": "code",
   "execution_count": 9,
   "metadata": {
    "colab": {
     "base_uri": "https://localhost:8080/",
     "height": 295
    },
    "colab_type": "code",
    "id": "c3c5gn_IaJqT",
    "outputId": "e2cc2c8a-cde1-4b29-eee1-c83999107282"
   },
   "outputs": [
    {
     "data": {
      "image/png": "[encoded data removed]",
      "text/plain": [
       "<Figure size 1080x720 with 6 Axes>"
      ]
     },
     "metadata": {
      "needs_background": "light"
     },
     "output_type": "display_data"
    }
   ],
   "source": [
    "import warnings\n",
    "warnings.filterwarnings(\"ignore\")\n",
    "plt.figure(figsize=(15,10))\n",
    "vars_to_look = ['marital','education','default','job','housing','loan']\n",
    "for i, var in enumerate(vars_to_look):\n",
    "    plt.subplot(2,3,i+1)\n",
    "    if i ==3:\n",
    "        plt.xticks(rotation = 90)\n",
    "    sns.countplot(bank[var])\n",
    "    plt.title(\"Count plot of \" + var)    "
   ]
  },
  {
   "cell_type": "markdown",
   "metadata": {},
   "source": [
    "### Ejercicio 3:\n",
    "\n",
    "El año pasado el saldo promedio para toda la población de clientes del banco fue de \\\\$1341.12. ¿Cuánto más alto es el saldo promedio de la muestra este año? ¿Es esta diferencia significativa?"
   ]
  },
  {
   "cell_type": "code",
   "execution_count": 10,
   "metadata": {},
   "outputs": [
    {
     "data": {
      "text/plain": [
       "1362.2720576850766"
      ]
     },
     "execution_count": 10,
     "metadata": {},
     "output_type": "execute_result"
    }
   ],
   "source": [
    "bank['balance'].mean()"
   ]
  },
  {
   "cell_type": "markdown",
   "metadata": {},
   "source": [
    "Esta es una diferencia de \\\\$1362.27 - \\\\$1341.12 = \\\\$22.15. La gerencia del banco cree que el comportamiento del consumidor podría haber cambiado ligeramente y que, en promedio, los clientes guardan más dinero en su cuenta bancaria.\n",
    "\n",
    "Sin embargo, esta diferencia podría deberse a la variación estadística debido a la variabilidad del muestreo. Tendríamos que realizar una prueba más rigurosa para determinar si esta diferencia es realmente significativa después de tener en cuenta dicha variabilidad."
   ]
  },
  {
   "cell_type": "markdown",
   "metadata": {},
   "source": [
    "## Marco analítico para la prueba de hipótesis\n",
    "\n",
    "El procedimiento que usamos para ayudarnos a decidir si una diferencia entre la media $\\mu$ de una población y un valor de referencia $\\mu_0$ es **estadísticamente significativa** se llama **prueba de hipótesis**. En nuestro contexto,\n",
    "$\\mu$ es el saldo bancario promedio de los clientes este año y $\\mu_0$ es su saldo bancario promedio el año pasado.\n",
    "\n",
    "El primer paso es definir la hipótesis nula (a menudo indicada como $H_0$). La hipótesis nula **siempre** corresponde a la hipótesis de no cambio; es decir, el statu quo sigue siendo válido. Formalmente, esto se escribe como: $ H_0: \\mu = \\mu_0 $.\n",
    "\n",
    "En nuestro caso, $H_0$ sería equivalente a la hipótesis de que el saldo promedio para toda la población de clientes $\\mu$ es el mismo que el saldo promedio del año pasado $\\mu_0 = \\$1341.12$. Deseamos probar si $H_0$ está mal; es decir, si $\\mu$ es diferente de $\\mu_0 = \\$1341.12$."
   ]
  },
  {
   "cell_type": "markdown",
   "metadata": {},
   "source": [
    "### Pregunta:\n",
    "\n",
    "Decíamos antes que la hipótesis nula **siempre** corresponde a la hipótesis de no cambio; es decir, el statu quo sigue siendo válido. ¿Por qué es esto? ¿Por qué no establecimos la hipótesis nula para que sea $ H_0: \\mu > \\mu_0 $?\n"
   ]
  },
  {
   "cell_type": "markdown",
   "metadata": {},
   "source": [
    "**Respuesta:** Esto es solo una convención; ninguna otra razón."
   ]
  },
  {
   "cell_type": "markdown",
   "metadata": {},
   "source": [
    "### Hipotesis alterna\n",
    "\n",
    "En oposición a la hipótesis nula, definimos una hipótesis alternativa (a menudo indicada con $H_1$ o $H_a$) para desafiar el statu quo. Podemos tener tres formas diferentes de definir una hipótesis alternativa:\n",
    "\n",
    "1. $H_a: \\mu \\neq \\mu_0$ (prueba bilateral)\n",
    "\n",
    "2. $H_a: \\mu > \\mu_0$ (prueba unilateral)\n",
    "\n",
    "3. $H_a: \\mu < \\mu_0$ (prueba unilateral)\n",
    "\n",
    "La prueba estadística nos ayudará a decidir si hay suficiente evidencia para rechazar la hipótesis nula a favor de una alternativa."
   ]
  },
  {
   "cell_type": "markdown",
   "metadata": {},
   "source": [
    "### Realizando la prueba de hipotesis\n",
    "\n",
    "Volviendo a nuestro caso, supongamos que deseamos realizar una prueba estadística para evaluar la hipótesis de gestión:\n",
    "\n",
    "$$ H_0: \\mu= 1341.12$$\n",
    "$$ H_a: \\mu \\neq 1341.12$$\n",
    "\n",
    "Hay dos resultados posibles para esta prueba: (1) Concluimos que $H_0$ es falso y decimos que **rechazamos $H_0$**. En este caso concluiremos que existe evidencia estadística para la alternativa $H_a$ y que efectivamente el saldo bancario de los clientes este año es diferente a 1341.12 USD. O (2) **no logramos rechazar $H_0$**. En este caso, concluimos que no hay suficiente evidencia estadística para decir con seguridad que $H_0$ es falso. **Tenga en cuenta que en el segundo caso no podemos decir que la hipótesis original es verdadera.** (De hecho, no existe ninguna prueba que le diga que una hipótesis es verdadera. ¿Por qué cree que es así?)"
   ]
  },
  {
   "cell_type": "code",
   "execution_count": 11,
   "metadata": {},
   "outputs": [
    {
     "data": {
      "text/plain": [
       "Ttest_1sampResult(statistic=1.4769973489267905, pvalue=0.13968331332845219)"
      ]
     },
     "execution_count": 11,
     "metadata": {},
     "output_type": "execute_result"
    }
   ],
   "source": [
    "stats.ttest_1samp(bank['balance'], popmean=1341.122)"
   ]
  },
  {
   "cell_type": "markdown",
   "metadata": {},
   "source": [
    "### Entendiendo a los: $p$ - values"
   ]
  },
  {
   "cell_type": "markdown",
   "metadata": {},
   "source": [
    "Las pruebas estadísticas reportan un valor de **$p$**. Esta es la cantidad clave que usaremos para determinar si el resultado de la prueba fue significativo. Introduzcamos otra cantidad $\\alpha$ a la que llamaremos nivel de significancia; Esto será explicado despues. Por ahora, establece $\\alpha = 0.05$.\n",
    "\n",
    "Podemos tener dos resultados:\n",
    "\n",
    "1. Si esta probabilidad es menor que nuestro nivel de significancia ($p < \\alpha$) rechazamos $H_0$ y afirmamos que la diferencia observada es \"estadísticamente significativa\".\n",
    "2. Si esta probabilidad es mayor que nuestro nivel de significancia ($p > \\alpha$) tenemos que retener $H_0$ y afirmamos que la diferencia observada no es estadísticamente significativa."
   ]
  },
  {
   "cell_type": "markdown",
   "metadata": {},
   "source": [
    "### Pregunta:\n",
    "\n",
    "¿Qué concluye de la salida? ¿Rechazamos $H_0$ o lo retenemos?\n",
    "\n",
    "**Respuesta.** Dado que el valor de $p-valor$ (0,13968) es mayor que $\\alpha=0,05$, tenemos que conservar la hipótesis nula."
   ]
  },
  {
   "cell_type": "markdown",
   "metadata": {},
   "source": [
    "### Pregunta:\n",
    "\n",
    "¿Qué cambio tenemos que hacer si la alternativa fuera unilateral?\n",
    "\n",
    "**Respuesta.** Supongamos que nuestra alternativa fuera unilateral: $H_a: \\mu > \\mu_0$ (prueba unilateral) o $H_a: \\mu < \\mu_0$ (prueba unilateral). En este caso, simplemente ejecute la prueba de dos caras y luego divida el valor de $p$ por la mitad."
   ]
  },
  {
   "cell_type": "code",
   "execution_count": 13,
   "metadata": {},
   "outputs": [
    {
     "data": {
      "text/plain": [
       "0.06984165666422609"
      ]
     },
     "execution_count": 13,
     "metadata": {},
     "output_type": "execute_result"
    }
   ],
   "source": [
    "T,p = stats.ttest_1samp(bank['balance'], popmean=1341.122)\n",
    "p_value = p/2\n",
    "p_value"
   ]
  },
  {
   "cell_type": "markdown",
   "metadata": {},
   "source": [
    "### Ejercicio 4:\n",
    "\n",
    "Retuvimos $H_0$ arriba. ¿Estamos 100% seguros de que esta decisión es correcta? ¿Por qué o por qué no?"
   ]
  },
  {
   "cell_type": "markdown",
   "metadata": {},
   "source": [
    "**Respuesta:** Dado que los procedimientos estadísticos de prueba de hipótesis apuntan a inferir sobre un parámetro de población desconocido utilizando la información contenida en una muestra, no siempre nos llevará a la decisión correcta. Sin embargo, como aprenderá más adelante, el valor $p$ - nos da una buena idea del grado de confianza que podemos tener en que nuestra conclusión sea correcta. Para la mayoría de las aplicaciones, será suficiente tener al menos un 95 % de confianza."
   ]
  },
  {
   "cell_type": "markdown",
   "metadata": {},
   "source": [
    "## Errores debido a una conclusión incorrecta de una prueba de hipótesis"
   ]
  },
  {
   "cell_type": "markdown",
   "metadata": {},
   "source": [
    "Hay dos formas en que una prueba puede llevarnos a una decisión incorrecta:\n",
    "\n",
    "1. Cuando $H_0$ es verdadero y lo rechazamos. Esto se llama **Error tipo I**. Corresponde a la obtención de un **falso positivo**.\n",
    "2. Cuando $H_0$ es falso y no lo rechazamos. Esto se llama **Error de tipo II**. Corresponde a tener un **falso negativo**.\n",
    "\n",
    "<table>\n",
    "<tr>\n",
    "<td></td><td><b>$H_0$ is true </b></td><td><b> $H_0$ is False</b></td>\n",
    "</tr>\n",
    "<tr>\n",
    "<td><b>Reject $H_0$</b></td><td>Type I error</td><td>Correct Decision (True Positive)</td>\n",
    "</tr>\n",
    "<tr>\n",
    "<td><b>Fail to Reject $H_0$ </b></td><td>Correct Decision (True negative) </td><td>Type II error</td>\n",
    "</tr>\n",
    "</table>"
   ]
  },
  {
   "cell_type": "markdown",
   "metadata": {},
   "source": [
    "En general, no podemos controlar tanto el error Tipo I como el Tipo II. Entonces, el tipo de error que controlamos depende de la situación."
   ]
  },
  {
   "cell_type": "markdown",
   "metadata": {},
   "source": [
    "### Ejercicio 5:\n",
    "\n",
    "Discute los siguientes dos escenarios con tus compañeros de equipo:\n",
    "\n",
    "1. Un paciente se está haciendo una prueba de diagnóstico para averiguar si está infectado con el virus del VIH. ¿Cuál es la hipótesis nula aquí? ¿Qué es más grave aquí: cometer un error de tipo I (falso positivo) o un error de tipo II (falso negativo)? ¿Por qué?\n",
    "2. Está recibiendo muchos correos electrónicos no deseados, por lo que está escribiendo un algoritmo de filtro de correo no deseado para detectar si un correo electrónico es correo no deseado o no. ¿Cuál es la hipótesis nula aquí? ¿Qué es más grave aquí: cometer un error de tipo I (falso positivo) o un error de tipo II (falso negativo)? ¿Por qué?"
   ]
  },
  {
   "cell_type": "markdown",
   "metadata": {},
   "source": [
    "**Respuesta.**\n",
    "\n",
    "1. $H_0$: la persona no tiene VIH. Cometer un error de tipo II es grave aquí, ya que esto podría conducir a una esperanza de vida muy reducida si no reciben los tratamientos adecuados que necesitan.\n",
    "2. $H_0$: el correo electrónico no es spam. Cometer un error de tipo I es más grave aquí. El error tipo I significa que usted concluye erróneamente que un correo electrónico que no es spam es spam. Esto podría perjudicarlo, ya que es posible que se pierda un correo electrónico importante de su jefe."
   ]
  },
  {
   "cell_type": "markdown",
   "metadata": {},
   "source": [
    "## Controlando el error Tipo I: nivel de significación"
   ]
  },
  {
   "cell_type": "markdown",
   "metadata": {},
   "source": [
    "Es una práctica estándar minimizar la probabilidad de cometer un error de Tipo I. La probabilidad, generalmente denotada por $\\alpha$, es el nivel de significación que presentamos anteriormente. Por lo general, elegimos nuestro nivel de significancia $\\alpha$ para que sea $5\\%$. Por lo tanto, si rechazamos $H_0$ con $\\alpha = 0.05$, entonces solo hay una probabilidad de $5\\%$ de que la conclusión a la que lleguemos sea un falso positivo. Reducir el valor $\\alpha$ (digamos a $1\\%$) disminuirá la probabilidad de llegar a una conclusión positiva falsa.\n",
    "\n",
    "Por supuesto, como discutimos antes, debido a que controlamos $\\alpha$, no podemos controlar el error Tipo II que cometemos."
   ]
  },
  {
   "cell_type": "markdown",
   "metadata": {
    "colab_type": "text",
    "id": "bJZNzPTBm2Q2"
   },
   "source": [
    "### Encontrar cohortes dentro de su base de clientes\n",
    "\n",
    "El objetivo de su equipo es determinar si existen diferencias entre los diferentes grupos de clientes en términos de saldos bancarios. Comenzamos observando los saldos de dos cohortes: los que sacaron un préstamo y los que no:"
   ]
  },
  {
   "cell_type": "code",
   "execution_count": 14,
   "metadata": {
    "colab": {
     "base_uri": "https://localhost:8080/",
     "height": 283
    },
    "colab_type": "code",
    "id": "gmFbmYIveTBt",
    "outputId": "a14928c6-c740-4e0a-e39c-8bffd13728e6"
   },
   "outputs": [
    {
     "data": {
      "image/png": "[encoded data removed]",
      "text/plain": [
       "<Figure size 432x288 with 1 Axes>"
      ]
     },
     "metadata": {
      "needs_background": "light"
     },
     "output_type": "display_data"
    }
   ],
   "source": [
    "ax = sns.stripplot(x=\"loan\", y=\"balance\", data=bank)\n",
    "plt.ylabel('balance')\n",
    "plt.show()"
   ]
  },
  {
   "cell_type": "markdown",
   "metadata": {
    "colab_type": "text",
    "id": "ht0A1wS5m9WU"
   },
   "source": [
    "Dado que la distribución de los datos tiene colas gruesas, es difícil decir mucho a partir del diagrama de franjas si existe una diferencia entre las medias de los dos subgrupos. Continuamos nuestro análisis de datos mirando las estadísticas resumidas para cada uno de los dos grupos:"
   ]
  },
  {
   "cell_type": "code",
   "execution_count": 15,
   "metadata": {
    "colab": {
     "base_uri": "https://localhost:8080/",
     "height": 183
    },
    "colab_type": "code",
    "id": "Y7EtTq5Uc65h",
    "outputId": "66e934b9-f962-42ac-c0a0-06f3c8063fd1"
   },
   "outputs": [
    {
     "data": {
      "text/plain": [
       "count     7244.000000\n",
       "mean       774.309912\n",
       "std       1908.283253\n",
       "min      -8019.000000\n",
       "25%          2.000000\n",
       "50%        258.000000\n",
       "75%        864.250000\n",
       "max      51439.000000\n",
       "Name: balance, dtype: float64"
      ]
     },
     "execution_count": 15,
     "metadata": {},
     "output_type": "execute_result"
    }
   ],
   "source": [
    "bank[bank.loan==\"yes\"].balance.describe()"
   ]
  },
  {
   "cell_type": "code",
   "execution_count": 16,
   "metadata": {
    "colab": {
     "base_uri": "https://localhost:8080/",
     "height": 183
    },
    "colab_type": "code",
    "id": "sE8csnLec-xa",
    "outputId": "d69cbe03-f326-40de-f287-21de9daec634"
   },
   "outputs": [
    {
     "data": {
      "text/plain": [
       "count     37967.000000\n",
       "mean       1474.453631\n",
       "std        3204.088951\n",
       "min       -4057.000000\n",
       "25%          94.000000\n",
       "50%         496.000000\n",
       "75%        1558.000000\n",
       "max      102127.000000\n",
       "Name: balance, dtype: float64"
      ]
     },
     "execution_count": 16,
     "metadata": {},
     "output_type": "execute_result"
    }
   ],
   "source": [
    "bank[bank.loan==\"no\"].balance.describe()"
   ]
  },
  {
   "cell_type": "markdown",
   "metadata": {
    "colab_type": "text",
    "id": "4kU6dlOanDTU"
   },
   "source": [
    "### ¿Son significativamente diferentes los medios del préstamo y los grupos sin préstamo? (5 metros)\n",
    "\n",
    "Nos gustaría probar estadísticamente si las medias de los dos grupos son diferentes entre sí; es decir, si la diferencia entre el saldo medio de los grupos con préstamo ($\\mu_1$) es diferente al saldo medio del grupo sin préstamo ($\\mu_2$). El procedimiento de prueba que describimos también se puede utilizar para responder a esta pregunta:\n",
    "$$ H_0: \\mu_1=\\mu_2$$\n",
    "$$H_a: \\mu_1 \\neq \\mu_2$$\n",
    "\n",
    "Obtenemos la siguiente salida:"
   ]
  },
  {
   "cell_type": "code",
   "execution_count": 17,
   "metadata": {
    "colab": {
     "base_uri": "https://localhost:8080/",
     "height": 35
    },
    "colab_type": "code",
    "id": "QuS9muu0fSvn",
    "outputId": "ce3753ff-1c31-4304-b192-52a765781dea"
   },
   "outputs": [
    {
     "data": {
      "text/plain": [
       "(-25.18086057755715, 2.7640564777544156e-137)"
      ]
     },
     "execution_count": 17,
     "metadata": {},
     "output_type": "execute_result"
    }
   ],
   "source": [
    "statistic, pvalue = stats.ttest_ind(bank[bank.loan==\"yes\"].balance, bank[bank.loan==\"no\"].balance, equal_var=False)\n",
    "statistic, pvalue"
   ]
  },
  {
   "cell_type": "markdown",
   "metadata": {},
   "source": [
    "### Pregunta:\n",
    "\n",
    "¿Qué concluiría de la prueba anterior?"
   ]
  },
  {
   "cell_type": "markdown",
   "metadata": {
    "colab_type": "text",
    "id": "S3Aa_hUXnFeq"
   },
   "source": [
    "**Respuesta:** El valor de $p$ - es muy pequeño (p = 2,76 e-137); por tanto, rechazamos la hipótesis nula de que los dos grupos tienen la misma media."
   ]
  },
  {
   "cell_type": "markdown",
   "metadata": {
    "colab_type": "text",
    "id": "LUE063ORnT-Y"
   },
   "source": [
    "### Diferencias por educación:\n",
    "\n",
    "En nuestra búsqueda para determinar qué factores son importantes en la segmentación de clientes, podemos identificar en este gran conjunto de datos si la educación juega un papel en el comportamiento del cliente. La variable `educación` tiene 4 categorías:"
   ]
  },
  {
   "cell_type": "code",
   "execution_count": 18,
   "metadata": {
    "colab": {
     "base_uri": "https://localhost:8080/",
     "height": 35
    },
    "colab_type": "code",
    "id": "jj8uzPVsjWfD",
    "outputId": "a88582bd-a847-46da-b314-cf9634bfd161"
   },
   "outputs": [
    {
     "data": {
      "text/plain": [
       "array(['tertiary', 'secondary', 'unknown', 'primary'], dtype=object)"
      ]
     },
     "execution_count": 18,
     "metadata": {},
     "output_type": "execute_result"
    }
   ],
   "source": [
    "bank[\"education\"].unique()"
   ]
  },
  {
   "cell_type": "markdown",
   "metadata": {
    "colab_type": "text",
    "id": "wj9mgrxbnYR3"
   },
   "source": [
    "### Ejercicio 6:\n",
    "\n",
    "Escriba un código para visualizar el saldo por educación a través de un diagrama de franjas (es decir, un diagrama de dispersión 1D agrupado). A partir de su exploración visual, ¿cree que hay una diferencia entre los grupos?"
   ]
  },
  {
   "cell_type": "code",
   "execution_count": 19,
   "metadata": {
    "colab": {
     "base_uri": "https://localhost:8080/",
     "height": 283
    },
    "colab_type": "code",
    "id": "CQbvXtrygj44",
    "outputId": "057fd2bf-f7da-47aa-8f0f-fdb96fe02214"
   },
   "outputs": [
    {
     "data": {
      "image/png": "[encoded data removed]",
      "text/plain": [
       "<Figure size 432x288 with 1 Axes>"
      ]
     },
     "metadata": {
      "needs_background": "light"
     },
     "output_type": "display_data"
    }
   ],
   "source": [
    "ax = sns.stripplot(x=\"education\", y=\"balance\", data=bank)\n",
    "plt.ylabel('balance')\n",
    "plt.show()"
   ]
  },
  {
   "cell_type": "markdown",
   "metadata": {
    "colab_type": "text",
    "id": "AUmV2Nynnbqo"
   },
   "source": [
    "**Respuesta.** La representación visual estándar en este caso no proporciona mucha información; por lo tanto, necesitamos un método alternativo para investigar más a fondo."
   ]
  },
  {
   "cell_type": "markdown",
   "metadata": {
    "colab_type": "text",
    "id": "A7qO67bwnhAt"
   },
   "source": [
    "## ¿Los saldos bancarios difieren significativamente entre las cohortes educativas?\n",
    "\n",
    "Nuestra nueva hipótesis será:\n",
    "\n",
    "$$ H_0: \\mu_1=\\mu_2=\\mu_3=\\mu_4$$\n",
    "$$H_a : \\mathrm{Al \\,menos\\, uno\\, de\\, el\\, significa\\,} \\mu_j \\mathrm{\\,es \\,diferente\\, de\\, los \\,otros}.$$\n",
    "\n",
    "Para probar esta hipótesis, necesitamos una extensión de las capacidades de la prueba $t$ (que puede probar solo dos grupos al mismo tiempo). Esta prueba se llama **Análisis de varianza (ANOVA)**."
   ]
  },
  {
   "cell_type": "code",
   "execution_count": 20,
   "metadata": {
    "colab": {
     "base_uri": "https://localhost:8080/",
     "height": 110
    },
    "colab_type": "code",
    "id": "CMxvkQoNwtAQ",
    "outputId": "46622b60-6ebe-440c-fc2c-f808c2217f6c"
   },
   "outputs": [
    {
     "data": {
      "text/html": [
       "<div>\n",
       "<style scoped>\n",
       "    .dataframe tbody tr th:only-of-type {\n",
       "        vertical-align: middle;\n",
       "    }\n",
       "\n",
       "    .dataframe tbody tr th {\n",
       "        vertical-align: top;\n",
       "    }\n",
       "\n",
       "    .dataframe thead th {\n",
       "        text-align: right;\n",
       "    }\n",
       "</style>\n",
       "<table border=\"1\" class=\"dataframe\">\n",
       "  <thead>\n",
       "    <tr style=\"text-align: right;\">\n",
       "      <th></th>\n",
       "      <th>sum_sq</th>\n",
       "      <th>df</th>\n",
       "      <th>F</th>\n",
       "      <th>PR(&gt;F)</th>\n",
       "    </tr>\n",
       "  </thead>\n",
       "  <tbody>\n",
       "    <tr>\n",
       "      <th>education</th>\n",
       "      <td>3.220417e+09</td>\n",
       "      <td>3.0</td>\n",
       "      <td>116.682074</td>\n",
       "      <td>2.849538e-75</td>\n",
       "    </tr>\n",
       "    <tr>\n",
       "      <th>Residual</th>\n",
       "      <td>4.159034e+11</td>\n",
       "      <td>45207.0</td>\n",
       "      <td>NaN</td>\n",
       "      <td>NaN</td>\n",
       "    </tr>\n",
       "  </tbody>\n",
       "</table>\n",
       "</div>"
      ],
      "text/plain": [
       "                 sum_sq       df           F        PR(>F)\n",
       "education  3.220417e+09      3.0  116.682074  2.849538e-75\n",
       "Residual   4.159034e+11  45207.0         NaN           NaN"
      ]
     },
     "execution_count": 20,
     "metadata": {},
     "output_type": "execute_result"
    }
   ],
   "source": [
    "mod = ols('balance ~ education', data=bank).fit()  \n",
    "aov_table = sm.stats.anova_lm(mod, typ=2)\n",
    "aov_table"
   ]
  },
  {
   "cell_type": "markdown",
   "metadata": {
    "colab_type": "text",
    "id": "paIpyiA2npGK"
   },
   "source": [
    "Como podemos ver, al observar el valor de $p$ - que acompaña a las estadísticas de $F$ -, obtenemos un fuerte rechazo de la hipótesis nula, lo que nos lleva a concluir que los grupos de educación tienen algunas diferencias en sus medias. La prueba ANOVA no nos dice qué par de grupos tienen medias que son diferentes entre sí. Para investigar más a fondo estas diferencias, primero informaremos las estadísticas descriptivas por grupo y luego mostraremos las medias del grupo en un gráfico de barras:"
   ]
  },
  {
   "cell_type": "code",
   "execution_count": 21,
   "metadata": {
    "colab": {
     "base_uri": "https://localhost:8080/",
     "height": 183
    },
    "colab_type": "code",
    "id": "K1xtB53Ig8Yq",
    "outputId": "983e3419-46a2-4255-fd4b-03c6ba02f9cb"
   },
   "outputs": [
    {
     "data": {
      "text/plain": [
       "count     6851.000000\n",
       "mean      1250.949934\n",
       "std       2690.743991\n",
       "min      -2604.000000\n",
       "25%         61.000000\n",
       "50%        403.000000\n",
       "75%       1390.000000\n",
       "max      71188.000000\n",
       "Name: balance, dtype: float64"
      ]
     },
     "execution_count": 21,
     "metadata": {},
     "output_type": "execute_result"
    }
   ],
   "source": [
    "bank[bank.education==\"primary\"].balance.describe()"
   ]
  },
  {
   "cell_type": "code",
   "execution_count": 22,
   "metadata": {
    "colab": {
     "base_uri": "https://localhost:8080/",
     "height": 183
    },
    "colab_type": "code",
    "id": "MOHTHDGqhGzJ",
    "outputId": "55ad8a83-c1da-4e0c-a1d3-83191474555d"
   },
   "outputs": [
    {
     "data": {
      "text/plain": [
       "count    23202.000000\n",
       "mean      1154.880786\n",
       "std       2558.256739\n",
       "min      -8019.000000\n",
       "25%         55.000000\n",
       "50%        392.000000\n",
       "75%       1234.000000\n",
       "max      81204.000000\n",
       "Name: balance, dtype: float64"
      ]
     },
     "execution_count": 22,
     "metadata": {},
     "output_type": "execute_result"
    }
   ],
   "source": [
    "bank[bank.education==\"secondary\"].balance.describe()"
   ]
  },
  {
   "cell_type": "code",
   "execution_count": 23,
   "metadata": {
    "colab": {
     "base_uri": "https://localhost:8080/",
     "height": 183
    },
    "colab_type": "code",
    "id": "Fkg9S7LThIfw",
    "outputId": "e90ea400-317e-4350-e971-6e2c582fb57a"
   },
   "outputs": [
    {
     "data": {
      "text/plain": [
       "count     13301.000000\n",
       "mean       1758.416435\n",
       "std        3839.088305\n",
       "min       -6847.000000\n",
       "25%         104.000000\n",
       "50%         577.000000\n",
       "75%        1804.000000\n",
       "max      102127.000000\n",
       "Name: balance, dtype: float64"
      ]
     },
     "execution_count": 23,
     "metadata": {},
     "output_type": "execute_result"
    }
   ],
   "source": [
    "bank[bank.education==\"tertiary\"].balance.describe()"
   ]
  },
  {
   "cell_type": "code",
   "execution_count": 24,
   "metadata": {
    "colab": {
     "base_uri": "https://localhost:8080/",
     "height": 183
    },
    "colab_type": "code",
    "id": "7WGb6P5uhLNO",
    "outputId": "be9a65b9-249c-41b8-bbe1-8450b6158d23"
   },
   "outputs": [
    {
     "data": {
      "text/plain": [
       "count     1857.000000\n",
       "mean      1526.754443\n",
       "std       3152.228273\n",
       "min      -1445.000000\n",
       "25%        106.000000\n",
       "50%        568.000000\n",
       "75%       1699.000000\n",
       "max      64343.000000\n",
       "Name: balance, dtype: float64"
      ]
     },
     "execution_count": 24,
     "metadata": {},
     "output_type": "execute_result"
    }
   ],
   "source": [
    "bank[bank.education==\"unknown\"].balance.describe()"
   ]
  },
  {
   "cell_type": "code",
   "execution_count": 18,
   "metadata": {
    "colab": {
     "base_uri": "https://localhost:8080/",
     "height": 283
    },
    "colab_type": "code",
    "id": "h9TOUV_4n9_u",
    "outputId": "36e058f2-2b79-47ad-f5e0-51608081e733"
   },
   "outputs": [
    {
     "data": {
      "image/png": "[encoded data removed]",
      "text/plain": [
       "<Figure size 432x288 with 1 Axes>"
      ]
     },
     "metadata": {
      "needs_background": "light"
     },
     "output_type": "display_data"
    }
   ],
   "source": [
    "mean_balance_education=bank.groupby(by=\"education\").balance.mean()\n",
    "sns.barplot(x=mean_balance_education.index, y=mean_balance_education.values, color=\"green\")\n",
    "plt.ylabel(\"Mean balance\")\n",
    "plt.show()"
   ]
  },
  {
   "cell_type": "markdown",
   "metadata": {
    "colab_type": "text",
    "id": "HbPCXYfKox2Q"
   },
   "source": [
    "Cualitativamente, parece haber una gran diferencia entre los niveles de educación superior e inferior, pero la diferencia entre los grupos de educación primaria y secundaria es más difícil de evaluar. Queremos probar si hay una diferencia significativa en cada comparación por pares. Para probar esta secuencia de hipótesis, podemos usar una variante de la prueba de $t$, llamada prueba de **$t$ por pares**."
   ]
  },
  {
   "cell_type": "code",
   "execution_count": 25,
   "metadata": {
    "colab": {
     "base_uri": "https://localhost:8080/",
     "height": 146
    },
    "colab_type": "code",
    "id": "IeAXp9Sbsv1q",
    "outputId": "71a8a597-992f-4132-f433-f94d0a274fdc"
   },
   "outputs": [
    {
     "name": "stdout",
     "output_type": "stream",
     "text": [
      "\t\t\tstatistic\t\tpvalue\n",
      "tertiary vs. secondary\t16.18717929985782\t1.4525474790099814e-58\n",
      "tertiary vs. unknown\t2.8825321831203117\t0.003976238237673688\n",
      "tertiary vs. primary\t10.906634331433306\t1.3023845080432282e-27\n",
      "secondary vs. unknown\t-4.95482328681934\t7.83111710943088e-07\n",
      "secondary vs. primary\t-2.6255174227477864\t0.0086639693661419\n",
      "unknown vs. primary\t3.445496944400963\t0.0005789323657180873\n"
     ]
    }
   ],
   "source": [
    "gb = bank.groupby(['education'])\n",
    "group_names = bank[\"education\"].unique()\n",
    "print(\"\\t\\t\\tstatistic\\t\\tpvalue\")\n",
    "for i in range(len(group_names)):\n",
    "  for j in range(i+1, len(group_names)):\n",
    "    group1 = gb[[\"balance\"]].get_group(group_names[i])\n",
    "    group2 = gb[[\"balance\"]].get_group(group_names[j])\n",
    "    stat, pvalue = stats.ttest_ind(group1, group2, equal_var = False)\n",
    "    print(group_names[i] + \" vs. \" + group_names[j] + \"\\t\" + str(stat[0]) + \"\\t\" + str(pvalue[0]))"
   ]
  },
  {
   "cell_type": "markdown",
   "metadata": {
    "colab_type": "text",
    "id": "t8Cazq0Xvp0B"
   },
   "source": [
    "El resultado de resumen anterior indica que hay una diferencia significativa entre cada comparación por pares."
   ]
  },
  {
   "cell_type": "markdown",
   "metadata": {
    "colab_type": "text",
    "id": "knu1EmVE4wKb"
   },
   "source": [
    "### Ejercicio 7:\n",
    "\n",
    "Hay seis comparaciones en total que deben realizarse porque la variable educación tiene 4 niveles. Discute con un compañero si, en tu opinión, realizar múltiples pruebas simultáneamente puede aumentar el riesgo de inferencias erróneas.\n",
    "\n",
    "¿Qué aumentará: error tipo I o error tipo II?\n",
    "\n",
    "**Respuesta.** Sí, cuantas más comparaciones realicemos simultáneamente, mayor será el riesgo de observar algunos \"falsos positivos\" o cometer un error de tipo I. Básicamente, si torturas los datos lo suficiente, confesará."
   ]
  },
  {
   "cell_type": "markdown",
   "metadata": {},
   "source": [
    "### Comparaciones multiples: correcion de Bonferroni "
   ]
  },
  {
   "cell_type": "markdown",
   "metadata": {},
   "source": [
    "Hay muchas formas de corregir este problema, conocido como el problema de las \"comparaciones múltiples\". Uno de los métodos más clásicos es la corrección de Bonferroni. Este método divide el nivel de significación $\\alpha$ por el número de comparaciones múltiples que se realizan (6 en este caso). Entonces, si nuestro $\\alpha=0.05$, rechazaremos la hipótesis nula solo si el valor de $p$ es menor que 0.00833.\n",
    "\n",
    "Observe que el valor de $p$ - para la comparación entre educación \"primaria\" y \"secundaria\" es 0.02126 y, por lo tanto, es más alto que el nivel de confianza ajustado. Después de la corrección no podemos rechazar la hipótesis nula de que este par tiene medias significativamente diferentes. Varios paquetes de software ajustan directamente los valores de $p$ para aumentar la probabilidad de observar un falso positivo. Si realizamos este método para `educación`, obtenemos el siguiente resultado:"
   ]
  },
  {
   "cell_type": "code",
   "execution_count": 26,
   "metadata": {},
   "outputs": [
    {
     "data": {
      "text/html": [
       "<div>\n",
       "<style scoped>\n",
       "    .dataframe tbody tr th:only-of-type {\n",
       "        vertical-align: middle;\n",
       "    }\n",
       "\n",
       "    .dataframe tbody tr th {\n",
       "        vertical-align: top;\n",
       "    }\n",
       "\n",
       "    .dataframe thead th {\n",
       "        text-align: right;\n",
       "    }\n",
       "</style>\n",
       "<table border=\"1\" class=\"dataframe\">\n",
       "  <thead>\n",
       "    <tr style=\"text-align: right;\">\n",
       "      <th></th>\n",
       "      <th>Contrast</th>\n",
       "      <th>A</th>\n",
       "      <th>B</th>\n",
       "      <th>Paired</th>\n",
       "      <th>Parametric</th>\n",
       "      <th>T</th>\n",
       "      <th>dof</th>\n",
       "      <th>alternative</th>\n",
       "      <th>p-unc</th>\n",
       "      <th>p-corr</th>\n",
       "      <th>p-adjust</th>\n",
       "      <th>BF10</th>\n",
       "      <th>hedges</th>\n",
       "    </tr>\n",
       "  </thead>\n",
       "  <tbody>\n",
       "    <tr>\n",
       "      <th>0</th>\n",
       "      <td>education</td>\n",
       "      <td>primary</td>\n",
       "      <td>secondary</td>\n",
       "      <td>False</td>\n",
       "      <td>True</td>\n",
       "      <td>2.625517</td>\n",
       "      <td>10768.241876</td>\n",
       "      <td>two-sided</td>\n",
       "      <td>8.663969e-03</td>\n",
       "      <td>5.198382e-02</td>\n",
       "      <td>bonf</td>\n",
       "      <td>0.486</td>\n",
       "      <td>0.037105</td>\n",
       "    </tr>\n",
       "    <tr>\n",
       "      <th>1</th>\n",
       "      <td>education</td>\n",
       "      <td>primary</td>\n",
       "      <td>tertiary</td>\n",
       "      <td>False</td>\n",
       "      <td>True</td>\n",
       "      <td>-10.906634</td>\n",
       "      <td>18353.418018</td>\n",
       "      <td>two-sided</td>\n",
       "      <td>1.302385e-27</td>\n",
       "      <td>7.814307e-27</td>\n",
       "      <td>bonf</td>\n",
       "      <td>9.088e+23</td>\n",
       "      <td>-0.145344</td>\n",
       "    </tr>\n",
       "    <tr>\n",
       "      <th>2</th>\n",
       "      <td>education</td>\n",
       "      <td>primary</td>\n",
       "      <td>unknown</td>\n",
       "      <td>False</td>\n",
       "      <td>True</td>\n",
       "      <td>-3.445497</td>\n",
       "      <td>2633.681528</td>\n",
       "      <td>two-sided</td>\n",
       "      <td>5.789324e-04</td>\n",
       "      <td>3.473594e-03</td>\n",
       "      <td>bonf</td>\n",
       "      <td>10.941</td>\n",
       "      <td>-0.098651</td>\n",
       "    </tr>\n",
       "    <tr>\n",
       "      <th>3</th>\n",
       "      <td>education</td>\n",
       "      <td>secondary</td>\n",
       "      <td>tertiary</td>\n",
       "      <td>False</td>\n",
       "      <td>True</td>\n",
       "      <td>-16.187179</td>\n",
       "      <td>20183.403282</td>\n",
       "      <td>two-sided</td>\n",
       "      <td>1.452547e-58</td>\n",
       "      <td>8.715285e-58</td>\n",
       "      <td>bonf</td>\n",
       "      <td>5.742e+54</td>\n",
       "      <td>-0.195497</td>\n",
       "    </tr>\n",
       "    <tr>\n",
       "      <th>4</th>\n",
       "      <td>education</td>\n",
       "      <td>secondary</td>\n",
       "      <td>unknown</td>\n",
       "      <td>False</td>\n",
       "      <td>True</td>\n",
       "      <td>-4.954823</td>\n",
       "      <td>2056.380989</td>\n",
       "      <td>two-sided</td>\n",
       "      <td>7.831117e-07</td>\n",
       "      <td>4.698670e-06</td>\n",
       "      <td>bonf</td>\n",
       "      <td>5633.685</td>\n",
       "      <td>-0.142646</td>\n",
       "    </tr>\n",
       "    <tr>\n",
       "      <th>5</th>\n",
       "      <td>education</td>\n",
       "      <td>tertiary</td>\n",
       "      <td>unknown</td>\n",
       "      <td>False</td>\n",
       "      <td>True</td>\n",
       "      <td>2.882532</td>\n",
       "      <td>2688.204879</td>\n",
       "      <td>two-sided</td>\n",
       "      <td>3.976238e-03</td>\n",
       "      <td>2.385743e-02</td>\n",
       "      <td>bonf</td>\n",
       "      <td>1.76</td>\n",
       "      <td>0.061581</td>\n",
       "    </tr>\n",
       "  </tbody>\n",
       "</table>\n",
       "</div>"
      ],
      "text/plain": [
       "    Contrast          A          B  Paired  Parametric          T  \\\n",
       "0  education    primary  secondary   False        True   2.625517   \n",
       "1  education    primary   tertiary   False        True -10.906634   \n",
       "2  education    primary    unknown   False        True  -3.445497   \n",
       "3  education  secondary   tertiary   False        True -16.187179   \n",
       "4  education  secondary    unknown   False        True  -4.954823   \n",
       "5  education   tertiary    unknown   False        True   2.882532   \n",
       "\n",
       "            dof alternative         p-unc        p-corr p-adjust       BF10  \\\n",
       "0  10768.241876   two-sided  8.663969e-03  5.198382e-02     bonf      0.486   \n",
       "1  18353.418018   two-sided  1.302385e-27  7.814307e-27     bonf  9.088e+23   \n",
       "2   2633.681528   two-sided  5.789324e-04  3.473594e-03     bonf     10.941   \n",
       "3  20183.403282   two-sided  1.452547e-58  8.715285e-58     bonf  5.742e+54   \n",
       "4   2056.380989   two-sided  7.831117e-07  4.698670e-06     bonf   5633.685   \n",
       "5   2688.204879   two-sided  3.976238e-03  2.385743e-02     bonf       1.76   \n",
       "\n",
       "     hedges  \n",
       "0  0.037105  \n",
       "1 -0.145344  \n",
       "2 -0.098651  \n",
       "3 -0.195497  \n",
       "4 -0.142646  \n",
       "5  0.061581  "
      ]
     },
     "execution_count": 26,
     "metadata": {},
     "output_type": "execute_result"
    }
   ],
   "source": [
    "pairwise_results = pairwise_ttests(dv='balance', between = ['education'], padjust='bonf', data=bank)\n",
    "pairwise_results"
   ]
  },
  {
   "cell_type": "markdown",
   "metadata": {
    "colab_type": "text",
    "id": "nZh7n2nF42Fc"
   },
   "source": [
    "En la tabla anterior, ``p-unc`` representa el valor de $p$ no corregido, y ``p-adjust`` representa el valor de $p$ corregido. El valor $p$ ajustado para \"secundario frente a primario\" es 0,052 (mayor que 0,05), lo que confirma nuestro cálculo. Por lo tanto, rechazamos todas las hipótesis nulas excepto el caso de \"secundaria versus primaria\"."
   ]
  },
  {
   "cell_type": "markdown",
   "metadata": {
    "colab_type": "text",
    "id": "-qaM4jO-46fb"
   },
   "source": [
    "### Ejercicio 8:\n",
    "\n",
    "Realice un análisis exploratorio de datos del saldo bancario por puesto de trabajo. Escriba código para responder a las siguientes dos preguntas:\n",
    "\n",
    "1. ¿Los medios del grupo son los mismos? Escribe una hipótesis para esto, indicando claramente qué es $H_0$.\n",
    "2. Hacer una prueba de hipótesis por pares para comparar las medias de los diferentes grupos, aplicando la corrección de Bonferroni.\n",
    "3. ¿Le sorprende alguno de los resultados de las pruebas de hipótesis de los clientes en la gestión frente a otros grupos?"
   ]
  },
  {
   "cell_type": "code",
   "execution_count": 27,
   "metadata": {
    "colab": {
     "base_uri": "https://localhost:8080/",
     "height": 301
    },
    "colab_type": "code",
    "id": "wq-dt-G25YqE",
    "outputId": "d2c7ad4e-cb52-4526-b8b9-4beae7092b01"
   },
   "outputs": [
    {
     "data": {
      "image/png": "[encoded data removed]",
      "text/plain": [
       "<Figure size 1008x288 with 1 Axes>"
      ]
     },
     "metadata": {
      "needs_background": "light"
     },
     "output_type": "display_data"
    }
   ],
   "source": [
    "boxplot = bank.boxplot(column=['balance'], by=\"job\",figsize=(14,4))\n",
    "boxplot.axes.set_title(\"\")\n",
    "plt.ylabel('balance')\n",
    "plt.show()"
   ]
  },
  {
   "cell_type": "code",
   "execution_count": 28,
   "metadata": {
    "colab": {
     "base_uri": "https://localhost:8080/",
     "height": 283
    },
    "colab_type": "code",
    "id": "l2c4a9Kg5_7f",
    "outputId": "4aa6c269-f794-43d7-c2ef-f383fe9f7282"
   },
   "outputs": [
    {
     "data": {
      "image/png": "[encoded data removed]",
      "text/plain": [
       "<Figure size 1008x288 with 1 Axes>"
      ]
     },
     "metadata": {
      "needs_background": "light"
     },
     "output_type": "display_data"
    }
   ],
   "source": [
    "plt.figure(figsize=(14,4))\n",
    "ax = sns.stripplot(x=\"job\", y=\"balance\", data=bank)\n",
    "plt.ylabel('balance')\n",
    "plt.show()"
   ]
  },
  {
   "cell_type": "code",
   "execution_count": 29,
   "metadata": {
    "colab": {
     "base_uri": "https://localhost:8080/",
     "height": 110
    },
    "colab_type": "code",
    "id": "U2mqZvB_7TFT",
    "outputId": "01e6ae84-b2ce-4b4f-ebb8-e1774648ab14"
   },
   "outputs": [
    {
     "data": {
      "text/html": [
       "<div>\n",
       "<style scoped>\n",
       "    .dataframe tbody tr th:only-of-type {\n",
       "        vertical-align: middle;\n",
       "    }\n",
       "\n",
       "    .dataframe tbody tr th {\n",
       "        vertical-align: top;\n",
       "    }\n",
       "\n",
       "    .dataframe thead th {\n",
       "        text-align: right;\n",
       "    }\n",
       "</style>\n",
       "<table border=\"1\" class=\"dataframe\">\n",
       "  <thead>\n",
       "    <tr style=\"text-align: right;\">\n",
       "      <th></th>\n",
       "      <th>sum_sq</th>\n",
       "      <th>df</th>\n",
       "      <th>F</th>\n",
       "      <th>PR(&gt;F)</th>\n",
       "    </tr>\n",
       "  </thead>\n",
       "  <tbody>\n",
       "    <tr>\n",
       "      <th>job</th>\n",
       "      <td>4.341414e+09</td>\n",
       "      <td>11.0</td>\n",
       "      <td>43.007783</td>\n",
       "      <td>5.709430e-94</td>\n",
       "    </tr>\n",
       "    <tr>\n",
       "      <th>Residual</th>\n",
       "      <td>4.147824e+11</td>\n",
       "      <td>45199.0</td>\n",
       "      <td>NaN</td>\n",
       "      <td>NaN</td>\n",
       "    </tr>\n",
       "  </tbody>\n",
       "</table>\n",
       "</div>"
      ],
      "text/plain": [
       "                sum_sq       df          F        PR(>F)\n",
       "job       4.341414e+09     11.0  43.007783  5.709430e-94\n",
       "Residual  4.147824e+11  45199.0        NaN           NaN"
      ]
     },
     "execution_count": 29,
     "metadata": {},
     "output_type": "execute_result"
    }
   ],
   "source": [
    "mod = ols('balance ~ job', data=bank).fit()  \n",
    "aov_table = sm.stats.anova_lm(mod, typ=2)\n",
    "aov_table"
   ]
  },
  {
   "cell_type": "code",
   "execution_count": 30,
   "metadata": {},
   "outputs": [
    {
     "data": {
      "text/html": [
       "<div>\n",
       "<style scoped>\n",
       "    .dataframe tbody tr th:only-of-type {\n",
       "        vertical-align: middle;\n",
       "    }\n",
       "\n",
       "    .dataframe tbody tr th {\n",
       "        vertical-align: top;\n",
       "    }\n",
       "\n",
       "    .dataframe thead th {\n",
       "        text-align: right;\n",
       "    }\n",
       "</style>\n",
       "<table border=\"1\" class=\"dataframe\">\n",
       "  <thead>\n",
       "    <tr style=\"text-align: right;\">\n",
       "      <th></th>\n",
       "      <th>Contrast</th>\n",
       "      <th>A</th>\n",
       "      <th>B</th>\n",
       "      <th>Paired</th>\n",
       "      <th>Parametric</th>\n",
       "      <th>T</th>\n",
       "      <th>dof</th>\n",
       "      <th>alternative</th>\n",
       "      <th>p-unc</th>\n",
       "      <th>p-corr</th>\n",
       "      <th>p-adjust</th>\n",
       "      <th>BF10</th>\n",
       "      <th>hedges</th>\n",
       "    </tr>\n",
       "  </thead>\n",
       "  <tbody>\n",
       "    <tr>\n",
       "      <th>38</th>\n",
       "      <td>job</td>\n",
       "      <td>management</td>\n",
       "      <td>retired</td>\n",
       "      <td>False</td>\n",
       "      <td>True</td>\n",
       "      <td>-2.196665</td>\n",
       "      <td>3131.535808</td>\n",
       "      <td>two-sided</td>\n",
       "      <td>2.811739e-02</td>\n",
       "      <td>1.000000e+00</td>\n",
       "      <td>bonf</td>\n",
       "      <td>0.293</td>\n",
       "      <td>-0.055981</td>\n",
       "    </tr>\n",
       "    <tr>\n",
       "      <th>39</th>\n",
       "      <td>job</td>\n",
       "      <td>management</td>\n",
       "      <td>self-employed</td>\n",
       "      <td>False</td>\n",
       "      <td>True</td>\n",
       "      <td>1.148353</td>\n",
       "      <td>2184.520136</td>\n",
       "      <td>two-sided</td>\n",
       "      <td>2.509488e-01</td>\n",
       "      <td>1.000000e+00</td>\n",
       "      <td>bonf</td>\n",
       "      <td>0.059</td>\n",
       "      <td>0.030404</td>\n",
       "    </tr>\n",
       "    <tr>\n",
       "      <th>40</th>\n",
       "      <td>job</td>\n",
       "      <td>management</td>\n",
       "      <td>services</td>\n",
       "      <td>False</td>\n",
       "      <td>True</td>\n",
       "      <td>14.825903</td>\n",
       "      <td>12787.547265</td>\n",
       "      <td>two-sided</td>\n",
       "      <td>2.556646e-49</td>\n",
       "      <td>1.687386e-47</td>\n",
       "      <td>bonf</td>\n",
       "      <td>4.105e+45</td>\n",
       "      <td>0.225194</td>\n",
       "    </tr>\n",
       "    <tr>\n",
       "      <th>41</th>\n",
       "      <td>job</td>\n",
       "      <td>management</td>\n",
       "      <td>student</td>\n",
       "      <td>False</td>\n",
       "      <td>True</td>\n",
       "      <td>4.225002</td>\n",
       "      <td>1439.557060</td>\n",
       "      <td>two-sided</td>\n",
       "      <td>2.539487e-05</td>\n",
       "      <td>1.676061e-03</td>\n",
       "      <td>bonf</td>\n",
       "      <td>276.437</td>\n",
       "      <td>0.100961</td>\n",
       "    </tr>\n",
       "    <tr>\n",
       "      <th>42</th>\n",
       "      <td>job</td>\n",
       "      <td>management</td>\n",
       "      <td>technician</td>\n",
       "      <td>False</td>\n",
       "      <td>True</td>\n",
       "      <td>10.429971</td>\n",
       "      <td>16520.443985</td>\n",
       "      <td>two-sided</td>\n",
       "      <td>2.169693e-25</td>\n",
       "      <td>1.431997e-23</td>\n",
       "      <td>bonf</td>\n",
       "      <td>5.845e+21</td>\n",
       "      <td>0.154074</td>\n",
       "    </tr>\n",
       "    <tr>\n",
       "      <th>43</th>\n",
       "      <td>job</td>\n",
       "      <td>management</td>\n",
       "      <td>unemployed</td>\n",
       "      <td>False</td>\n",
       "      <td>True</td>\n",
       "      <td>2.530687</td>\n",
       "      <td>1875.469495</td>\n",
       "      <td>two-sided</td>\n",
       "      <td>1.146511e-02</td>\n",
       "      <td>7.566972e-01</td>\n",
       "      <td>bonf</td>\n",
       "      <td>0.809</td>\n",
       "      <td>0.064539</td>\n",
       "    </tr>\n",
       "    <tr>\n",
       "      <th>44</th>\n",
       "      <td>job</td>\n",
       "      <td>management</td>\n",
       "      <td>unknown</td>\n",
       "      <td>False</td>\n",
       "      <td>True</td>\n",
       "      <td>-0.048726</td>\n",
       "      <td>316.659804</td>\n",
       "      <td>two-sided</td>\n",
       "      <td>9.611682e-01</td>\n",
       "      <td>1.000000e+00</td>\n",
       "      <td>bonf</td>\n",
       "      <td>0.067</td>\n",
       "      <td>-0.002300</td>\n",
       "    </tr>\n",
       "  </tbody>\n",
       "</table>\n",
       "</div>"
      ],
      "text/plain": [
       "   Contrast           A              B  Paired  Parametric          T  \\\n",
       "38      job  management        retired   False        True  -2.196665   \n",
       "39      job  management  self-employed   False        True   1.148353   \n",
       "40      job  management       services   False        True  14.825903   \n",
       "41      job  management        student   False        True   4.225002   \n",
       "42      job  management     technician   False        True  10.429971   \n",
       "43      job  management     unemployed   False        True   2.530687   \n",
       "44      job  management        unknown   False        True  -0.048726   \n",
       "\n",
       "             dof alternative         p-unc        p-corr p-adjust       BF10  \\\n",
       "38   3131.535808   two-sided  2.811739e-02  1.000000e+00     bonf      0.293   \n",
       "39   2184.520136   two-sided  2.509488e-01  1.000000e+00     bonf      0.059   \n",
       "40  12787.547265   two-sided  2.556646e-49  1.687386e-47     bonf  4.105e+45   \n",
       "41   1439.557060   two-sided  2.539487e-05  1.676061e-03     bonf    276.437   \n",
       "42  16520.443985   two-sided  2.169693e-25  1.431997e-23     bonf  5.845e+21   \n",
       "43   1875.469495   two-sided  1.146511e-02  7.566972e-01     bonf      0.809   \n",
       "44    316.659804   two-sided  9.611682e-01  1.000000e+00     bonf      0.067   \n",
       "\n",
       "      hedges  \n",
       "38 -0.055981  \n",
       "39  0.030404  \n",
       "40  0.225194  \n",
       "41  0.100961  \n",
       "42  0.154074  \n",
       "43  0.064539  \n",
       "44 -0.002300  "
      ]
     },
     "execution_count": 30,
     "metadata": {},
     "output_type": "execute_result"
    }
   ],
   "source": [
    "pairwise_job_results = pairwise_ttests(dv='balance', between = ['job'], padjust='bonf', data=bank)\n",
    "pairwise_job_results[pairwise_job_results['A']=='management']"
   ]
  },
  {
   "cell_type": "markdown",
   "metadata": {},
   "source": [
    "El saldo de la cuenta de clientes desempleados y clientes de administración no es significativamente diferente, ¡y esto es sorprendente!"
   ]
  },
  {
   "cell_type": "markdown",
   "metadata": {
    "colab_type": "text",
    "id": "4Sm485Wg7Xh8"
   },
   "source": [
    "## Conclusiones\n",
    "\n",
    "Después de realizar un análisis exploratorio de datos, presentamos formalmente las pruebas de hipótesis. Vimos que el nivel de educación definitivamente afecta el saldo bancario; los clientes con educación terciaria parecen tener una diferencia estadísticamente significativa en el saldo bancario en comparación con el resto de la población. Sin embargo, después de ajustar por múltiples pruebas, no parece haber una diferencia estadísticamente significativa entre los clientes con educación primaria y secundaria. También vimos algunas diferencias estadísticamente significativas en los saldos bancarios de clientes con diferentes perfiles de trabajo."
   ]
  },
  {
   "cell_type": "markdown",
   "metadata": {},
   "source": [
    "## Adicionales\n",
    "\n",
    "La segmentación de clientes requiere analizar las diferencias entre diferentes subgrupos de clientes. Las diferencias observadas no corresponden necesariamente a diferencias estadísticamente significativas. La prueba de hipótesis puede ayudarnos a identificar diferencias que son demasiado extremas para que sucedan al azar.\n",
    "\n",
    "Sin embargo, la prueba de hipótesis no es solo una aplicación rutinaria de reglas; tenemos que ser conscientes del problema de las comparaciones múltiples. De ahí viene el problema de los \"monos en una máquina de escribir\". Una corrección de Bonferroni contribuye en gran medida a mitigar el problema de observar demasiados resultados falsos positivos al realizar una gran cantidad de pruebas de hipótesis."
   ]
  }
 ],
 "metadata": {
  "colab": {
   "collapsed_sections": [],
   "name": "Case2.1.ipynb",
   "provenance": []
  },
  "kernelspec": {
   "display_name": "Python 3 (ipykernel)",
   "language": "python",
   "name": "python3"
  },
  "language_info": {
   "codemirror_mode": {
    "name": "ipython",
    "version": 3
   },
   "file_extension": ".py",
   "mimetype": "text/x-python",
   "name": "python",
   "nbconvert_exporter": "python",
   "pygments_lexer": "ipython3",
   "version": "3.9.12"
  }
 },
 "nbformat": 4,
 "nbformat_minor": 1
}
