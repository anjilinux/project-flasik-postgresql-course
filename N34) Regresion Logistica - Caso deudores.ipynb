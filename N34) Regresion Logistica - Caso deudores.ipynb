{
 "cells": [
  {
   "cell_type": "markdown",
   "metadata": {},
   "source": [
    "# ¿Qué tan importante es la fuente de ingresos de un solicitante de préstamo en línea?"
   ]
  },
  {
   "cell_type": "code",
   "execution_count": 1,
   "metadata": {},
   "outputs": [],
   "source": [
    "import pandas as pd\n",
    "import numpy  as np\n",
    "from scipy.stats import chi2_contingency\n",
    "import statsmodels.api as sm\n",
    "from sklearn.metrics import roc_curve, auc\n",
    "from sklearn.model_selection import StratifiedKFold\n",
    "import matplotlib.pyplot as plt\n",
    "from scipy import interp\n",
    "from statsmodels.formula.api import ols\n",
    "import seaborn as sns\n",
    "from matplotlib.widgets import Slider, Button, RadioButtons\n",
    "from scipy.optimize import fsolve\n",
    "\n",
    "#get_ipython().magic(u'matplotlib inline')"
   ]
  },
  {
   "cell_type": "markdown",
   "metadata": {},
   "source": [
    "## Introduccion"
   ]
  },
  {
   "cell_type": "markdown",
   "metadata": {},
   "source": [
    "**Contexto comercial.** Los préstamos en línea entre pares (P2P) han facilitado la práctica de pedir prestado y prestar. En esta forma de préstamo, no hay una entrevista en persona y un solicitante simplemente puede completar un formulario en línea y obtener la aprobación de un préstamo. La información proporcionada únicamente por el solicitante es propensa a la exageración y la distorsión, especialmente cuando se trata de ingresos. Cada empresa de préstamos P2P se basa en un procedimiento bien diseñado que rechaza a los prestatarios con una alta probabilidad de no pagar sus deudas.\n",
    "\n",
    "Rechazar a cualquier persona sin una fuente de ingresos verificada es una política relevante que las plataformas de préstamos pueden implementar para ayudar a reducir la tasa de préstamos incobrables. Es natural sospechar que si la fuente de ingresos de una persona no se puede verificar, entonces podría dejar de pagar el préstamo. Sin embargo, desde la perspectiva de un solicitante, el proceso de verificación puede ser engorroso y llevar mucho tiempo y es posible que simplemente cambien a otra plataforma debido a este inconveniente.\n",
    "\n",
    "**Problema comercial.** Como científico de datos en una empresa emergente de préstamos P2P, debe responder la siguiente pregunta: **\"¿Debe la empresa verificar la fuente de ingresos de un solicitante de préstamo en línea antes de aprobar su préstamo?\"**\n",
    "\n",
    "**Contexto analítico.** Los datos se descargan de [Estadísticas de LendingClub](https://www.lendingclub.com/info/download-data.action) y contienen todos los préstamos emitidos entre 2007 y 2012 junto con su préstamo actual estado (totalmente pagado o cancelado). Hay ~50 variables que describen a los solicitantes y los préstamos; En aras de reducir la complejidad, la empresa ya ha realizado una preselección de estas variables en función de los análisis existentes de LendingClub para seleccionar nueve variables relevantes, como los ingresos anuales, la calificación crediticia de LendingClub, la propiedad de la vivienda, etc. Usaremos un nuevo técnica, **regresión logística**, para responder a nuestra pregunta en cuestión.\n",
    "\n",
    "El caso está estructurado de la siguiente manera: 1) explorará los datos existentes para tener una idea aproximada de cómo interactúa cada variable en el conjunto de datos con el estado actual del préstamo; 2) examinar los posibles efectos de confusión; 3) aprender los conceptos básicos de los modelos de regresión logística; y finalmente 4) ajuste una serie de modelos de regresión logística para determinar si la verificación de la fuente de ingresos es significativa o no."
   ]
  },
  {
   "cell_type": "markdown",
   "metadata": {},
   "source": [
    "## Exploración de data"
   ]
  },
  {
   "cell_type": "code",
   "execution_count": 2,
   "metadata": {},
   "outputs": [],
   "source": [
    "df = pd.read_csv(\"Lending_club_cleaned_2.csv\")\n",
    "df.loan_status = df.loan_status.astype(pd.api.types.CategoricalDtype(categories=[\"Charged Off\", \"Fully Paid\"]))\n",
    "df.verification_status = df.verification_status.astype(pd.api.types.CategoricalDtype(categories=['Not Verified', 'Source Verified', 'Verified']))\n",
    "df.emp_length = df.emp_length.astype(pd.api.types.CategoricalDtype(categories=[\"< 1 year\", \"1 year\", \"2 years\", \"3 years\", \"4 years\", \\\n",
    "                                                             \"5 years\", \"6 years\", \"7 years\", \"8 years\", \"9 years\", \\\n",
    "                                                             \"10+ years\"]))\n",
    "df.home_ownership = df.home_ownership.astype(pd.api.types.CategoricalDtype(categories=[\"RENT\", \"MORTGAGE\",\"OWN\",\"OTHER\"]))\n",
    "df.term = df.term.astype(pd.api.types.CategoricalDtype(categories=[\" 36 months\", \" 60 months\"]))\n",
    "df.grade = df.grade.astype(pd.api.types.CategoricalDtype(categories=[\"A\",\"B\",\"C\",\"D\",\"E\",\"F\",\"G\"]))\n",
    "df.int_rate = df.int_rate.str.rstrip(\"%\").astype(\"float\")"
   ]
  },
  {
   "cell_type": "code",
   "execution_count": 3,
   "metadata": {},
   "outputs": [
    {
     "data": {
      "text/plain": [
       "(38705, 10)"
      ]
     },
     "execution_count": 3,
     "metadata": {},
     "output_type": "execute_result"
    }
   ],
   "source": [
    "df.shape"
   ]
  },
  {
   "cell_type": "code",
   "execution_count": 4,
   "metadata": {},
   "outputs": [
    {
     "data": {
      "text/html": [
       "<div>\n",
       "<style scoped>\n",
       "    .dataframe tbody tr th:only-of-type {\n",
       "        vertical-align: middle;\n",
       "    }\n",
       "\n",
       "    .dataframe tbody tr th {\n",
       "        vertical-align: top;\n",
       "    }\n",
       "\n",
       "    .dataframe thead th {\n",
       "        text-align: right;\n",
       "    }\n",
       "</style>\n",
       "<table border=\"1\" class=\"dataframe\">\n",
       "  <thead>\n",
       "    <tr style=\"text-align: right;\">\n",
       "      <th></th>\n",
       "      <th>loan_status</th>\n",
       "      <th>annual_inc</th>\n",
       "      <th>verification_status</th>\n",
       "      <th>emp_length</th>\n",
       "      <th>home_ownership</th>\n",
       "      <th>int_rate</th>\n",
       "      <th>loan_amnt</th>\n",
       "      <th>purpose</th>\n",
       "      <th>term</th>\n",
       "      <th>grade</th>\n",
       "    </tr>\n",
       "  </thead>\n",
       "  <tbody>\n",
       "    <tr>\n",
       "      <th>0</th>\n",
       "      <td>Fully Paid</td>\n",
       "      <td>24000.0</td>\n",
       "      <td>Verified</td>\n",
       "      <td>10+ years</td>\n",
       "      <td>RENT</td>\n",
       "      <td>10.65</td>\n",
       "      <td>5000</td>\n",
       "      <td>credit_card</td>\n",
       "      <td>36 months</td>\n",
       "      <td>B</td>\n",
       "    </tr>\n",
       "    <tr>\n",
       "      <th>1</th>\n",
       "      <td>Charged Off</td>\n",
       "      <td>30000.0</td>\n",
       "      <td>Source Verified</td>\n",
       "      <td>&lt; 1 year</td>\n",
       "      <td>RENT</td>\n",
       "      <td>15.27</td>\n",
       "      <td>2500</td>\n",
       "      <td>car</td>\n",
       "      <td>60 months</td>\n",
       "      <td>C</td>\n",
       "    </tr>\n",
       "    <tr>\n",
       "      <th>2</th>\n",
       "      <td>Fully Paid</td>\n",
       "      <td>12252.0</td>\n",
       "      <td>Not Verified</td>\n",
       "      <td>10+ years</td>\n",
       "      <td>RENT</td>\n",
       "      <td>15.96</td>\n",
       "      <td>2400</td>\n",
       "      <td>small_business</td>\n",
       "      <td>36 months</td>\n",
       "      <td>C</td>\n",
       "    </tr>\n",
       "    <tr>\n",
       "      <th>3</th>\n",
       "      <td>Fully Paid</td>\n",
       "      <td>49200.0</td>\n",
       "      <td>Source Verified</td>\n",
       "      <td>10+ years</td>\n",
       "      <td>RENT</td>\n",
       "      <td>13.49</td>\n",
       "      <td>10000</td>\n",
       "      <td>other</td>\n",
       "      <td>36 months</td>\n",
       "      <td>C</td>\n",
       "    </tr>\n",
       "    <tr>\n",
       "      <th>4</th>\n",
       "      <td>Fully Paid</td>\n",
       "      <td>80000.0</td>\n",
       "      <td>Source Verified</td>\n",
       "      <td>1 year</td>\n",
       "      <td>RENT</td>\n",
       "      <td>12.69</td>\n",
       "      <td>3000</td>\n",
       "      <td>other</td>\n",
       "      <td>60 months</td>\n",
       "      <td>B</td>\n",
       "    </tr>\n",
       "    <tr>\n",
       "      <th>5</th>\n",
       "      <td>Fully Paid</td>\n",
       "      <td>36000.0</td>\n",
       "      <td>Source Verified</td>\n",
       "      <td>3 years</td>\n",
       "      <td>RENT</td>\n",
       "      <td>7.90</td>\n",
       "      <td>5000</td>\n",
       "      <td>wedding</td>\n",
       "      <td>36 months</td>\n",
       "      <td>A</td>\n",
       "    </tr>\n",
       "    <tr>\n",
       "      <th>6</th>\n",
       "      <td>Fully Paid</td>\n",
       "      <td>47004.0</td>\n",
       "      <td>Not Verified</td>\n",
       "      <td>8 years</td>\n",
       "      <td>RENT</td>\n",
       "      <td>15.96</td>\n",
       "      <td>7000</td>\n",
       "      <td>debt_consolidation</td>\n",
       "      <td>60 months</td>\n",
       "      <td>C</td>\n",
       "    </tr>\n",
       "    <tr>\n",
       "      <th>7</th>\n",
       "      <td>Fully Paid</td>\n",
       "      <td>48000.0</td>\n",
       "      <td>Source Verified</td>\n",
       "      <td>9 years</td>\n",
       "      <td>RENT</td>\n",
       "      <td>18.64</td>\n",
       "      <td>3000</td>\n",
       "      <td>car</td>\n",
       "      <td>36 months</td>\n",
       "      <td>E</td>\n",
       "    </tr>\n",
       "    <tr>\n",
       "      <th>8</th>\n",
       "      <td>Charged Off</td>\n",
       "      <td>40000.0</td>\n",
       "      <td>Source Verified</td>\n",
       "      <td>4 years</td>\n",
       "      <td>OWN</td>\n",
       "      <td>21.28</td>\n",
       "      <td>5600</td>\n",
       "      <td>small_business</td>\n",
       "      <td>60 months</td>\n",
       "      <td>F</td>\n",
       "    </tr>\n",
       "    <tr>\n",
       "      <th>9</th>\n",
       "      <td>Charged Off</td>\n",
       "      <td>15000.0</td>\n",
       "      <td>Verified</td>\n",
       "      <td>&lt; 1 year</td>\n",
       "      <td>RENT</td>\n",
       "      <td>12.69</td>\n",
       "      <td>5375</td>\n",
       "      <td>other</td>\n",
       "      <td>60 months</td>\n",
       "      <td>B</td>\n",
       "    </tr>\n",
       "  </tbody>\n",
       "</table>\n",
       "</div>"
      ],
      "text/plain": [
       "   loan_status  annual_inc verification_status emp_length home_ownership  \\\n",
       "0   Fully Paid     24000.0            Verified  10+ years           RENT   \n",
       "1  Charged Off     30000.0     Source Verified   < 1 year           RENT   \n",
       "2   Fully Paid     12252.0        Not Verified  10+ years           RENT   \n",
       "3   Fully Paid     49200.0     Source Verified  10+ years           RENT   \n",
       "4   Fully Paid     80000.0     Source Verified     1 year           RENT   \n",
       "5   Fully Paid     36000.0     Source Verified    3 years           RENT   \n",
       "6   Fully Paid     47004.0        Not Verified    8 years           RENT   \n",
       "7   Fully Paid     48000.0     Source Verified    9 years           RENT   \n",
       "8  Charged Off     40000.0     Source Verified    4 years            OWN   \n",
       "9  Charged Off     15000.0            Verified   < 1 year           RENT   \n",
       "\n",
       "   int_rate  loan_amnt             purpose        term grade  \n",
       "0     10.65       5000         credit_card   36 months     B  \n",
       "1     15.27       2500                 car   60 months     C  \n",
       "2     15.96       2400      small_business   36 months     C  \n",
       "3     13.49      10000               other   36 months     C  \n",
       "4     12.69       3000               other   60 months     B  \n",
       "5      7.90       5000             wedding   36 months     A  \n",
       "6     15.96       7000  debt_consolidation   60 months     C  \n",
       "7     18.64       3000                 car   36 months     E  \n",
       "8     21.28       5600      small_business   60 months     F  \n",
       "9     12.69       5375               other   60 months     B  "
      ]
     },
     "execution_count": 4,
     "metadata": {},
     "output_type": "execute_result"
    }
   ],
   "source": [
    "df.head(10)"
   ]
  },
  {
   "cell_type": "markdown",
   "metadata": {},
   "source": [
    "Tenemos 38706 registros de transacciones pasadas en este conjunto de datos. Cada registro corresponde a un préstamo aprobado. La primera columna indica si el solicitante canceló el préstamo (pagado en su totalidad) o no (cancelado). Las descripciones de las otras nueve columnas son las siguientes:"
   ]
  },
  {
   "cell_type": "markdown",
   "metadata": {},
   "source": [
    "|      annual_inc     |                                                 The self-reported annual income provided by the borrower during registration.                                                |\n",
    "|:-------------------:|:----------------------------------------------------------------------------------------------------------------------------------------------------------------------------:|\n",
    "| verification_status |                                          Indicates if income was verified by LC, not verified, or if the income source was verified                                          |\n",
    "|      emp_length     |                       Employment length in years. Possible values are between 0 and 10 where 0 means less than one year and 10 means ten or more years.                      |\n",
    "|    home_ownership   |             The home ownership status provided by the borrower during registration or obtained from the credit report. Our values are: RENT, OWN, MORTGAGE, OTHER            |\n",
    "|       int_rate      |                                                                           Interest Rate on the loan                                                                          |\n",
    "|      loan_amnt      | The listed amount of the loan applied for by the borrower. If at some point in time, the credit department reduces the loan amount, then it will be reflected in this value. |\n",
    "|       purpose       |                                                           A category provided by the borrower for the loan request.                                                          |\n",
    "|         term        |                                             The number of payments on the loan. Values are in months and can be either 36 or 60.                                             |\n",
    "|        grade        |                                                                            LC assigned loan grade                                                                            |"
   ]
  },
  {
   "cell_type": "markdown",
   "metadata": {},
   "source": [
    "### Relaciones entre `loan_status` y otras variables"
   ]
  },
  {
   "cell_type": "markdown",
   "metadata": {},
   "source": [
    "Primero realizamos EDA para examinar la relación por pares entre `loan_status` y cada una de las otras variables. Tenemos variables discretas y continuas en el conjunto de datos. Consideremos primero las variables continuas."
   ]
  },
  {
   "cell_type": "markdown",
   "metadata": {},
   "source": [
    "### Ejercicio 1\n",
    "\n",
    "Utilice la función `boxplot()` del paquete `seaborn` para visualizar las distribuciones de `annual_inc`, `int_rate` y `loan_amnt` en usuarios que pagaron completamente sus deudas frente a aquellos que no lo hicieron. ¿Ves una gran diferencia en las distribuciones?"
   ]
  },
  {
   "cell_type": "code",
   "execution_count": 5,
   "metadata": {
    "scrolled": true
   },
   "outputs": [
    {
     "data": {
      "image/png": "[encoded data removed]",
      "text/plain": [
       "<Figure size 432x288 with 1 Axes>"
      ]
     },
     "metadata": {
      "needs_background": "light"
     },
     "output_type": "display_data"
    }
   ],
   "source": [
    "sns.boxplot(y=\"annual_inc\", x=\"loan_status\", data = df).set_yscale('log');"
   ]
  },
  {
   "cell_type": "markdown",
   "metadata": {},
   "source": [
    "Podemos ver un ligero aumento en la media de los ingresos anuales cuando se comparan los usuarios totalmente pagados con los usuarios cancelados."
   ]
  },
  {
   "cell_type": "code",
   "execution_count": 6,
   "metadata": {},
   "outputs": [
    {
     "data": {
      "image/png": "[encoded data removed]",
      "text/plain": [
       "<Figure size 432x288 with 1 Axes>"
      ]
     },
     "metadata": {
      "needs_background": "light"
     },
     "output_type": "display_data"
    }
   ],
   "source": [
    "sns.boxplot(y=\"int_rate\", x ='loan_status', data = df);"
   ]
  },
  {
   "cell_type": "markdown",
   "metadata": {},
   "source": [
    "La diferencia entre usuarios cancelados y usuarios totalmente pagados en la distribución de `int_rate` es más drástica. El diagrama de caja para los usuarios totalmente pagados es más bajo que el de los usuarios cancelados. Este resultado es el esperado, ya que las tasas de interés más altas aumentarían la cantidad real de dinero que un usuario tiene que pagar."
   ]
  },
  {
   "cell_type": "code",
   "execution_count": 7,
   "metadata": {
    "scrolled": true
   },
   "outputs": [
    {
     "data": {
      "text/plain": [
       "<AxesSubplot:xlabel='loan_status', ylabel='loan_amnt'>"
      ]
     },
     "execution_count": 7,
     "metadata": {},
     "output_type": "execute_result"
    },
    {
     "data": {
      "image/png": "[encoded data removed]",
      "text/plain": [
       "<Figure size 432x288 with 1 Axes>"
      ]
     },
     "metadata": {
      "needs_background": "light"
     },
     "output_type": "display_data"
    }
   ],
   "source": [
    "sns.boxplot(y=\"loan_amnt\", x ='loan_status', data = df)"
   ]
  },
  {
   "cell_type": "markdown",
   "metadata": {},
   "source": [
    "No vemos un cambio claro en la distribución de `loan_amnt`. Los usuarios que pagaron por completo sus deudas parecen tener una cantidad ligeramente menor de préstamos en promedio."
   ]
  },
  {
   "cell_type": "markdown",
   "metadata": {},
   "source": [
    "Aprendimos en casos anteriores de prueba de hipótesis que podemos usar tablas de contingencia para examinar la relación entre dos variables discretas. Se puede realizar una prueba de chi-cuadrado basada en la tabla de contigencia para verificar si la relación observada es estadísticamente significativa. Examinemos todas las variables discretas en nuestro conjunto de datos."
   ]
  },
  {
   "cell_type": "markdown",
   "metadata": {},
   "source": [
    "### Ejercicio 2\n",
    "\n",
    "Escribe una función para generar la tabla de contingencia entre `loan_status` y otra variable llamada `var`. Asegúrese de incluir una columna para la proporción de usuarios totalmente pagados en cada nivel de `var`. Utilice esta función para generar las tablas de contingencia para examinar las relaciones entre `loan_status` y todas las variables discretas en el conjunto de datos."
   ]
  },
  {
   "cell_type": "code",
   "execution_count": 8,
   "metadata": {},
   "outputs": [],
   "source": [
    "def get_ct(df, var):\n",
    "    ct_res = pd.crosstab(df[var], df['loan_status'], margins=True)\n",
    "    ct_res[\"Fully Paid(%)\"] = round( ct_res[\"Fully Paid\"]/ct_res[\"All\"]*100, 2)\n",
    "    return ct_res.drop(columns=\"All\")"
   ]
  },
  {
   "cell_type": "code",
   "execution_count": 9,
   "metadata": {},
   "outputs": [
    {
     "data": {
      "text/html": [
       "<div>\n",
       "<style scoped>\n",
       "    .dataframe tbody tr th:only-of-type {\n",
       "        vertical-align: middle;\n",
       "    }\n",
       "\n",
       "    .dataframe tbody tr th {\n",
       "        vertical-align: top;\n",
       "    }\n",
       "\n",
       "    .dataframe thead th {\n",
       "        text-align: right;\n",
       "    }\n",
       "</style>\n",
       "<table border=\"1\" class=\"dataframe\">\n",
       "  <thead>\n",
       "    <tr style=\"text-align: right;\">\n",
       "      <th>loan_status</th>\n",
       "      <th>Charged Off</th>\n",
       "      <th>Fully Paid</th>\n",
       "      <th>Fully Paid(%)</th>\n",
       "    </tr>\n",
       "    <tr>\n",
       "      <th>verification_status</th>\n",
       "      <th></th>\n",
       "      <th></th>\n",
       "      <th></th>\n",
       "    </tr>\n",
       "  </thead>\n",
       "  <tbody>\n",
       "    <tr>\n",
       "      <th>Not Verified</th>\n",
       "      <td>2050</td>\n",
       "      <td>14449</td>\n",
       "      <td>87.58</td>\n",
       "    </tr>\n",
       "    <tr>\n",
       "      <th>Source Verified</th>\n",
       "      <td>1413</td>\n",
       "      <td>8406</td>\n",
       "      <td>85.61</td>\n",
       "    </tr>\n",
       "    <tr>\n",
       "      <th>Verified</th>\n",
       "      <td>1977</td>\n",
       "      <td>10410</td>\n",
       "      <td>84.04</td>\n",
       "    </tr>\n",
       "    <tr>\n",
       "      <th>All</th>\n",
       "      <td>5440</td>\n",
       "      <td>33265</td>\n",
       "      <td>85.94</td>\n",
       "    </tr>\n",
       "  </tbody>\n",
       "</table>\n",
       "</div>"
      ],
      "text/plain": [
       "loan_status          Charged Off  Fully Paid  Fully Paid(%)\n",
       "verification_status                                        \n",
       "Not Verified                2050       14449          87.58\n",
       "Source Verified             1413        8406          85.61\n",
       "Verified                    1977       10410          84.04\n",
       "All                         5440       33265          85.94"
      ]
     },
     "execution_count": 9,
     "metadata": {},
     "output_type": "execute_result"
    }
   ],
   "source": [
    "get_ct( df, 'verification_status')"
   ]
  },
  {
   "cell_type": "code",
   "execution_count": 10,
   "metadata": {},
   "outputs": [
    {
     "data": {
      "text/html": [
       "<div>\n",
       "<style scoped>\n",
       "    .dataframe tbody tr th:only-of-type {\n",
       "        vertical-align: middle;\n",
       "    }\n",
       "\n",
       "    .dataframe tbody tr th {\n",
       "        vertical-align: top;\n",
       "    }\n",
       "\n",
       "    .dataframe thead th {\n",
       "        text-align: right;\n",
       "    }\n",
       "</style>\n",
       "<table border=\"1\" class=\"dataframe\">\n",
       "  <thead>\n",
       "    <tr style=\"text-align: right;\">\n",
       "      <th>loan_status</th>\n",
       "      <th>Charged Off</th>\n",
       "      <th>Fully Paid</th>\n",
       "      <th>Fully Paid(%)</th>\n",
       "    </tr>\n",
       "    <tr>\n",
       "      <th>emp_length</th>\n",
       "      <th></th>\n",
       "      <th></th>\n",
       "      <th></th>\n",
       "    </tr>\n",
       "  </thead>\n",
       "  <tbody>\n",
       "    <tr>\n",
       "      <th>&lt; 1 year</th>\n",
       "      <td>641</td>\n",
       "      <td>3947</td>\n",
       "      <td>86.03</td>\n",
       "    </tr>\n",
       "    <tr>\n",
       "      <th>1 year</th>\n",
       "      <td>460</td>\n",
       "      <td>2787</td>\n",
       "      <td>85.83</td>\n",
       "    </tr>\n",
       "    <tr>\n",
       "      <th>2 years</th>\n",
       "      <td>571</td>\n",
       "      <td>3823</td>\n",
       "      <td>87.01</td>\n",
       "    </tr>\n",
       "    <tr>\n",
       "      <th>3 years</th>\n",
       "      <td>558</td>\n",
       "      <td>3540</td>\n",
       "      <td>86.38</td>\n",
       "    </tr>\n",
       "    <tr>\n",
       "      <th>4 years</th>\n",
       "      <td>466</td>\n",
       "      <td>2978</td>\n",
       "      <td>86.47</td>\n",
       "    </tr>\n",
       "    <tr>\n",
       "      <th>5 years</th>\n",
       "      <td>459</td>\n",
       "      <td>2826</td>\n",
       "      <td>86.03</td>\n",
       "    </tr>\n",
       "    <tr>\n",
       "      <th>6 years</th>\n",
       "      <td>309</td>\n",
       "      <td>1922</td>\n",
       "      <td>86.15</td>\n",
       "    </tr>\n",
       "    <tr>\n",
       "      <th>7 years</th>\n",
       "      <td>263</td>\n",
       "      <td>1512</td>\n",
       "      <td>85.18</td>\n",
       "    </tr>\n",
       "    <tr>\n",
       "      <th>8 years</th>\n",
       "      <td>206</td>\n",
       "      <td>1279</td>\n",
       "      <td>86.13</td>\n",
       "    </tr>\n",
       "    <tr>\n",
       "      <th>9 years</th>\n",
       "      <td>159</td>\n",
       "      <td>1100</td>\n",
       "      <td>87.37</td>\n",
       "    </tr>\n",
       "    <tr>\n",
       "      <th>10+ years</th>\n",
       "      <td>1348</td>\n",
       "      <td>7551</td>\n",
       "      <td>84.85</td>\n",
       "    </tr>\n",
       "    <tr>\n",
       "      <th>All</th>\n",
       "      <td>5440</td>\n",
       "      <td>33265</td>\n",
       "      <td>85.94</td>\n",
       "    </tr>\n",
       "  </tbody>\n",
       "</table>\n",
       "</div>"
      ],
      "text/plain": [
       "loan_status  Charged Off  Fully Paid  Fully Paid(%)\n",
       "emp_length                                         \n",
       "< 1 year             641        3947          86.03\n",
       "1 year               460        2787          85.83\n",
       "2 years              571        3823          87.01\n",
       "3 years              558        3540          86.38\n",
       "4 years              466        2978          86.47\n",
       "5 years              459        2826          86.03\n",
       "6 years              309        1922          86.15\n",
       "7 years              263        1512          85.18\n",
       "8 years              206        1279          86.13\n",
       "9 years              159        1100          87.37\n",
       "10+ years           1348        7551          84.85\n",
       "All                 5440       33265          85.94"
      ]
     },
     "execution_count": 10,
     "metadata": {},
     "output_type": "execute_result"
    }
   ],
   "source": [
    "get_ct( df, 'emp_length' )"
   ]
  },
  {
   "cell_type": "code",
   "execution_count": 11,
   "metadata": {},
   "outputs": [
    {
     "data": {
      "text/html": [
       "<div>\n",
       "<style scoped>\n",
       "    .dataframe tbody tr th:only-of-type {\n",
       "        vertical-align: middle;\n",
       "    }\n",
       "\n",
       "    .dataframe tbody tr th {\n",
       "        vertical-align: top;\n",
       "    }\n",
       "\n",
       "    .dataframe thead th {\n",
       "        text-align: right;\n",
       "    }\n",
       "</style>\n",
       "<table border=\"1\" class=\"dataframe\">\n",
       "  <thead>\n",
       "    <tr style=\"text-align: right;\">\n",
       "      <th>loan_status</th>\n",
       "      <th>Charged Off</th>\n",
       "      <th>Fully Paid</th>\n",
       "      <th>Fully Paid(%)</th>\n",
       "    </tr>\n",
       "    <tr>\n",
       "      <th>home_ownership</th>\n",
       "      <th></th>\n",
       "      <th></th>\n",
       "      <th></th>\n",
       "    </tr>\n",
       "  </thead>\n",
       "  <tbody>\n",
       "    <tr>\n",
       "      <th>RENT</th>\n",
       "      <td>2752</td>\n",
       "      <td>15755</td>\n",
       "      <td>85.13</td>\n",
       "    </tr>\n",
       "    <tr>\n",
       "      <th>MORTGAGE</th>\n",
       "      <td>2268</td>\n",
       "      <td>14987</td>\n",
       "      <td>86.86</td>\n",
       "    </tr>\n",
       "    <tr>\n",
       "      <th>OWN</th>\n",
       "      <td>402</td>\n",
       "      <td>2443</td>\n",
       "      <td>85.87</td>\n",
       "    </tr>\n",
       "    <tr>\n",
       "      <th>OTHER</th>\n",
       "      <td>18</td>\n",
       "      <td>80</td>\n",
       "      <td>81.63</td>\n",
       "    </tr>\n",
       "    <tr>\n",
       "      <th>All</th>\n",
       "      <td>5440</td>\n",
       "      <td>33265</td>\n",
       "      <td>85.94</td>\n",
       "    </tr>\n",
       "  </tbody>\n",
       "</table>\n",
       "</div>"
      ],
      "text/plain": [
       "loan_status     Charged Off  Fully Paid  Fully Paid(%)\n",
       "home_ownership                                        \n",
       "RENT                   2752       15755          85.13\n",
       "MORTGAGE               2268       14987          86.86\n",
       "OWN                     402        2443          85.87\n",
       "OTHER                    18          80          81.63\n",
       "All                    5440       33265          85.94"
      ]
     },
     "execution_count": 11,
     "metadata": {},
     "output_type": "execute_result"
    }
   ],
   "source": [
    "get_ct( df, 'home_ownership' )"
   ]
  },
  {
   "cell_type": "code",
   "execution_count": 12,
   "metadata": {},
   "outputs": [
    {
     "data": {
      "text/html": [
       "<div>\n",
       "<style scoped>\n",
       "    .dataframe tbody tr th:only-of-type {\n",
       "        vertical-align: middle;\n",
       "    }\n",
       "\n",
       "    .dataframe tbody tr th {\n",
       "        vertical-align: top;\n",
       "    }\n",
       "\n",
       "    .dataframe thead th {\n",
       "        text-align: right;\n",
       "    }\n",
       "</style>\n",
       "<table border=\"1\" class=\"dataframe\">\n",
       "  <thead>\n",
       "    <tr style=\"text-align: right;\">\n",
       "      <th>loan_status</th>\n",
       "      <th>Charged Off</th>\n",
       "      <th>Fully Paid</th>\n",
       "      <th>Fully Paid(%)</th>\n",
       "    </tr>\n",
       "    <tr>\n",
       "      <th>purpose</th>\n",
       "      <th></th>\n",
       "      <th></th>\n",
       "      <th></th>\n",
       "    </tr>\n",
       "  </thead>\n",
       "  <tbody>\n",
       "    <tr>\n",
       "      <th>car</th>\n",
       "      <td>155</td>\n",
       "      <td>1344</td>\n",
       "      <td>89.66</td>\n",
       "    </tr>\n",
       "    <tr>\n",
       "      <th>credit_card</th>\n",
       "      <td>516</td>\n",
       "      <td>4491</td>\n",
       "      <td>89.69</td>\n",
       "    </tr>\n",
       "    <tr>\n",
       "      <th>debt_consolidation</th>\n",
       "      <td>2703</td>\n",
       "      <td>15572</td>\n",
       "      <td>85.21</td>\n",
       "    </tr>\n",
       "    <tr>\n",
       "      <th>educational</th>\n",
       "      <td>52</td>\n",
       "      <td>265</td>\n",
       "      <td>83.60</td>\n",
       "    </tr>\n",
       "    <tr>\n",
       "      <th>home_improvement</th>\n",
       "      <td>333</td>\n",
       "      <td>2554</td>\n",
       "      <td>88.47</td>\n",
       "    </tr>\n",
       "    <tr>\n",
       "      <th>house</th>\n",
       "      <td>59</td>\n",
       "      <td>310</td>\n",
       "      <td>84.01</td>\n",
       "    </tr>\n",
       "    <tr>\n",
       "      <th>major_purchase</th>\n",
       "      <td>211</td>\n",
       "      <td>1905</td>\n",
       "      <td>90.03</td>\n",
       "    </tr>\n",
       "    <tr>\n",
       "      <th>medical</th>\n",
       "      <td>101</td>\n",
       "      <td>569</td>\n",
       "      <td>84.93</td>\n",
       "    </tr>\n",
       "    <tr>\n",
       "      <th>moving</th>\n",
       "      <td>84</td>\n",
       "      <td>475</td>\n",
       "      <td>84.97</td>\n",
       "    </tr>\n",
       "    <tr>\n",
       "      <th>other</th>\n",
       "      <td>600</td>\n",
       "      <td>3238</td>\n",
       "      <td>84.37</td>\n",
       "    </tr>\n",
       "    <tr>\n",
       "      <th>renewable_energy</th>\n",
       "      <td>18</td>\n",
       "      <td>77</td>\n",
       "      <td>81.05</td>\n",
       "    </tr>\n",
       "    <tr>\n",
       "      <th>small_business</th>\n",
       "      <td>466</td>\n",
       "      <td>1320</td>\n",
       "      <td>73.91</td>\n",
       "    </tr>\n",
       "    <tr>\n",
       "      <th>vacation</th>\n",
       "      <td>50</td>\n",
       "      <td>302</td>\n",
       "      <td>85.80</td>\n",
       "    </tr>\n",
       "    <tr>\n",
       "      <th>wedding</th>\n",
       "      <td>92</td>\n",
       "      <td>843</td>\n",
       "      <td>90.16</td>\n",
       "    </tr>\n",
       "    <tr>\n",
       "      <th>All</th>\n",
       "      <td>5440</td>\n",
       "      <td>33265</td>\n",
       "      <td>85.94</td>\n",
       "    </tr>\n",
       "  </tbody>\n",
       "</table>\n",
       "</div>"
      ],
      "text/plain": [
       "loan_status         Charged Off  Fully Paid  Fully Paid(%)\n",
       "purpose                                                   \n",
       "car                         155        1344          89.66\n",
       "credit_card                 516        4491          89.69\n",
       "debt_consolidation         2703       15572          85.21\n",
       "educational                  52         265          83.60\n",
       "home_improvement            333        2554          88.47\n",
       "house                        59         310          84.01\n",
       "major_purchase              211        1905          90.03\n",
       "medical                     101         569          84.93\n",
       "moving                       84         475          84.97\n",
       "other                       600        3238          84.37\n",
       "renewable_energy             18          77          81.05\n",
       "small_business              466        1320          73.91\n",
       "vacation                     50         302          85.80\n",
       "wedding                      92         843          90.16\n",
       "All                        5440       33265          85.94"
      ]
     },
     "execution_count": 12,
     "metadata": {},
     "output_type": "execute_result"
    }
   ],
   "source": [
    "get_ct( df, 'purpose' )"
   ]
  },
  {
   "cell_type": "code",
   "execution_count": 13,
   "metadata": {},
   "outputs": [
    {
     "data": {
      "text/html": [
       "<div>\n",
       "<style scoped>\n",
       "    .dataframe tbody tr th:only-of-type {\n",
       "        vertical-align: middle;\n",
       "    }\n",
       "\n",
       "    .dataframe tbody tr th {\n",
       "        vertical-align: top;\n",
       "    }\n",
       "\n",
       "    .dataframe thead th {\n",
       "        text-align: right;\n",
       "    }\n",
       "</style>\n",
       "<table border=\"1\" class=\"dataframe\">\n",
       "  <thead>\n",
       "    <tr style=\"text-align: right;\">\n",
       "      <th>loan_status</th>\n",
       "      <th>Charged Off</th>\n",
       "      <th>Fully Paid</th>\n",
       "      <th>Fully Paid(%)</th>\n",
       "    </tr>\n",
       "    <tr>\n",
       "      <th>term</th>\n",
       "      <th></th>\n",
       "      <th></th>\n",
       "      <th></th>\n",
       "    </tr>\n",
       "  </thead>\n",
       "  <tbody>\n",
       "    <tr>\n",
       "      <th>36 months</th>\n",
       "      <td>3073</td>\n",
       "      <td>25211</td>\n",
       "      <td>89.14</td>\n",
       "    </tr>\n",
       "    <tr>\n",
       "      <th>60 months</th>\n",
       "      <td>2367</td>\n",
       "      <td>8054</td>\n",
       "      <td>77.29</td>\n",
       "    </tr>\n",
       "    <tr>\n",
       "      <th>All</th>\n",
       "      <td>5440</td>\n",
       "      <td>33265</td>\n",
       "      <td>85.94</td>\n",
       "    </tr>\n",
       "  </tbody>\n",
       "</table>\n",
       "</div>"
      ],
      "text/plain": [
       "loan_status  Charged Off  Fully Paid  Fully Paid(%)\n",
       "term                                               \n",
       " 36 months          3073       25211          89.14\n",
       " 60 months          2367        8054          77.29\n",
       "All                 5440       33265          85.94"
      ]
     },
     "execution_count": 13,
     "metadata": {},
     "output_type": "execute_result"
    }
   ],
   "source": [
    "get_ct( df, 'term' )"
   ]
  },
  {
   "cell_type": "code",
   "execution_count": 14,
   "metadata": {},
   "outputs": [
    {
     "data": {
      "text/html": [
       "<div>\n",
       "<style scoped>\n",
       "    .dataframe tbody tr th:only-of-type {\n",
       "        vertical-align: middle;\n",
       "    }\n",
       "\n",
       "    .dataframe tbody tr th {\n",
       "        vertical-align: top;\n",
       "    }\n",
       "\n",
       "    .dataframe thead th {\n",
       "        text-align: right;\n",
       "    }\n",
       "</style>\n",
       "<table border=\"1\" class=\"dataframe\">\n",
       "  <thead>\n",
       "    <tr style=\"text-align: right;\">\n",
       "      <th>loan_status</th>\n",
       "      <th>Charged Off</th>\n",
       "      <th>Fully Paid</th>\n",
       "      <th>Fully Paid(%)</th>\n",
       "    </tr>\n",
       "    <tr>\n",
       "      <th>grade</th>\n",
       "      <th></th>\n",
       "      <th></th>\n",
       "      <th></th>\n",
       "    </tr>\n",
       "  </thead>\n",
       "  <tbody>\n",
       "    <tr>\n",
       "      <th>A</th>\n",
       "      <td>558</td>\n",
       "      <td>9136</td>\n",
       "      <td>94.24</td>\n",
       "    </tr>\n",
       "    <tr>\n",
       "      <th>B</th>\n",
       "      <td>1362</td>\n",
       "      <td>10335</td>\n",
       "      <td>88.36</td>\n",
       "    </tr>\n",
       "    <tr>\n",
       "      <th>C</th>\n",
       "      <td>1296</td>\n",
       "      <td>6642</td>\n",
       "      <td>83.67</td>\n",
       "    </tr>\n",
       "    <tr>\n",
       "      <th>D</th>\n",
       "      <td>1097</td>\n",
       "      <td>4116</td>\n",
       "      <td>78.96</td>\n",
       "    </tr>\n",
       "    <tr>\n",
       "      <th>E</th>\n",
       "      <td>710</td>\n",
       "      <td>2101</td>\n",
       "      <td>74.74</td>\n",
       "    </tr>\n",
       "    <tr>\n",
       "      <th>F</th>\n",
       "      <td>317</td>\n",
       "      <td>718</td>\n",
       "      <td>69.37</td>\n",
       "    </tr>\n",
       "    <tr>\n",
       "      <th>G</th>\n",
       "      <td>100</td>\n",
       "      <td>217</td>\n",
       "      <td>68.45</td>\n",
       "    </tr>\n",
       "    <tr>\n",
       "      <th>All</th>\n",
       "      <td>5440</td>\n",
       "      <td>33265</td>\n",
       "      <td>85.94</td>\n",
       "    </tr>\n",
       "  </tbody>\n",
       "</table>\n",
       "</div>"
      ],
      "text/plain": [
       "loan_status  Charged Off  Fully Paid  Fully Paid(%)\n",
       "grade                                              \n",
       "A                    558        9136          94.24\n",
       "B                   1362       10335          88.36\n",
       "C                   1296        6642          83.67\n",
       "D                   1097        4116          78.96\n",
       "E                    710        2101          74.74\n",
       "F                    317         718          69.37\n",
       "G                    100         217          68.45\n",
       "All                 5440       33265          85.94"
      ]
     },
     "execution_count": 14,
     "metadata": {},
     "output_type": "execute_result"
    }
   ],
   "source": [
    "get_ct( df, 'grade' )"
   ]
  },
  {
   "cell_type": "markdown",
   "metadata": {},
   "source": [
    "### Ejercicio 3\n",
    "\n",
    "Según las tablas de contingencia anteriores, ¿qué variables parecen tener asociaciones con `loan_status`? Utilice la prueba de chi-cuadrado para verificar si las asociaciones observadas son estadísticamente significativas."
   ]
  },
  {
   "cell_type": "code",
   "execution_count": 15,
   "metadata": {},
   "outputs": [
    {
     "name": "stdout",
     "output_type": "stream",
     "text": [
      "verification_status: p-value del chisquare test = 6.884998281535999e-17\n"
     ]
    }
   ],
   "source": [
    "chi2, p, dof, ex = chi2_contingency(pd.crosstab(df['verification_status'], df['loan_status']))\n",
    "print('verification_status: p-value del chisquare test =', p)"
   ]
  },
  {
   "cell_type": "code",
   "execution_count": 16,
   "metadata": {},
   "outputs": [
    {
     "name": "stdout",
     "output_type": "stream",
     "text": [
      "emp_length: p-value del chisquare test = 0.06419956286286349\n"
     ]
    }
   ],
   "source": [
    "chi2, p, dof, ex = chi2_contingency(pd.crosstab(df['emp_length'], df['loan_status']))\n",
    "print('emp_length: p-value del chisquare test =', p)"
   ]
  },
  {
   "cell_type": "code",
   "execution_count": 17,
   "metadata": {},
   "outputs": [
    {
     "name": "stdout",
     "output_type": "stream",
     "text": [
      "home_ownership: p-value del chisquare test = 3.094754275730736e-05\n"
     ]
    }
   ],
   "source": [
    "chi2, p, dof, ex = chi2_contingency(pd.crosstab(df['home_ownership'], df['loan_status']))\n",
    "print('home_ownership: p-value del chisquare test =', p)"
   ]
  },
  {
   "cell_type": "code",
   "execution_count": 18,
   "metadata": {},
   "outputs": [
    {
     "name": "stdout",
     "output_type": "stream",
     "text": [
      "purpose: p-value del chisquare test = 6.53325963877868e-71\n"
     ]
    }
   ],
   "source": [
    "chi2, p, dof, ex = chi2_contingency(pd.crosstab(df['purpose'], df['loan_status']))\n",
    "print('purpose: p-value del chisquare test =', p)"
   ]
  },
  {
   "cell_type": "code",
   "execution_count": 19,
   "metadata": {},
   "outputs": [
    {
     "name": "stdout",
     "output_type": "stream",
     "text": [
      "term: p-value del chisquare test = 2.7851291583847273e-194\n"
     ]
    }
   ],
   "source": [
    "chi2, p, dof, ex = chi2_contingency(pd.crosstab(df['term'], df['loan_status']))\n",
    "print('term: p-value del chisquare test =', p)"
   ]
  },
  {
   "cell_type": "code",
   "execution_count": 20,
   "metadata": {},
   "outputs": [
    {
     "name": "stdout",
     "output_type": "stream",
     "text": [
      "grade: p-value del chisquare test = 0.0\n"
     ]
    }
   ],
   "source": [
    "chi2, p, dof, ex = chi2_contingency(pd.crosstab(df['grade'], df['loan_status']))\n",
    "print('grade: p-value del chisquare test =', p)"
   ]
  },
  {
   "cell_type": "markdown",
   "metadata": {},
   "source": [
    "Parece que todas las variables consideradas anteriormente están asociadas con `loan_status` ya que las proporciones de usuarios totalmente pagados no son las mismas en todos los niveles de estas variables. En particular, la variable que más nos importa, `verification_status`, parece tener una asociación contraria a la intuición con `loan_status`: cuanto menos confiable es la información de ingresos, más probable es que un usuario pague la deuda en su totalidad, como se refleja en la tendencia decreciente de las proporciones totalmente pagadas cuando `verification_status` aumenta de no verificado a totalmente verificado. Las pruebas de chi-cuadrado verifican que todas estas asociaciones observadas, excepto `emp_length`, son estadísticamente significativas."
   ]
  },
  {
   "cell_type": "markdown",
   "metadata": {},
   "source": [
    "### Ejercicio 4\n",
    "\n",
    "Con base en los resultados anteriores, ¿cuáles de las siguientes afirmaciones son correctas? Seleccione todas las que correspondan.\n",
    "\n",
    "1. Hay una disminución de 2.5 en promedio en la tasa de interés en los usuarios que pagaron íntegramente sus deudas en comparación con los usuarios que no lo hicieron.\n",
    "2. No existe una asociación estadísticamente significativa entre `emp_length` y `loan_status`, ya que la proporción de usuarios totalmente pagados sigue siendo relativamente la misma en los diferentes niveles de `emp_length`.\n",
    "3. Dado que la prueba de chi-cuadrado para la tabla de contingencia de `verification_status` frente a `loan_status` es significativa, la tendencia decreciente de la probabilidad de pago probablemente no se deba a la aleatoriedad.\n",
    "4. Dado que existe una diferencia significativa entre la probabilidad de pago completo en usuarios sin ingresos verificados y usuarios con ingresos verificados según la prueba de chi-cuadrado, siempre debemos aplicar la verificación de ingresos.\n",
    "\n",
    "**Respuesta.** \n",
    "\n",
    "1 es correcto como lo indican los diagramas de caja. \n",
    "\n",
    "2 no es correcto ya que la conclusión debe extraerse con base en la prueba de chi-cuadrado (que no es significativa). \n",
    "\n",
    "3 no es correcto. La prueba de chi-cuadrado no es una prueba de tendencia, solo sugiere que existe una diferencia significativa en la probabilidad de pago entre los tres niveles de `verification_status`, pero no puede verificar que las diferencias formen una tendencia específica. \n",
    "\n",
    "4 no es correcto ya que implica una relación causal entre `verification_status` y `loan_status`. No hay suficiente evidencia para deducir esto, y primero debemos evaluar posibles variables de confusión como hicimos en casos anteriores antes de llegar a una conclusión tan sólida."
   ]
  },
  {
   "cell_type": "markdown",
   "metadata": {},
   "source": [
    "### Tablas de contigencia estratificadas de `verification_status` vs `loan_status`\n",
    "\n",
    "Como vimos en el ejercicio anterior, necesitamos ajustar otras variables para eliminar posibles impactos de confusión. Si queremos saber si `verification_status` realmente está asociado con `loan_status` como lo indica la tabla de contingencia anterior, deberíamos considerar estratificar la tabla de contingencia entre `loan_status` y `verification_status` por otras variables que también están asociadas con `loan_status` ."
   ]
  },
  {
   "cell_type": "markdown",
   "metadata": {},
   "source": [
    "### Ejercicio\n",
    "\n",
    "Escriba una función para generar una tabla de contingencia para `verification_status` frente a `loan_status` estratificado por `stra_var`. (Sugerencia: si `index` incluye dos variables, la tabla de contingencia se estratificará por la primera variable). Asegúrese de incluir una columna para la proporción de usuarios totalmente pagados en cada nivel de `verification_status`. Utilice esta función para examinar la relación entre `verification_status` y `loan_status` al ajustar `home_ownership` y `term`. ¿Seguimos viendo la misma tendencia en los diferentes niveles de `propiedad_de_casa` y `plazo`?"
   ]
  },
  {
   "cell_type": "code",
   "execution_count": 21,
   "metadata": {},
   "outputs": [],
   "source": [
    "def get_ct_stra(stra_var):\n",
    "    ct_stra = pd.crosstab(index=[stra_var,df.verification_status], columns = df.loan_status, margins = True)\n",
    "    ct_stra[\"Fully Paid (%)\"] = round(ct_stra[\"Fully Paid\"]/ct_stra[\"All\"]*100,2)\n",
    "    return ct_stra.drop(columns=\"All\").drop(\"All\", level=0)"
   ]
  },
  {
   "cell_type": "code",
   "execution_count": 22,
   "metadata": {},
   "outputs": [
    {
     "data": {
      "text/html": [
       "<div>\n",
       "<style scoped>\n",
       "    .dataframe tbody tr th:only-of-type {\n",
       "        vertical-align: middle;\n",
       "    }\n",
       "\n",
       "    .dataframe tbody tr th {\n",
       "        vertical-align: top;\n",
       "    }\n",
       "\n",
       "    .dataframe thead th {\n",
       "        text-align: right;\n",
       "    }\n",
       "</style>\n",
       "<table border=\"1\" class=\"dataframe\">\n",
       "  <thead>\n",
       "    <tr style=\"text-align: right;\">\n",
       "      <th></th>\n",
       "      <th>loan_status</th>\n",
       "      <th>Charged Off</th>\n",
       "      <th>Fully Paid</th>\n",
       "      <th>Fully Paid (%)</th>\n",
       "    </tr>\n",
       "    <tr>\n",
       "      <th>home_ownership</th>\n",
       "      <th>verification_status</th>\n",
       "      <th></th>\n",
       "      <th></th>\n",
       "      <th></th>\n",
       "    </tr>\n",
       "  </thead>\n",
       "  <tbody>\n",
       "    <tr>\n",
       "      <th rowspan=\"3\" valign=\"top\">RENT</th>\n",
       "      <th>Not Verified</th>\n",
       "      <td>1072</td>\n",
       "      <td>7133</td>\n",
       "      <td>86.93</td>\n",
       "    </tr>\n",
       "    <tr>\n",
       "      <th>Source Verified</th>\n",
       "      <td>815</td>\n",
       "      <td>4332</td>\n",
       "      <td>84.17</td>\n",
       "    </tr>\n",
       "    <tr>\n",
       "      <th>Verified</th>\n",
       "      <td>865</td>\n",
       "      <td>4290</td>\n",
       "      <td>83.22</td>\n",
       "    </tr>\n",
       "    <tr>\n",
       "      <th rowspan=\"3\" valign=\"top\">MORTGAGE</th>\n",
       "      <th>Not Verified</th>\n",
       "      <td>798</td>\n",
       "      <td>6064</td>\n",
       "      <td>88.37</td>\n",
       "    </tr>\n",
       "    <tr>\n",
       "      <th>Source Verified</th>\n",
       "      <td>487</td>\n",
       "      <td>3443</td>\n",
       "      <td>87.61</td>\n",
       "    </tr>\n",
       "    <tr>\n",
       "      <th>Verified</th>\n",
       "      <td>983</td>\n",
       "      <td>5480</td>\n",
       "      <td>84.79</td>\n",
       "    </tr>\n",
       "    <tr>\n",
       "      <th rowspan=\"3\" valign=\"top\">OWN</th>\n",
       "      <th>Not Verified</th>\n",
       "      <td>170</td>\n",
       "      <td>1210</td>\n",
       "      <td>87.68</td>\n",
       "    </tr>\n",
       "    <tr>\n",
       "      <th>Source Verified</th>\n",
       "      <td>110</td>\n",
       "      <td>622</td>\n",
       "      <td>84.97</td>\n",
       "    </tr>\n",
       "    <tr>\n",
       "      <th>Verified</th>\n",
       "      <td>122</td>\n",
       "      <td>611</td>\n",
       "      <td>83.36</td>\n",
       "    </tr>\n",
       "    <tr>\n",
       "      <th rowspan=\"3\" valign=\"top\">OTHER</th>\n",
       "      <th>Not Verified</th>\n",
       "      <td>10</td>\n",
       "      <td>42</td>\n",
       "      <td>80.77</td>\n",
       "    </tr>\n",
       "    <tr>\n",
       "      <th>Source Verified</th>\n",
       "      <td>1</td>\n",
       "      <td>9</td>\n",
       "      <td>90.00</td>\n",
       "    </tr>\n",
       "    <tr>\n",
       "      <th>Verified</th>\n",
       "      <td>7</td>\n",
       "      <td>29</td>\n",
       "      <td>80.56</td>\n",
       "    </tr>\n",
       "  </tbody>\n",
       "</table>\n",
       "</div>"
      ],
      "text/plain": [
       "loan_status                         Charged Off  Fully Paid  Fully Paid (%)\n",
       "home_ownership verification_status                                         \n",
       "RENT           Not Verified                1072        7133           86.93\n",
       "               Source Verified              815        4332           84.17\n",
       "               Verified                     865        4290           83.22\n",
       "MORTGAGE       Not Verified                 798        6064           88.37\n",
       "               Source Verified              487        3443           87.61\n",
       "               Verified                     983        5480           84.79\n",
       "OWN            Not Verified                 170        1210           87.68\n",
       "               Source Verified              110         622           84.97\n",
       "               Verified                     122         611           83.36\n",
       "OTHER          Not Verified                  10          42           80.77\n",
       "               Source Verified                1           9           90.00\n",
       "               Verified                       7          29           80.56"
      ]
     },
     "execution_count": 22,
     "metadata": {},
     "output_type": "execute_result"
    }
   ],
   "source": [
    "get_ct_stra(df.home_ownership)"
   ]
  },
  {
   "cell_type": "code",
   "execution_count": 23,
   "metadata": {},
   "outputs": [
    {
     "data": {
      "text/html": [
       "<div>\n",
       "<style scoped>\n",
       "    .dataframe tbody tr th:only-of-type {\n",
       "        vertical-align: middle;\n",
       "    }\n",
       "\n",
       "    .dataframe tbody tr th {\n",
       "        vertical-align: top;\n",
       "    }\n",
       "\n",
       "    .dataframe thead th {\n",
       "        text-align: right;\n",
       "    }\n",
       "</style>\n",
       "<table border=\"1\" class=\"dataframe\">\n",
       "  <thead>\n",
       "    <tr style=\"text-align: right;\">\n",
       "      <th></th>\n",
       "      <th>loan_status</th>\n",
       "      <th>Charged Off</th>\n",
       "      <th>Fully Paid</th>\n",
       "      <th>Fully Paid (%)</th>\n",
       "    </tr>\n",
       "    <tr>\n",
       "      <th>term</th>\n",
       "      <th>verification_status</th>\n",
       "      <th></th>\n",
       "      <th></th>\n",
       "      <th></th>\n",
       "    </tr>\n",
       "  </thead>\n",
       "  <tbody>\n",
       "    <tr>\n",
       "      <th rowspan=\"3\" valign=\"top\">36 months</th>\n",
       "      <th>Not Verified</th>\n",
       "      <td>1580</td>\n",
       "      <td>12574</td>\n",
       "      <td>88.84</td>\n",
       "    </tr>\n",
       "    <tr>\n",
       "      <th>Source Verified</th>\n",
       "      <td>688</td>\n",
       "      <td>6132</td>\n",
       "      <td>89.91</td>\n",
       "    </tr>\n",
       "    <tr>\n",
       "      <th>Verified</th>\n",
       "      <td>805</td>\n",
       "      <td>6505</td>\n",
       "      <td>88.99</td>\n",
       "    </tr>\n",
       "    <tr>\n",
       "      <th rowspan=\"3\" valign=\"top\">60 months</th>\n",
       "      <th>Not Verified</th>\n",
       "      <td>470</td>\n",
       "      <td>1875</td>\n",
       "      <td>79.96</td>\n",
       "    </tr>\n",
       "    <tr>\n",
       "      <th>Source Verified</th>\n",
       "      <td>725</td>\n",
       "      <td>2274</td>\n",
       "      <td>75.83</td>\n",
       "    </tr>\n",
       "    <tr>\n",
       "      <th>Verified</th>\n",
       "      <td>1172</td>\n",
       "      <td>3905</td>\n",
       "      <td>76.92</td>\n",
       "    </tr>\n",
       "  </tbody>\n",
       "</table>\n",
       "</div>"
      ],
      "text/plain": [
       "loan_status                     Charged Off  Fully Paid  Fully Paid (%)\n",
       "term       verification_status                                         \n",
       " 36 months Not Verified                1580       12574           88.84\n",
       "           Source Verified              688        6132           89.91\n",
       "           Verified                     805        6505           88.99\n",
       " 60 months Not Verified                 470        1875           79.96\n",
       "           Source Verified              725        2274           75.83\n",
       "           Verified                    1172        3905           76.92"
      ]
     },
     "execution_count": 23,
     "metadata": {},
     "output_type": "execute_result"
    }
   ],
   "source": [
    "get_ct_stra(df.term)"
   ]
  },
  {
   "cell_type": "markdown",
   "metadata": {},
   "source": [
    "Podemos ver que la tendencia se conserva cuando se estratifica por `home_ownership`. La proporción de usuarios fully disminuye a medida que el estado de verificación se vuelve menos confiable, independientemente de los niveles de `home_ownership`. La excepción es el nivel `OTHER`. Pero como tenemos muy pocos usuarios allí, no debemos confiar demasiado en los resultados. La tendencia ya no se conserva en ambos niveles de `term`. Podemos ver que la proporción de usuarios fully paid con un plazo de préstamo más corto (36 meses) sigue siendo la misma en diferentes niveles de \"estado de verificación\" en alrededor del 88%."
   ]
  },
  {
   "cell_type": "markdown",
   "metadata": {},
   "source": [
    "### Ejercicio 6\n",
    "\n",
    "Al comparar las tablas de contigencia estratificadas con las contrapartes no estratificadas, ¿cuál de las siguientes conclusiones es correcta? Seleccione todas las que correspondan.\n",
    "\n",
    "1. Con base en la tabla de contingencia estratificada, la diferencia en la probabilidad de pago total entre los usuarios con ingresos verificados y los no verificados podría atribuirse al efecto del plazo del préstamo sobre la probabilidad de pago total.\n",
    "2. Con base en la tabla de contingencia estratificada, la diferencia en la probabilidad de pago total entre usuarios con ingresos verificados y no verificados probablemente no sea atribuible al efecto de la propiedad de la vivienda en la probabilidad de pago total.\n",
    "3. Suponga que es más probable que los usuarios sin ingresos verificados soliciten préstamos a corto plazo en comparación con los usuarios con ingresos verificados y que los usuarios con préstamos a corto plazo tengan más probabilidades de pagar sus deudas. Si, de hecho, el estado de verificación de ingresos no tiene efecto sobre la probabilidad de pagar la deuda, los usuarios sin ingresos verificados tienen aún más probabilidades de pagar su deuda."
   ]
  },
  {
   "cell_type": "markdown",
   "metadata": {},
   "source": [
    "**Respuesta.** \n",
    "\n",
    "1 es correcto. Como vemos en la tabla estratificada por `term`, la proporción de préstamos pagados en su totalidad sigue siendo la misma en los diferentes niveles de estado de verificación cuando se fija el `term`. Por otra parte, la probabilidad de pago total específica del estrato es bastante diferente de un estrato a otro. \n",
    "\n",
    "2 es correcto ya que estratificar la tabla de contingencia por `home_ownership` no cambia significativamente las proporciones de los préstamos pagados en su totalidad. \n",
    "\n",
    "3 es correcto por definición y, de hecho, podría ser la razón por la que observamos la tendencia contraria a la intuición. Podemos ver que los usuarios sin ingresos verificados tienen muchos más préstamos a corto plazo, mientras que la tabla de contingencia estratificada nos indicó que los usuarios con préstamos a más largo plazo tienen menos probabilidades de pagar sus deudas en comparación con los prestatarios de préstamos a corto plazo.\n"
   ]
  },
  {
   "cell_type": "code",
   "execution_count": 24,
   "metadata": {},
   "outputs": [
    {
     "data": {
      "text/html": [
       "<div>\n",
       "<style scoped>\n",
       "    .dataframe tbody tr th:only-of-type {\n",
       "        vertical-align: middle;\n",
       "    }\n",
       "\n",
       "    .dataframe tbody tr th {\n",
       "        vertical-align: top;\n",
       "    }\n",
       "\n",
       "    .dataframe thead th {\n",
       "        text-align: right;\n",
       "    }\n",
       "</style>\n",
       "<table border=\"1\" class=\"dataframe\">\n",
       "  <thead>\n",
       "    <tr style=\"text-align: right;\">\n",
       "      <th>verification_status</th>\n",
       "      <th>Not Verified</th>\n",
       "      <th>Source Verified</th>\n",
       "      <th>Verified</th>\n",
       "    </tr>\n",
       "    <tr>\n",
       "      <th>term</th>\n",
       "      <th></th>\n",
       "      <th></th>\n",
       "      <th></th>\n",
       "    </tr>\n",
       "  </thead>\n",
       "  <tbody>\n",
       "    <tr>\n",
       "      <th>36 months</th>\n",
       "      <td>14154</td>\n",
       "      <td>6820</td>\n",
       "      <td>7310</td>\n",
       "    </tr>\n",
       "    <tr>\n",
       "      <th>60 months</th>\n",
       "      <td>2345</td>\n",
       "      <td>2999</td>\n",
       "      <td>5077</td>\n",
       "    </tr>\n",
       "  </tbody>\n",
       "</table>\n",
       "</div>"
      ],
      "text/plain": [
       "verification_status  Not Verified  Source Verified  Verified\n",
       "term                                                        \n",
       " 36 months                  14154             6820      7310\n",
       " 60 months                   2345             2999      5077"
      ]
     },
     "execution_count": 24,
     "metadata": {},
     "output_type": "execute_result"
    }
   ],
   "source": [
    "pd.crosstab(df['term'], df['verification_status'])"
   ]
  },
  {
   "cell_type": "markdown",
   "metadata": {},
   "source": [
    "## Regresión logística: extendiendo el modelo lineal a resultados binarios"
   ]
  },
  {
   "cell_type": "markdown",
   "metadata": {},
   "source": [
    "A partir de la prueba de chi-cuadrado, sabemos que el estado de verificación está marginalmente asociado con la probabilidad de pago. Observamos a partir de la tabla de contingencia que esta probabilidad aumenta cuando la información sobre los ingresos se vuelve menos confiable. Sin embargo, esta observación no se puede verificar solo con la prueba estándar de chi-cuadrado.\n",
    "\n",
    "Introducimos el modelo de regresión logística para examinar si esta tendencia es significativa. El modelo de regresión logística es una versión modificada del modelo de regresión lineal estándar que se ocupa de problemas de clasificación, donde los resultados son variables binarias (en este caso, si el préstamo se pagó o no). Para comprender un modelo de regresión logística, primero introduzcamos la idea de probabilidades. La probabilidad de un evento es la relación entre su probabilidad de éxito y su probabilidad de fracaso. En nuestro caso, la probabilidad de pagar la deuda en su totalidad se define como\n",
    "\n",
    "$$\n",
    "\\text{Odds}(\\text{Full payment}) = \\frac{p}{1-p}.\n",
    "$$\n",
    "\n",
    "donde $p$ es la probabilidad de pagar"
   ]
  },
  {
   "cell_type": "markdown",
   "metadata": {},
   "source": [
    "Resulta que es más fácil trabajar con cuotas que con probabilidades. Para investigar nuestra pregunta sobre la tendencia en la probabilidad de pago $p$, asumimos que las probabilidades son una función del estado de verificación de ingresos:\n",
    "\n",
    "\\begin{equation}\n",
    "\\log(\\text{Odds}) = \\beta_0 + \\beta_1*\\text{verification_status}. \\tag{1}\n",
    "\\end{equation}\n",
    "\n",
    "Para reflejar que hay una tendencia sobre los diferentes estados de verificación, codificamos diferentes niveles de `verification_status` usando números enteros: \"No verificado\" como 0, \"Fuente verificada\" como 1 y \"Verificado\" como 2; es decir, estamos renombrando categorías de una variable categórica para reflejar una tendencia numérica clara. Afirmamos que este esquema de codificación implica que si $\\beta_1$ es positivo, entonces hay una tendencia creciente de probabilidad de pago a medida que el estado de verificación de ingresos se vuelve más confiable. Por otro lado, si $\\beta_1$ es negativo, ocurre lo contrario."
   ]
  },
  {
   "cell_type": "markdown",
   "metadata": {},
   "source": [
    "Una vez que ajustamos el modelo en (1), podemos realizar una prueba para examinar si $\\beta_1$ es significativamente diferente de cero. Tenga en cuenta que si $\\beta_1=0$, entonces $p$ es el mismo para diferentes niveles de `verification_status` y, por lo tanto, no hay ninguna tendencia presente. Si $\\beta_1$ es significativamente diferente de cero, podemos usar el signo estimado de $\\beta_1$ para determinar la dirección de la tendencia."
   ]
  },
  {
   "cell_type": "markdown",
   "metadata": {},
   "source": [
    "### Interpretación numérica de regresión logística"
   ]
  },
  {
   "cell_type": "markdown",
   "metadata": {},
   "source": [
    "Aunque el modelo de regresión logística tiene más complejidad que la regresión lineal estándar, el signo del coeficiente de regresión aún representa la dirección de influencia de una variable específica: un coeficiente positivo significa que la probabilidad de pago aumentará si la variable asociada aumenta y viceversa. viceversa\n",
    "\n",
    "La otra parte importante de la información al interpretar un modelo de regresión logística es el valor $p$ para cada coeficiente de regresión. El valor p indica el resultado de la siguiente prueba de hipótesis:\n",
    "\n",
    "$$\n",
    "H_0: \\beta = 0~vs.~ H_A: \\beta \\neq 0.\n",
    "$$\n",
    "\n",
    "La prueba determina si la diferencia en la probabilidad de pago está asociada con cambios en la variable correspondiente.\n",
    "\n",
    "A veces puede encontrar que tanto el valor de $p$ como el tamaño del efecto estimado (coeficiente de regresión) para una variable son pequeños. Debe tener cuidado con esta situación ya que $p$: los valores no son la única forma de determinar si las variables son importantes."
   ]
  },
  {
   "cell_type": "markdown",
   "metadata": {},
   "source": [
    "### Interpretación geométrica de la regresión logística "
   ]
  },
  {
   "cell_type": "markdown",
   "metadata": {},
   "source": [
    "La perspectiva geométrica de los modelos de regresión logística también es crucial, ya que un modelo de regresión logística define naturalmente un \"límite de decisión\". Si especificamos que $p$ es más bajo que un límite de límite de decisión dado, donde $p_0$ (por ejemplo, 0.5) indica morosos, entonces (1) indica que las muestras con $\\beta_0 + \\beta_1*verification\\_status>\\log (p_0)/(1-\\log(p_0))$ no son morosos y $\\beta_0 + \\beta_1*verification\\_status<\\log(p_0)/(1-\\log(p_0))$ son morosos. La línea que separa a los morosos de los no morosos, que está definida por la ecuación $\\beta_0 + \\beta_1*verification\\_status=\\log(p_0)/(1-\\log(p_0))$ es el límite de decisión determinado por el modelo (1) y valor de corte $p_0$.\n",
    "\n",
    "Asumimos que $p$ es determinado por el siguiente modelo:\n",
    "\n",
    "$$\n",
    "\\log(p/(1-p)) = 2*loan\\_amnt - annual\\_inc.\n",
    "$$\n",
    "\n",
    "Aquí `annual_inc` se divide entre $10^4$ y `loan_amnt` se divide entre $1000$. La línea $2*loan\\_amnt = annula\\_inc$ en este caso separa a los morosos de los no morosos y es el límite de decisión con una probabilidad de corte de 0.5:"
   ]
  },
  {
   "cell_type": "code",
   "execution_count": 25,
   "metadata": {},
   "outputs": [
    {
     "data": {
      "image/png": "[encoded data removed]",
      "text/plain": [
       "<Figure size 432x288 with 1 Axes>"
      ]
     },
     "metadata": {
      "needs_background": "light"
     },
     "output_type": "display_data"
    }
   ],
   "source": [
    "x = np.arange(0,100,1)\n",
    "y = x/2\n",
    "plt.plot(x, y, label = \"Decision boundary\");\n",
    "plt.xlabel(\"annual_inc/1e4\");\n",
    "plt.ylabel(\"loan_amnt/1e3\");\n",
    "plt.text(10, 30, \"Non-defaulter\", fontsize = 18)\n",
    "plt.text(60, 20, \"Defaulter\", fontsize = 18)\n",
    "plt.legend();"
   ]
  },
  {
   "cell_type": "markdown",
   "metadata": {},
   "source": [
    "La forma del límite de decisión en la regresión logística no siempre es una línea; a menudo, es una curva."
   ]
  },
  {
   "cell_type": "markdown",
   "metadata": {},
   "source": [
    "### Visualización del límite de decisión"
   ]
  },
  {
   "cell_type": "markdown",
   "metadata": {},
   "source": [
    "Consideramos el siguiente modelo logistico para $p$:\n",
    "\n",
    "$$\n",
    "\\log(p/(1-p)) = \\beta_0 + \\beta_1*loan\\_amnt+\\beta_2*annual\\_inc+\\beta_3*loan\\_amnt^2.\n",
    "$$\n",
    "\n",
    "Sabemos que el límite de decisión correspondiente con valor de corte $p = 0.5$ es\n",
    "\n",
    "$$\n",
    "\\beta_0 + \\beta_1*loan\\_amnt+\\beta_2*annual\\_inc+\\beta_3*loan\\_amnt^2 = 0.\n",
    "$$\n",
    "\n",
    "Utilice la siguiente gráfica interactiva para ajustar los parámetros y ver cómo cambia el límite de decisión:"
   ]
  },
  {
   "cell_type": "code",
   "execution_count": 35,
   "metadata": {},
   "outputs": [
    {
     "data": {
      "image/png": "[encoded data removed]",
      "text/plain": [
       "<Figure size 432x288 with 1 Axes>"
      ]
     },
     "metadata": {
      "needs_background": "light"
     },
     "output_type": "display_data"
    },
    {
     "data": {
      "application/vnd.jupyter.widget-view+json": {
       "model_id": "9c501c1ca86d44738d951930cd1ac7d3",
       "version_major": 2,
       "version_minor": 0
      },
      "text/plain": [
       "interactive(children=(FloatSlider(value=1.0, description='beta0', max=10.0, min=-10.0, step=0.5), FloatSlider(…"
      ]
     },
     "metadata": {},
     "output_type": "display_data"
    }
   ],
   "source": [
    "#%matplotlib widget\n",
    "import ipywidgets as widgets\n",
    "from ipywidgets import interact\n",
    "\n",
    "idx_plot = np.random.choice(df.shape[0], size=500, replace = False)\n",
    "plt_data = df.iloc[idx_plot]\n",
    "\n",
    "fig, ax = plt.subplots()\n",
    "#plt.subplots_adjust(left=0.25, bottom=0.35)\n",
    "plt.scatter(plt_data[plt_data.loan_status==\"Fully Paid\"].annual_inc/10000, \\\n",
    "            plt_data[plt_data.loan_status==\"Fully Paid\"].loan_amnt/1000, \\\n",
    "            c = 'blue', label = 'Fully paid')\n",
    "plt.scatter(plt_data[plt_data.loan_status==\"Charged Off\"].annual_inc/10000, \\\n",
    "            plt_data[plt_data.loan_status==\"Charged Off\"].loan_amnt/1000, \\\n",
    "            c = 'red', label = 'Charged off')\n",
    "plt.xlim(0,40);\n",
    "plt.legend();\n",
    "\n",
    "#plot boundary\n",
    "beta0 = 1\n",
    "beta1 = -1\n",
    "beta2 = 1\n",
    "beta3 = -1\n",
    "\n",
    "x_plt = np.arange(0,40,1)\n",
    "y_plt = (-beta0 - beta1*x_plt - beta3*x_plt**2)/(beta2)\n",
    "plt.xlabel(\"annual_inc/1e4\")\n",
    "plt.ylabel(\"loan_amnt/1e3\")\n",
    "l, = plt.plot(x_plt, y_plt, lw = 2, color=\"k\", label = \"Current Decision boundary\")\n",
    "plt.ylim(0,60);\n",
    "plt.legend();\n",
    "\n",
    "def update(beta0=1, beta1=-1, beta2=1, beta3=-1):\n",
    "    y_plt = (-beta0 - beta1*x_plt - beta3*x_plt**2)/(beta2)\n",
    "    l.set_ydata(y_plt);\n",
    "    fig.canvas.draw_idle();\n",
    "\n",
    "interact(update, beta0 = widgets.FloatSlider(value=beta0,min=-10,max=10,step=0.5),\\\n",
    "         beta1 = widgets.FloatSlider(value=beta1,min=-10,max=10,step=0.5),\n",
    "         beta2 = widgets.FloatSlider(value=beta2,min=0.5,max=10,step=0.5),\n",
    "         beta3 = widgets.FloatSlider(value=beta3,min=-10,max=0,step=0.5));"
   ]
  },
  {
   "cell_type": "code",
   "execution_count": 34,
   "metadata": {},
   "outputs": [],
   "source": [
    "%matplotlib inline"
   ]
  },
  {
   "cell_type": "markdown",
   "metadata": {},
   "source": [
    "## Ajuste del modelo de regresión logística "
   ]
  },
  {
   "cell_type": "markdown",
   "metadata": {},
   "source": [
    "Ahora ajustamos el modelo logístico utilizando el paquete `statmodels` con la especificación que describimos anteriormente:"
   ]
  },
  {
   "cell_type": "code",
   "execution_count": 36,
   "metadata": {},
   "outputs": [
    {
     "name": "stdout",
     "output_type": "stream",
     "text": [
      "Optimization terminated successfully.\n",
      "         Current function value: 0.405007\n",
      "         Iterations 6\n",
      "                           Logit Regression Results                           \n",
      "==============================================================================\n",
      "Dep. Variable:            loan_status   No. Observations:                38705\n",
      "Model:                          Logit   Df Residuals:                    38703\n",
      "Method:                           MLE   Df Model:                            1\n",
      "Date:                Mon, 21 Nov 2022   Pseudo R-squ.:                0.002350\n",
      "Time:                        18:55:48   Log-Likelihood:                -15676.\n",
      "converged:                       True   LL-Null:                       -15713.\n",
      "Covariance Type:            nonrobust   LLR p-value:                 8.419e-18\n",
      "=======================================================================================\n",
      "                          coef    std err          z      P>|z|      [0.025      0.975]\n",
      "---------------------------------------------------------------------------------------\n",
      "Intercept               1.9469      0.022     88.290      0.000       1.904       1.990\n",
      "verification_status    -0.1460      0.017     -8.600      0.000      -0.179      -0.113\n",
      "=======================================================================================\n"
     ]
    }
   ],
   "source": [
    "# codificar la variable discreta según la especificación anterior\n",
    "df_log1 = pd.DataFrame(columns=['verification_status','loan_status'])\n",
    "df_log1['verification_status'] = df.verification_status.cat.codes\n",
    "df_log1['loan_status'] = df.loan_status.cat.codes\n",
    "df_log1['Intercept'] = 1\n",
    "\n",
    "logit = sm.Logit(df_log1['loan_status'], df_log1[['Intercept','verification_status']])\n",
    "logit_res = logit.fit()\n",
    "print( logit_res.summary() )"
   ]
  },
  {
   "cell_type": "markdown",
   "metadata": {},
   "source": [
    "Esto indica que cuando `verfication_status` aumenta en 1, las probabilidades de pago disminuyen en un 14 %. Dado que el valor $p$ - del coeficiente es menor que 0.05, podemos concluir que la tendencia decreciente que observamos en la tabla probablemente no se deba a la aleatoriedad.\n",
    "\n",
    "Una salida importante anterior es `Pseudo R-squ.`. Esta métrica es similar a R-cuadrado para modelos lineales. Si este número es grande, entonces las variables en el modelo explican una gran parte de los impulsores de la tendencia de las personas a pagar su deuda. En nuestro caso, la métrica es solo del 0.2%, lo que significa que tenemos mucho espacio para mejorar."
   ]
  },
  {
   "cell_type": "markdown",
   "metadata": {},
   "source": [
    "### Evaluación del esquema de codificación numérica para `verification_status` "
   ]
  },
  {
   "cell_type": "markdown",
   "metadata": {},
   "source": [
    "Tenga en cuenta que nuestro esquema de codificación asume que la diferencia en las probabilidades de registro $p/(1-p)$ entre personas de dos niveles consecutivos cualquiera de `verification_status` es la misma. Esta suposición puede ser demasiado fuerte y deberíamos comprobar si es razonable. Ajustaremos el mismo modelo con un esquema de codificación diferente para `verification_status`. En lugar de asignar niveles a números enteros, usamos variables ficticias para diferentes niveles. Con esta especificación, la diferencia de log-odds entre dos niveles consecutivos no es necesariamente una constante. Establecemos \"No verificado\" como nivel de referencia. El código y los resultados se muestran a continuación:"
   ]
  },
  {
   "cell_type": "code",
   "execution_count": 37,
   "metadata": {},
   "outputs": [
    {
     "data": {
      "text/html": [
       "<div>\n",
       "<style scoped>\n",
       "    .dataframe tbody tr th:only-of-type {\n",
       "        vertical-align: middle;\n",
       "    }\n",
       "\n",
       "    .dataframe tbody tr th {\n",
       "        vertical-align: top;\n",
       "    }\n",
       "\n",
       "    .dataframe thead th {\n",
       "        text-align: right;\n",
       "    }\n",
       "</style>\n",
       "<table border=\"1\" class=\"dataframe\">\n",
       "  <thead>\n",
       "    <tr style=\"text-align: right;\">\n",
       "      <th></th>\n",
       "      <th>Source Verified</th>\n",
       "      <th>Verified</th>\n",
       "    </tr>\n",
       "  </thead>\n",
       "  <tbody>\n",
       "    <tr>\n",
       "      <th>0</th>\n",
       "      <td>0</td>\n",
       "      <td>1</td>\n",
       "    </tr>\n",
       "    <tr>\n",
       "      <th>1</th>\n",
       "      <td>1</td>\n",
       "      <td>0</td>\n",
       "    </tr>\n",
       "    <tr>\n",
       "      <th>2</th>\n",
       "      <td>0</td>\n",
       "      <td>0</td>\n",
       "    </tr>\n",
       "    <tr>\n",
       "      <th>3</th>\n",
       "      <td>1</td>\n",
       "      <td>0</td>\n",
       "    </tr>\n",
       "    <tr>\n",
       "      <th>4</th>\n",
       "      <td>1</td>\n",
       "      <td>0</td>\n",
       "    </tr>\n",
       "  </tbody>\n",
       "</table>\n",
       "</div>"
      ],
      "text/plain": [
       "   Source Verified  Verified\n",
       "0                0         1\n",
       "1                1         0\n",
       "2                0         0\n",
       "3                1         0\n",
       "4                1         0"
      ]
     },
     "execution_count": 37,
     "metadata": {},
     "output_type": "execute_result"
    }
   ],
   "source": [
    "vs_dummy = pd.get_dummies(df.verification_status, drop_first=True)\n",
    "vs_dummy.head()"
   ]
  },
  {
   "cell_type": "code",
   "execution_count": 38,
   "metadata": {},
   "outputs": [
    {
     "name": "stdout",
     "output_type": "stream",
     "text": [
      "Optimization terminated successfully.\n",
      "         Current function value: 0.405001\n",
      "         Iterations 6\n",
      "                           Logit Regression Results                           \n",
      "==============================================================================\n",
      "Dep. Variable:            loan_status   No. Observations:                38705\n",
      "Model:                          Logit   Df Residuals:                    38702\n",
      "Method:                           MLE   Df Model:                            2\n",
      "Date:                Mon, 21 Nov 2022   Pseudo R-squ.:                0.002366\n",
      "Time:                        18:57:49   Log-Likelihood:                -15676.\n",
      "converged:                       True   LL-Null:                       -15713.\n",
      "Covariance Type:            nonrobust   LLR p-value:                 7.140e-17\n",
      "===================================================================================\n",
      "                      coef    std err          z      P>|z|      [0.025      0.975]\n",
      "-----------------------------------------------------------------------------------\n",
      "Intercept           1.9528      0.024     82.741      0.000       1.907       1.999\n",
      "Source Verified    -0.1696      0.037     -4.558      0.000      -0.242      -0.097\n",
      "Verified           -0.2916      0.034     -8.566      0.000      -0.358      -0.225\n",
      "===================================================================================\n"
     ]
    }
   ],
   "source": [
    "#vs_dummy = pd.get_dummies(df.verification_status, drop_first=True )\n",
    "df_log1 = pd.concat([df_log1,vs_dummy], axis = 1)\n",
    "\n",
    "logit_dummy = sm.Logit(df_log1['loan_status'], df_log1[['Intercept','Source Verified','Verified']])\n",
    "logit_dummy_res = logit_dummy.fit()\n",
    "print( logit_dummy_res.summary() )"
   ]
  },
  {
   "cell_type": "markdown",
   "metadata": {},
   "source": [
    "Según los resultados, podemos ver que la diferencia en las probabilidades de registro entre las personas del nivel \"Fuente verificada\" y el nivel \"No verificado\" es -0,16, mientras que la diferencia entre \"Verificado\" y \"No verificado\" es -0,28. Los resultados confirman que la probabilidad de pago de hecho disminuye cuando la información sobre los ingresos se vuelve más confiable. Pero esto también significa que las diferencias en las probabilidades de registro no son constantes y que el esquema de codificación anterior podría no ser razonable. Podemos usar `Pseudo R-squ.` como una métrica para examinar si un esquema de codificación es mejor que el otro."
   ]
  },
  {
   "cell_type": "markdown",
   "metadata": {},
   "source": [
    "### Evaluación del modelo de regresión logística "
   ]
  },
  {
   "cell_type": "markdown",
   "metadata": {},
   "source": [
    "Un inconveniente importante de la métrica pseudo $R^2$ es que no se puede traducir directamente a la precisión de predicción de un modelo. Recuerda que el objetivo de todo nuestro análisis es predecir si un usuario va a saldar o no su deuda. Pero, ¿cómo evaluamos si la predicación es precisa o no? Esta pregunta no es tan simple como parece y la razón es que los modelos logísticos solo producen probabilidades mientras que lo que observamos son etiquetas binarias.\n",
    "\n",
    "Una solución sencilla es que puede seleccionar un valor límite para la probabilidad predicha, de modo que las personas con probabilidades menores que el valor límite se consideren morosos. Esto convierte las probabilidades en etiquetas binarias, después de lo cual podemos ver si las etiquetas pronosticadas son las mismas que las etiquetas observadas para medir la precisión de la predicción.\n",
    "\n",
    "Sin embargo, esto solo tiene en cuenta un único valor de corte. Deberíamos resumir la precisión de la predicción en todos los diferentes valores de corte para producir una evaluación unificada de nuestro modelo. Para los modelos logísticos, esto generalmente se implementa a través de la **curva característica operativa del receptor (ROC)**.\n",
    "\n",
    "Para comprender una curva ROC, primero debemos conocer la `true positive rate` (TPR) y la `true negative rate` (TNR). En nuestro contexto, TPR mide la proporción de personas que pagaron su deuda que nuestro modelo identifica correctamente, mientras que TNR mide la proporción de morosos que se identifican como morosos. Cada punto en el gráfico indica el TPR y 1-TNR en un valor de corte específico:"
   ]
  },
  {
   "cell_type": "markdown",
   "metadata": {},
   "source": [
    "![](./ROC.png)"
   ]
  },
  {
   "cell_type": "markdown",
   "metadata": {},
   "source": [
    "Hay una compensación constante entre TPR y TNR. Por lo general, es difícil encontrar una regla con TPR y TNR altos al mismo tiempo. Las personas elegirán priorizar uno de ellos según el escenario particular. Por ejemplo, en nuestro caso, TNR suele ser más importante que TPR, ya que preferimos evitar prestar a los morosos que dejar de prestar a un buen candidato.\n",
    "\n",
    "La curva ROC traza TPR contra 1-TNR e ilustra el comportamiento de un modelo logístico cuando cambia el punto de corte. Podemos resumir aún más toda la curva ROC por el **área bajo la curva (AUC)**. En términos generales, AUC indica la probabilidad de que un moroso seleccionado al azar tenga $p$ más pequeños que un no moroso seleccionado al azar.\n",
    "\n",
    "Si AUC está cerca de uno, la regla está cerca de ser una regla perfecta. La curva ROC para una regla de conjetura aleatoria (establecer $p$ en 0.5 para todos los solicitantes) es la línea diagonal en el gráfico y, por lo general, sirve como línea de base para verificar si el modelo logístico obtiene información de los datos más allá de la pura aleatoriedad. Las curvas ROC de los dos modelos de regresión logística anteriores se muestran a continuación:"
   ]
  },
  {
   "cell_type": "code",
   "execution_count": 39,
   "metadata": {},
   "outputs": [
    {
     "data": {
      "image/png": "[encoded data removed]",
      "text/plain": [
       "<Figure size 432x288 with 1 Axes>"
      ]
     },
     "metadata": {
      "needs_background": "light"
     },
     "output_type": "display_data"
    }
   ],
   "source": [
    "predict_p = logit_res.predict(df_log1[['Intercept','verification_status']])\n",
    "predict_dummy_p = logit_dummy_res.predict(df_log1[['Intercept','Source Verified','Verified']])\n",
    "roc_p = roc_curve(df_log1[\"loan_status\"], predict_p)\n",
    "roc_dummy_p = roc_curve(df_log1[\"loan_status\"], predict_dummy_p)\n",
    "auc_p = auc( roc_p[0], roc_p[1] )\n",
    "auc_dummy_p = auc( roc_dummy_p[0], roc_dummy_p[1] )\n",
    "\n",
    "plt.figure()\n",
    "lw = 2\n",
    "plt.plot(roc_p[0], roc_p[1], color='darkorange',\n",
    "         lw=lw, label='ROC curve for coding scheme 1 (AUC = %0.2f)' % auc_p)\n",
    "plt.plot(roc_dummy_p[0], roc_dummy_p[1], color='darkgreen',\n",
    "         lw=lw, label='ROC curve for coding scheme 2 (AUC = %0.2f)' % auc_dummy_p)\n",
    "plt.plot([0, 1], [0, 1], color='navy', lw=lw, linestyle='--', label='Random guess')\n",
    "plt.xlim([0.0, 1.0])\n",
    "plt.ylim([0.0, 1.05])\n",
    "plt.xlabel('False Positive Rate')\n",
    "plt.ylabel('True Positive Rate')\n",
    "plt.title('Classification of Defaulters')\n",
    "plt.legend(loc=\"lower right\")\n",
    "plt.show()"
   ]
  },
  {
   "cell_type": "markdown",
   "metadata": {},
   "source": [
    "A partir de la figura, encontramos que ambos ROC tienen AUC bastante cercanas a 0.5, lo que confirma que `verification_status` por sí solo no es muy predictivo del estado del préstamo más allá de las conjeturas aleatorias. Esto también confirma que el primer esquema de codificación tiene un rendimiento idéntico al del segundo esquema de codificación. Dado que el primer esquema de codificación es más parco (es decir, contiene menos parámetros) que el segundo esquema, utilizaremos el primer esquema de codificación para el resto de este análisis."
   ]
  },
  {
   "cell_type": "markdown",
   "metadata": {
    "collapsed": true
   },
   "source": [
    "### Ejercicio 7\n",
    "\n",
    "Con base en los resultados anteriores (pseudo $R^2$ y AUC), ¿qué podemos concluir sobre el esquema de código apropiado para `verification_status`?\n",
    "\n",
    "**Respuesta.** No hay diferencia en las dos métricas al comparar los dos esquemas de codificación diferentes. En estadística, preferimos modelos simples y, por lo tanto, el primer esquema de codificación es apropiado. Tenga en cuenta que en el segundo esquema de codificación, necesitamos estimar un parámetro más que en el primer esquema de codificación."
   ]
  },
  {
   "cell_type": "markdown",
   "metadata": {},
   "source": [
    "## Agregando variables adicionales al modelo"
   ]
  },
  {
   "cell_type": "markdown",
   "metadata": {},
   "source": [
    "En la sección anterior, verificamos que efectivamente existe una tendencia decreciente en la probabilidad de pago asociada con información de ingresos más confiable. También realizamos dos enfoques de verificación de modelos y determinamos que la codificación de enteros para `verification_status` es adecuada. Sin embargo, la tendencia decreciente descubierta es contraria a la intuición. Esto podría deberse a que muchos otros factores también están asociados con la probabilidad de pago, como hemos visto en los análisis exploratorios. De manera similar a la regresión lineal, no tener en cuenta estos factores dará como resultado respuestas completamente diferentes para el efecto de `verification_status`, que ya se insinúa en las tablas de contingencia estratificadas."
   ]
  },
  {
   "cell_type": "markdown",
   "metadata": {},
   "source": [
    "Encontramos que a excepción de `annual_inc`, todas las demás variables en el conjunto de datos están correlacionadas con `verification_status`. Por ejemplo, parece haber una fuerte correlación entre `verification_status` y `loan_amnt`. Las personas sin fuente de ingresos verificada tienden a pedir prestado menos dinero que las personas con fuente de ingresos verificada. Esta podría ser la razón de la tendencia decreciente asociada con `verification_status`, ya que es más probable que se paguen los préstamos más pequeños. Ahora incorporemos todas estas variables (incluyendo `annual_inc` por ahora) en el modelo logístico junto con `verification_status` y veamos si la tendencia decreciente asociada con `verification_status` todavía está presente:"
   ]
  },
  {
   "cell_type": "code",
   "execution_count": 40,
   "metadata": {},
   "outputs": [],
   "source": [
    "# Preprocesando las variables\n",
    "df_log2 = pd.concat([(df.loan_amnt - df.loan_amnt.mean())/df.loan_amnt.std(),\\\n",
    "                     (df.int_rate - df.int_rate.mean())/df.int_rate.std(),\\\n",
    "                     (df.annual_inc - df.annual_inc.mean())/df.annual_inc.std(),\\\n",
    "                     pd.get_dummies(df.home_ownership, prefix=\"home\", drop_first=True), \\\n",
    "                     pd.get_dummies(df.purpose, prefix=\"purpose\", drop_first=True), \\\n",
    "                     pd.get_dummies(df.grade, prefix=\"grade\",drop_first=True)], axis=1)\n",
    "df_log2[\"verification_status\"] = df.verification_status.cat.codes\n",
    "df_log2[\"emp_length\"] = df.emp_length.cat.codes\n",
    "df_log2[\"term\"] = df.term.cat.codes\n",
    "df_log2[\"Intercept\"] = 1"
   ]
  },
  {
   "cell_type": "code",
   "execution_count": 41,
   "metadata": {},
   "outputs": [
    {
     "name": "stdout",
     "output_type": "stream",
     "text": [
      "Optimization terminated successfully.\n",
      "         Current function value: 0.378075\n",
      "         Iterations 7\n",
      "                           Logit Regression Results                           \n",
      "==============================================================================\n",
      "Dep. Variable:                      y   No. Observations:                38705\n",
      "Model:                          Logit   Df Residuals:                    38676\n",
      "Method:                           MLE   Df Model:                           28\n",
      "Date:                Mon, 21 Nov 2022   Pseudo R-squ.:                 0.06869\n",
      "Time:                        19:08:32   Log-Likelihood:                -14633.\n",
      "converged:                       True   LL-Null:                       -15713.\n",
      "Covariance Type:            nonrobust   LLR p-value:                     0.000\n",
      "==============================================================================================\n",
      "                                 coef    std err          z      P>|z|      [0.025      0.975]\n",
      "----------------------------------------------------------------------------------------------\n",
      "loan_amnt                     -0.0075      0.019     -0.389      0.697      -0.045       0.030\n",
      "int_rate                      -0.4050      0.054     -7.454      0.000      -0.511      -0.299\n",
      "annual_inc                     0.3615      0.031     11.641      0.000       0.301       0.422\n",
      "home_MORTGAGE                  0.0382      0.035      1.095      0.273      -0.030       0.107\n",
      "home_OWN                       0.0209      0.060      0.348      0.728      -0.097       0.138\n",
      "home_OTHER                    -0.4454      0.268     -1.660      0.097      -0.971       0.080\n",
      "purpose_credit_card            0.0364      0.100      0.363      0.717      -0.160       0.233\n",
      "purpose_debt_consolidation    -0.2190      0.091     -2.405      0.016      -0.398      -0.041\n",
      "purpose_educational           -0.5663      0.178     -3.186      0.001      -0.915      -0.218\n",
      "purpose_home_improvement      -0.1624      0.107     -1.523      0.128      -0.371       0.047\n",
      "purpose_house                 -0.3556      0.171     -2.077      0.038      -0.691      -0.020\n",
      "purpose_major_purchase        -0.0024      0.114     -0.021      0.983      -0.227       0.222\n",
      "purpose_medical               -0.3945      0.141     -2.794      0.005      -0.671      -0.118\n",
      "purpose_moving                -0.4147      0.150     -2.766      0.006      -0.708      -0.121\n",
      "purpose_other                 -0.4050      0.099     -4.105      0.000      -0.598      -0.212\n",
      "purpose_renewable_energy      -0.7242      0.286     -2.530      0.011      -1.285      -0.163\n",
      "purpose_small_business        -0.9414      0.105     -8.961      0.000      -1.147      -0.735\n",
      "purpose_vacation              -0.4371      0.179     -2.439      0.015      -0.788      -0.086\n",
      "purpose_wedding                0.1348      0.142      0.948      0.343      -0.144       0.414\n",
      "grade_B                       -0.2733      0.074     -3.709      0.000      -0.418      -0.129\n",
      "grade_C                       -0.3549      0.103     -3.448      0.001      -0.557      -0.153\n",
      "grade_D                       -0.3775      0.132     -2.860      0.004      -0.636      -0.119\n",
      "grade_E                       -0.2973      0.160     -1.859      0.063      -0.611       0.016\n",
      "grade_F                       -0.3238      0.194     -1.669      0.095      -0.704       0.057\n",
      "grade_G                       -0.1802      0.238     -0.757      0.449      -0.647       0.286\n",
      "verification_status            0.0082      0.020      0.411      0.681      -0.031       0.047\n",
      "emp_length                    -0.0147      0.004     -3.301      0.001      -0.023      -0.006\n",
      "term                          -0.4520      0.037    -12.081      0.000      -0.525      -0.379\n",
      "Intercept                      2.6163      0.123     21.216      0.000       2.375       2.858\n",
      "==============================================================================================\n"
     ]
    }
   ],
   "source": [
    "logit_full1 = sm.Logit(df.loan_status.cat.codes, df_log2)\n",
    "logit_full1_res = logit_full1.fit()\n",
    "print(logit_full1_res.summary())"
   ]
  },
  {
   "cell_type": "markdown",
   "metadata": {},
   "source": [
    "### Ejercicio 8\n",
    "\n",
    "Con base en los resultados del modelo logístico con todas las variables incluidas, ¿cuál de las siguientes conclusiones es correcta? Seleccione todas las que correspondan.\n",
    "\n",
    "1. No hay evidencia que respalde la asociación entre la probabilidad de pago y el estado de verificación después de tener en cuenta otras variables.\n",
    "2. Los préstamos para pequeñas empresas tienen la menor probabilidad de pago.\n",
    "3. Las probabilidades de pago en los usuarios con grado B de LendingClub disminuyen en un 24 % en comparación con los usuarios con grado A después de tener en cuenta otras variables.\n",
    "\n",
    "**Respuesta.** 1 es correcto ya que $p$ - el valor de la variable `verification_status` no es inferior a 0,05. 2 no es correcto ya que la afirmación no tiene en cuenta los efectos de otras variables. 3 es correcto ya que podemos calcularlo usando el coeficiente estimado."
   ]
  },
  {
   "cell_type": "markdown",
   "metadata": {},
   "source": [
    "### ¿Por qué observamos una tendencia marginal asociada con el estado de verificación?"
   ]
  },
  {
   "cell_type": "markdown",
   "metadata": {},
   "source": [
    "Curiosamente, encontramos que el coeficiente de regresión para `verification_status` ahora es positivo y el valor de $p$ es muy grande (0.68). Esto indica que después de ajustar todas las demás variables en el conjunto de datos, `verification_status` ya no está significativamente asociado con la probabilidad de pago. Averigüemos ahora qué variables de confusión fueron las responsables de introducir la tendencia decreciente inicial que observamos."
   ]
  },
  {
   "cell_type": "markdown",
   "metadata": {},
   "source": [
    "Podemos investigar este problema utilizando los resultados de la regresión junto con la correlación entre `verification_status` y todas las demás variables. Primero, echemos un vistazo a la relación por pares entre `verification_status` y todas las demás variables:"
   ]
  },
  {
   "cell_type": "code",
   "execution_count": 42,
   "metadata": {},
   "outputs": [],
   "source": [
    "def get_rctable(var1, var2):\n",
    "    res = pd.crosstab(df[var2], df[var1])\n",
    "    chi2, p, dof, ex = chi2_contingency(res)\n",
    "    output = round( res.div(res.sum(axis = 1),axis = 0)*100, 2 )\n",
    "    return output.style.set_caption(\"%s vs. %s: Chi-square p-value=%.2f\" % (var1,var2,p))"
   ]
  },
  {
   "cell_type": "code",
   "execution_count": 43,
   "metadata": {},
   "outputs": [
    {
     "data": {
      "text/html": [
       "<style type=\"text/css\">\n",
       "</style>\n",
       "<table id=\"T_7548c\">\n",
       "  <caption>emp_length vs. verification_status: Chi-square p-value=0.00</caption>\n",
       "  <thead>\n",
       "    <tr>\n",
       "      <th class=\"index_name level0\" >emp_length</th>\n",
       "      <th id=\"T_7548c_level0_col0\" class=\"col_heading level0 col0\" >< 1 year</th>\n",
       "      <th id=\"T_7548c_level0_col1\" class=\"col_heading level0 col1\" >1 year</th>\n",
       "      <th id=\"T_7548c_level0_col2\" class=\"col_heading level0 col2\" >2 years</th>\n",
       "      <th id=\"T_7548c_level0_col3\" class=\"col_heading level0 col3\" >3 years</th>\n",
       "      <th id=\"T_7548c_level0_col4\" class=\"col_heading level0 col4\" >4 years</th>\n",
       "      <th id=\"T_7548c_level0_col5\" class=\"col_heading level0 col5\" >5 years</th>\n",
       "      <th id=\"T_7548c_level0_col6\" class=\"col_heading level0 col6\" >6 years</th>\n",
       "      <th id=\"T_7548c_level0_col7\" class=\"col_heading level0 col7\" >7 years</th>\n",
       "      <th id=\"T_7548c_level0_col8\" class=\"col_heading level0 col8\" >8 years</th>\n",
       "      <th id=\"T_7548c_level0_col9\" class=\"col_heading level0 col9\" >9 years</th>\n",
       "      <th id=\"T_7548c_level0_col10\" class=\"col_heading level0 col10\" >10+ years</th>\n",
       "    </tr>\n",
       "    <tr>\n",
       "      <th class=\"index_name level0\" >verification_status</th>\n",
       "      <th class=\"blank col0\" >&nbsp;</th>\n",
       "      <th class=\"blank col1\" >&nbsp;</th>\n",
       "      <th class=\"blank col2\" >&nbsp;</th>\n",
       "      <th class=\"blank col3\" >&nbsp;</th>\n",
       "      <th class=\"blank col4\" >&nbsp;</th>\n",
       "      <th class=\"blank col5\" >&nbsp;</th>\n",
       "      <th class=\"blank col6\" >&nbsp;</th>\n",
       "      <th class=\"blank col7\" >&nbsp;</th>\n",
       "      <th class=\"blank col8\" >&nbsp;</th>\n",
       "      <th class=\"blank col9\" >&nbsp;</th>\n",
       "      <th class=\"blank col10\" >&nbsp;</th>\n",
       "    </tr>\n",
       "  </thead>\n",
       "  <tbody>\n",
       "    <tr>\n",
       "      <th id=\"T_7548c_level0_row0\" class=\"row_heading level0 row0\" >Not Verified</th>\n",
       "      <td id=\"T_7548c_row0_col0\" class=\"data row0 col0\" >12.090000</td>\n",
       "      <td id=\"T_7548c_row0_col1\" class=\"data row0 col1\" >9.410000</td>\n",
       "      <td id=\"T_7548c_row0_col2\" class=\"data row0 col2\" >12.430000</td>\n",
       "      <td id=\"T_7548c_row0_col3\" class=\"data row0 col3\" >11.100000</td>\n",
       "      <td id=\"T_7548c_row0_col4\" class=\"data row0 col4\" >8.980000</td>\n",
       "      <td id=\"T_7548c_row0_col5\" class=\"data row0 col5\" >8.590000</td>\n",
       "      <td id=\"T_7548c_row0_col6\" class=\"data row0 col6\" >5.670000</td>\n",
       "      <td id=\"T_7548c_row0_col7\" class=\"data row0 col7\" >4.440000</td>\n",
       "      <td id=\"T_7548c_row0_col8\" class=\"data row0 col8\" >3.820000</td>\n",
       "      <td id=\"T_7548c_row0_col9\" class=\"data row0 col9\" >3.330000</td>\n",
       "      <td id=\"T_7548c_row0_col10\" class=\"data row0 col10\" >20.130000</td>\n",
       "    </tr>\n",
       "    <tr>\n",
       "      <th id=\"T_7548c_level0_row1\" class=\"row_heading level0 row1\" >Source Verified</th>\n",
       "      <td id=\"T_7548c_row1_col0\" class=\"data row1 col0\" >15.080000</td>\n",
       "      <td id=\"T_7548c_row1_col1\" class=\"data row1 col1\" >8.520000</td>\n",
       "      <td id=\"T_7548c_row1_col2\" class=\"data row1 col2\" >11.220000</td>\n",
       "      <td id=\"T_7548c_row1_col3\" class=\"data row1 col3\" >10.710000</td>\n",
       "      <td id=\"T_7548c_row1_col4\" class=\"data row1 col4\" >8.720000</td>\n",
       "      <td id=\"T_7548c_row1_col5\" class=\"data row1 col5\" >8.480000</td>\n",
       "      <td id=\"T_7548c_row1_col6\" class=\"data row1 col6\" >5.770000</td>\n",
       "      <td id=\"T_7548c_row1_col7\" class=\"data row1 col7\" >4.650000</td>\n",
       "      <td id=\"T_7548c_row1_col8\" class=\"data row1 col8\" >3.540000</td>\n",
       "      <td id=\"T_7548c_row1_col9\" class=\"data row1 col9\" >3.030000</td>\n",
       "      <td id=\"T_7548c_row1_col10\" class=\"data row1 col10\" >20.250000</td>\n",
       "    </tr>\n",
       "    <tr>\n",
       "      <th id=\"T_7548c_level0_row2\" class=\"row_heading level0 row2\" >Verified</th>\n",
       "      <td id=\"T_7548c_row2_col0\" class=\"data row2 col0\" >8.990000</td>\n",
       "      <td id=\"T_7548c_row2_col1\" class=\"data row2 col1\" >6.920000</td>\n",
       "      <td id=\"T_7548c_row2_col2\" class=\"data row2 col2\" >10.020000</td>\n",
       "      <td id=\"T_7548c_row2_col3\" class=\"data row2 col3\" >9.810000</td>\n",
       "      <td id=\"T_7548c_row2_col4\" class=\"data row2 col4\" >8.940000</td>\n",
       "      <td id=\"T_7548c_row2_col5\" class=\"data row2 col5\" >8.350000</td>\n",
       "      <td id=\"T_7548c_row2_col6\" class=\"data row2 col6\" >5.880000</td>\n",
       "      <td id=\"T_7548c_row2_col7\" class=\"data row2 col7\" >4.720000</td>\n",
       "      <td id=\"T_7548c_row2_col8\" class=\"data row2 col8\" >4.080000</td>\n",
       "      <td id=\"T_7548c_row2_col9\" class=\"data row2 col9\" >3.320000</td>\n",
       "      <td id=\"T_7548c_row2_col10\" class=\"data row2 col10\" >28.980000</td>\n",
       "    </tr>\n",
       "  </tbody>\n",
       "</table>\n"
      ],
      "text/plain": [
       "<pandas.io.formats.style.Styler at 0x23a1af575b0>"
      ]
     },
     "metadata": {},
     "output_type": "display_data"
    },
    {
     "data": {
      "text/html": [
       "<style type=\"text/css\">\n",
       "</style>\n",
       "<table id=\"T_88a79\">\n",
       "  <caption>home_ownership vs. verification_status: Chi-square p-value=0.00</caption>\n",
       "  <thead>\n",
       "    <tr>\n",
       "      <th class=\"index_name level0\" >home_ownership</th>\n",
       "      <th id=\"T_88a79_level0_col0\" class=\"col_heading level0 col0\" >RENT</th>\n",
       "      <th id=\"T_88a79_level0_col1\" class=\"col_heading level0 col1\" >MORTGAGE</th>\n",
       "      <th id=\"T_88a79_level0_col2\" class=\"col_heading level0 col2\" >OWN</th>\n",
       "      <th id=\"T_88a79_level0_col3\" class=\"col_heading level0 col3\" >OTHER</th>\n",
       "    </tr>\n",
       "    <tr>\n",
       "      <th class=\"index_name level0\" >verification_status</th>\n",
       "      <th class=\"blank col0\" >&nbsp;</th>\n",
       "      <th class=\"blank col1\" >&nbsp;</th>\n",
       "      <th class=\"blank col2\" >&nbsp;</th>\n",
       "      <th class=\"blank col3\" >&nbsp;</th>\n",
       "    </tr>\n",
       "  </thead>\n",
       "  <tbody>\n",
       "    <tr>\n",
       "      <th id=\"T_88a79_level0_row0\" class=\"row_heading level0 row0\" >Not Verified</th>\n",
       "      <td id=\"T_88a79_row0_col0\" class=\"data row0 col0\" >49.730000</td>\n",
       "      <td id=\"T_88a79_row0_col1\" class=\"data row0 col1\" >41.590000</td>\n",
       "      <td id=\"T_88a79_row0_col2\" class=\"data row0 col2\" >8.360000</td>\n",
       "      <td id=\"T_88a79_row0_col3\" class=\"data row0 col3\" >0.320000</td>\n",
       "    </tr>\n",
       "    <tr>\n",
       "      <th id=\"T_88a79_level0_row1\" class=\"row_heading level0 row1\" >Source Verified</th>\n",
       "      <td id=\"T_88a79_row1_col0\" class=\"data row1 col0\" >52.420000</td>\n",
       "      <td id=\"T_88a79_row1_col1\" class=\"data row1 col1\" >40.020000</td>\n",
       "      <td id=\"T_88a79_row1_col2\" class=\"data row1 col2\" >7.450000</td>\n",
       "      <td id=\"T_88a79_row1_col3\" class=\"data row1 col3\" >0.100000</td>\n",
       "    </tr>\n",
       "    <tr>\n",
       "      <th id=\"T_88a79_level0_row2\" class=\"row_heading level0 row2\" >Verified</th>\n",
       "      <td id=\"T_88a79_row2_col0\" class=\"data row2 col0\" >41.620000</td>\n",
       "      <td id=\"T_88a79_row2_col1\" class=\"data row2 col1\" >52.180000</td>\n",
       "      <td id=\"T_88a79_row2_col2\" class=\"data row2 col2\" >5.920000</td>\n",
       "      <td id=\"T_88a79_row2_col3\" class=\"data row2 col3\" >0.290000</td>\n",
       "    </tr>\n",
       "  </tbody>\n",
       "</table>\n"
      ],
      "text/plain": [
       "<pandas.io.formats.style.Styler at 0x23a1992e5e0>"
      ]
     },
     "metadata": {},
     "output_type": "display_data"
    },
    {
     "data": {
      "text/html": [
       "<style type=\"text/css\">\n",
       "</style>\n",
       "<table id=\"T_375b1\">\n",
       "  <caption>purpose vs. verification_status: Chi-square p-value=0.00</caption>\n",
       "  <thead>\n",
       "    <tr>\n",
       "      <th class=\"index_name level0\" >purpose</th>\n",
       "      <th id=\"T_375b1_level0_col0\" class=\"col_heading level0 col0\" >car</th>\n",
       "      <th id=\"T_375b1_level0_col1\" class=\"col_heading level0 col1\" >credit_card</th>\n",
       "      <th id=\"T_375b1_level0_col2\" class=\"col_heading level0 col2\" >debt_consolidation</th>\n",
       "      <th id=\"T_375b1_level0_col3\" class=\"col_heading level0 col3\" >educational</th>\n",
       "      <th id=\"T_375b1_level0_col4\" class=\"col_heading level0 col4\" >home_improvement</th>\n",
       "      <th id=\"T_375b1_level0_col5\" class=\"col_heading level0 col5\" >house</th>\n",
       "      <th id=\"T_375b1_level0_col6\" class=\"col_heading level0 col6\" >major_purchase</th>\n",
       "      <th id=\"T_375b1_level0_col7\" class=\"col_heading level0 col7\" >medical</th>\n",
       "      <th id=\"T_375b1_level0_col8\" class=\"col_heading level0 col8\" >moving</th>\n",
       "      <th id=\"T_375b1_level0_col9\" class=\"col_heading level0 col9\" >other</th>\n",
       "      <th id=\"T_375b1_level0_col10\" class=\"col_heading level0 col10\" >renewable_energy</th>\n",
       "      <th id=\"T_375b1_level0_col11\" class=\"col_heading level0 col11\" >small_business</th>\n",
       "      <th id=\"T_375b1_level0_col12\" class=\"col_heading level0 col12\" >vacation</th>\n",
       "      <th id=\"T_375b1_level0_col13\" class=\"col_heading level0 col13\" >wedding</th>\n",
       "    </tr>\n",
       "    <tr>\n",
       "      <th class=\"index_name level0\" >verification_status</th>\n",
       "      <th class=\"blank col0\" >&nbsp;</th>\n",
       "      <th class=\"blank col1\" >&nbsp;</th>\n",
       "      <th class=\"blank col2\" >&nbsp;</th>\n",
       "      <th class=\"blank col3\" >&nbsp;</th>\n",
       "      <th class=\"blank col4\" >&nbsp;</th>\n",
       "      <th class=\"blank col5\" >&nbsp;</th>\n",
       "      <th class=\"blank col6\" >&nbsp;</th>\n",
       "      <th class=\"blank col7\" >&nbsp;</th>\n",
       "      <th class=\"blank col8\" >&nbsp;</th>\n",
       "      <th class=\"blank col9\" >&nbsp;</th>\n",
       "      <th class=\"blank col10\" >&nbsp;</th>\n",
       "      <th class=\"blank col11\" >&nbsp;</th>\n",
       "      <th class=\"blank col12\" >&nbsp;</th>\n",
       "      <th class=\"blank col13\" >&nbsp;</th>\n",
       "    </tr>\n",
       "  </thead>\n",
       "  <tbody>\n",
       "    <tr>\n",
       "      <th id=\"T_375b1_level0_row0\" class=\"row_heading level0 row0\" >Not Verified</th>\n",
       "      <td id=\"T_375b1_row0_col0\" class=\"data row0 col0\" >4.770000</td>\n",
       "      <td id=\"T_375b1_row0_col1\" class=\"data row0 col1\" >13.470000</td>\n",
       "      <td id=\"T_375b1_row0_col2\" class=\"data row0 col2\" >43.510000</td>\n",
       "      <td id=\"T_375b1_row0_col3\" class=\"data row0 col3\" >1.350000</td>\n",
       "      <td id=\"T_375b1_row0_col4\" class=\"data row0 col4\" >7.170000</td>\n",
       "      <td id=\"T_375b1_row0_col5\" class=\"data row0 col5\" >0.830000</td>\n",
       "      <td id=\"T_375b1_row0_col6\" class=\"data row0 col6\" >6.150000</td>\n",
       "      <td id=\"T_375b1_row0_col7\" class=\"data row0 col7\" >1.800000</td>\n",
       "      <td id=\"T_375b1_row0_col8\" class=\"data row0 col8\" >1.420000</td>\n",
       "      <td id=\"T_375b1_row0_col9\" class=\"data row0 col9\" >12.100000</td>\n",
       "      <td id=\"T_375b1_row0_col10\" class=\"data row0 col10\" >0.190000</td>\n",
       "      <td id=\"T_375b1_row0_col11\" class=\"data row0 col11\" >3.950000</td>\n",
       "      <td id=\"T_375b1_row0_col12\" class=\"data row0 col12\" >0.990000</td>\n",
       "      <td id=\"T_375b1_row0_col13\" class=\"data row0 col13\" >2.290000</td>\n",
       "    </tr>\n",
       "    <tr>\n",
       "      <th id=\"T_375b1_level0_row1\" class=\"row_heading level0 row1\" >Source Verified</th>\n",
       "      <td id=\"T_375b1_row1_col0\" class=\"data row1 col0\" >4.590000</td>\n",
       "      <td id=\"T_375b1_row1_col1\" class=\"data row1 col1\" >12.030000</td>\n",
       "      <td id=\"T_375b1_row1_col2\" class=\"data row1 col2\" >46.270000</td>\n",
       "      <td id=\"T_375b1_row1_col3\" class=\"data row1 col3\" >0.330000</td>\n",
       "      <td id=\"T_375b1_row1_col4\" class=\"data row1 col4\" >7.350000</td>\n",
       "      <td id=\"T_375b1_row1_col5\" class=\"data row1 col5\" >1.000000</td>\n",
       "      <td id=\"T_375b1_row1_col6\" class=\"data row1 col6\" >6.020000</td>\n",
       "      <td id=\"T_375b1_row1_col7\" class=\"data row1 col7\" >2.080000</td>\n",
       "      <td id=\"T_375b1_row1_col8\" class=\"data row1 col8\" >2.000000</td>\n",
       "      <td id=\"T_375b1_row1_col9\" class=\"data row1 col9\" >9.310000</td>\n",
       "      <td id=\"T_375b1_row1_col10\" class=\"data row1 col10\" >0.380000</td>\n",
       "      <td id=\"T_375b1_row1_col11\" class=\"data row1 col11\" >4.570000</td>\n",
       "      <td id=\"T_375b1_row1_col12\" class=\"data row1 col12\" >1.100000</td>\n",
       "      <td id=\"T_375b1_row1_col13\" class=\"data row1 col13\" >2.980000</td>\n",
       "    </tr>\n",
       "    <tr>\n",
       "      <th id=\"T_375b1_level0_row2\" class=\"row_heading level0 row2\" >Verified</th>\n",
       "      <td id=\"T_375b1_row2_col0\" class=\"data row2 col0\" >2.110000</td>\n",
       "      <td id=\"T_375b1_row2_col1\" class=\"data row2 col1\" >12.950000</td>\n",
       "      <td id=\"T_375b1_row2_col2\" class=\"data row2 col2\" >52.900000</td>\n",
       "      <td id=\"T_375b1_row2_col3\" class=\"data row2 col3\" >0.510000</td>\n",
       "      <td id=\"T_375b1_row2_col4\" class=\"data row2 col4\" >7.930000</td>\n",
       "      <td id=\"T_375b1_row2_col5\" class=\"data row2 col5\" >1.080000</td>\n",
       "      <td id=\"T_375b1_row2_col6\" class=\"data row2 col6\" >4.130000</td>\n",
       "      <td id=\"T_375b1_row2_col7\" class=\"data row2 col7\" >1.360000</td>\n",
       "      <td id=\"T_375b1_row2_col8\" class=\"data row2 col8\" >1.030000</td>\n",
       "      <td id=\"T_375b1_row2_col9\" class=\"data row2 col9\" >7.480000</td>\n",
       "      <td id=\"T_375b1_row2_col10\" class=\"data row2 col10\" >0.210000</td>\n",
       "      <td id=\"T_375b1_row2_col11\" class=\"data row2 col11\" >5.530000</td>\n",
       "      <td id=\"T_375b1_row2_col12\" class=\"data row2 col12\" >0.650000</td>\n",
       "      <td id=\"T_375b1_row2_col13\" class=\"data row2 col13\" >2.130000</td>\n",
       "    </tr>\n",
       "  </tbody>\n",
       "</table>\n"
      ],
      "text/plain": [
       "<pandas.io.formats.style.Styler at 0x23a1af97af0>"
      ]
     },
     "metadata": {},
     "output_type": "display_data"
    },
    {
     "data": {
      "text/html": [
       "<style type=\"text/css\">\n",
       "</style>\n",
       "<table id=\"T_011ee\">\n",
       "  <caption>term vs. verification_status: Chi-square p-value=0.00</caption>\n",
       "  <thead>\n",
       "    <tr>\n",
       "      <th class=\"index_name level0\" >term</th>\n",
       "      <th id=\"T_011ee_level0_col0\" class=\"col_heading level0 col0\" > 36 months</th>\n",
       "      <th id=\"T_011ee_level0_col1\" class=\"col_heading level0 col1\" > 60 months</th>\n",
       "    </tr>\n",
       "    <tr>\n",
       "      <th class=\"index_name level0\" >verification_status</th>\n",
       "      <th class=\"blank col0\" >&nbsp;</th>\n",
       "      <th class=\"blank col1\" >&nbsp;</th>\n",
       "    </tr>\n",
       "  </thead>\n",
       "  <tbody>\n",
       "    <tr>\n",
       "      <th id=\"T_011ee_level0_row0\" class=\"row_heading level0 row0\" >Not Verified</th>\n",
       "      <td id=\"T_011ee_row0_col0\" class=\"data row0 col0\" >85.790000</td>\n",
       "      <td id=\"T_011ee_row0_col1\" class=\"data row0 col1\" >14.210000</td>\n",
       "    </tr>\n",
       "    <tr>\n",
       "      <th id=\"T_011ee_level0_row1\" class=\"row_heading level0 row1\" >Source Verified</th>\n",
       "      <td id=\"T_011ee_row1_col0\" class=\"data row1 col0\" >69.460000</td>\n",
       "      <td id=\"T_011ee_row1_col1\" class=\"data row1 col1\" >30.540000</td>\n",
       "    </tr>\n",
       "    <tr>\n",
       "      <th id=\"T_011ee_level0_row2\" class=\"row_heading level0 row2\" >Verified</th>\n",
       "      <td id=\"T_011ee_row2_col0\" class=\"data row2 col0\" >59.010000</td>\n",
       "      <td id=\"T_011ee_row2_col1\" class=\"data row2 col1\" >40.990000</td>\n",
       "    </tr>\n",
       "  </tbody>\n",
       "</table>\n"
      ],
      "text/plain": [
       "<pandas.io.formats.style.Styler at 0x23a1992e5e0>"
      ]
     },
     "metadata": {},
     "output_type": "display_data"
    },
    {
     "data": {
      "text/html": [
       "<style type=\"text/css\">\n",
       "</style>\n",
       "<table id=\"T_e27f4\">\n",
       "  <caption>grade vs. verification_status: Chi-square p-value=0.00</caption>\n",
       "  <thead>\n",
       "    <tr>\n",
       "      <th class=\"index_name level0\" >grade</th>\n",
       "      <th id=\"T_e27f4_level0_col0\" class=\"col_heading level0 col0\" >A</th>\n",
       "      <th id=\"T_e27f4_level0_col1\" class=\"col_heading level0 col1\" >B</th>\n",
       "      <th id=\"T_e27f4_level0_col2\" class=\"col_heading level0 col2\" >C</th>\n",
       "      <th id=\"T_e27f4_level0_col3\" class=\"col_heading level0 col3\" >D</th>\n",
       "      <th id=\"T_e27f4_level0_col4\" class=\"col_heading level0 col4\" >E</th>\n",
       "      <th id=\"T_e27f4_level0_col5\" class=\"col_heading level0 col5\" >F</th>\n",
       "      <th id=\"T_e27f4_level0_col6\" class=\"col_heading level0 col6\" >G</th>\n",
       "    </tr>\n",
       "    <tr>\n",
       "      <th class=\"index_name level0\" >verification_status</th>\n",
       "      <th class=\"blank col0\" >&nbsp;</th>\n",
       "      <th class=\"blank col1\" >&nbsp;</th>\n",
       "      <th class=\"blank col2\" >&nbsp;</th>\n",
       "      <th class=\"blank col3\" >&nbsp;</th>\n",
       "      <th class=\"blank col4\" >&nbsp;</th>\n",
       "      <th class=\"blank col5\" >&nbsp;</th>\n",
       "      <th class=\"blank col6\" >&nbsp;</th>\n",
       "    </tr>\n",
       "  </thead>\n",
       "  <tbody>\n",
       "    <tr>\n",
       "      <th id=\"T_e27f4_level0_row0\" class=\"row_heading level0 row0\" >Not Verified</th>\n",
       "      <td id=\"T_e27f4_row0_col0\" class=\"data row0 col0\" >30.340000</td>\n",
       "      <td id=\"T_e27f4_row0_col1\" class=\"data row0 col1\" >31.980000</td>\n",
       "      <td id=\"T_e27f4_row0_col2\" class=\"data row0 col2\" >20.830000</td>\n",
       "      <td id=\"T_e27f4_row0_col3\" class=\"data row0 col3\" >11.630000</td>\n",
       "      <td id=\"T_e27f4_row0_col4\" class=\"data row0 col4\" >3.930000</td>\n",
       "      <td id=\"T_e27f4_row0_col5\" class=\"data row0 col5\" >1.030000</td>\n",
       "      <td id=\"T_e27f4_row0_col6\" class=\"data row0 col6\" >0.270000</td>\n",
       "    </tr>\n",
       "    <tr>\n",
       "      <th id=\"T_e27f4_level0_row1\" class=\"row_heading level0 row1\" >Source Verified</th>\n",
       "      <td id=\"T_e27f4_row1_col0\" class=\"data row1 col0\" >25.300000</td>\n",
       "      <td id=\"T_e27f4_row1_col1\" class=\"data row1 col1\" >29.430000</td>\n",
       "      <td id=\"T_e27f4_row1_col2\" class=\"data row1 col2\" >19.950000</td>\n",
       "      <td id=\"T_e27f4_row1_col3\" class=\"data row1 col3\" >13.970000</td>\n",
       "      <td id=\"T_e27f4_row1_col4\" class=\"data row1 col4\" >7.760000</td>\n",
       "      <td id=\"T_e27f4_row1_col5\" class=\"data row1 col5\" >2.870000</td>\n",
       "      <td id=\"T_e27f4_row1_col6\" class=\"data row1 col6\" >0.710000</td>\n",
       "    </tr>\n",
       "    <tr>\n",
       "      <th id=\"T_e27f4_level0_row2\" class=\"row_heading level0 row2\" >Verified</th>\n",
       "      <td id=\"T_e27f4_row2_col0\" class=\"data row2 col0\" >17.800000</td>\n",
       "      <td id=\"T_e27f4_row2_col1\" class=\"data row2 col1\" >28.500000</td>\n",
       "      <td id=\"T_e27f4_row2_col2\" class=\"data row2 col2\" >20.530000</td>\n",
       "      <td id=\"T_e27f4_row2_col3\" class=\"data row2 col3\" >15.520000</td>\n",
       "      <td id=\"T_e27f4_row2_col4\" class=\"data row2 col4\" >11.310000</td>\n",
       "      <td id=\"T_e27f4_row2_col5\" class=\"data row2 col5\" >4.710000</td>\n",
       "      <td id=\"T_e27f4_row2_col6\" class=\"data row2 col6\" >1.640000</td>\n",
       "    </tr>\n",
       "  </tbody>\n",
       "</table>\n"
      ],
      "text/plain": [
       "<pandas.io.formats.style.Styler at 0x23a1af97a30>"
      ]
     },
     "metadata": {},
     "output_type": "display_data"
    }
   ],
   "source": [
    "display(get_rctable(\"emp_length\", \"verification_status\"))\n",
    "display(get_rctable(\"home_ownership\", \"verification_status\"))\n",
    "display(get_rctable(\"purpose\", \"verification_status\"))\n",
    "display(get_rctable(\"term\", \"verification_status\"))\n",
    "display(get_rctable(\"grade\", \"verification_status\"))"
   ]
  },
  {
   "cell_type": "code",
   "execution_count": 44,
   "metadata": {},
   "outputs": [
    {
     "data": {
      "text/plain": [
       "<AxesSubplot:xlabel='verification_status', ylabel='loan_amnt'>"
      ]
     },
     "execution_count": 44,
     "metadata": {},
     "output_type": "execute_result"
    },
    {
     "data": {
      "image/png": "[encoded data removed]",
      "text/plain": [
       "<Figure size 432x288 with 1 Axes>"
      ]
     },
     "metadata": {
      "needs_background": "light"
     },
     "output_type": "display_data"
    }
   ],
   "source": [
    "sns.boxplot(y=\"loan_amnt\", x='verification_status', data = df)"
   ]
  },
  {
   "cell_type": "code",
   "execution_count": 45,
   "metadata": {},
   "outputs": [
    {
     "data": {
      "image/png": "[encoded data removed]",
      "text/plain": [
       "<Figure size 432x288 with 1 Axes>"
      ]
     },
     "metadata": {
      "needs_background": "light"
     },
     "output_type": "display_data"
    }
   ],
   "source": [
    "sns.boxplot(y=\"annual_inc\", x='verification_status', data = df).set_yscale('log')"
   ]
  },
  {
   "cell_type": "code",
   "execution_count": 46,
   "metadata": {},
   "outputs": [
    {
     "data": {
      "text/plain": [
       "<AxesSubplot:xlabel='verification_status', ylabel='int_rate'>"
      ]
     },
     "execution_count": 46,
     "metadata": {},
     "output_type": "execute_result"
    },
    {
     "data": {
      "image/png": "[encoded data removed]",
      "text/plain": [
       "<Figure size 432x288 with 1 Axes>"
      ]
     },
     "metadata": {
      "needs_background": "light"
     },
     "output_type": "display_data"
    }
   ],
   "source": [
    "sns.boxplot(y=\"int_rate\", x='verification_status', data = df)"
   ]
  },
  {
   "cell_type": "markdown",
   "metadata": {},
   "source": [
    "# Ejercicio 9\n",
    "\n",
    "Con base en las relaciones que observamos en las tablas de contingencia y los diagramas de caja anteriores, ¿cuáles de las siguientes afirmaciones son correctas? Seleccione todas las que correspondan.\n",
    "\n",
    "A. La tendencia marginal es que las personas con ingresos verificados tienden a pedir préstamos con tasas de interés más altas.\n",
    "\n",
    "B. La tendencia marginal es que las personas con ingresos verificados tienden a tener un empleo más prolongado\n",
    "\n",
    "C. La tendencia marginal es que las personas con ingresos comprobados tienden a tener hipotecas"
   ]
  },
  {
   "cell_type": "markdown",
   "metadata": {},
   "source": [
    "**Respuesta.** Tanto A como B son correctos, ya que la tasa de interés alta y la duración prolongada del empleo están asociados con una menor probabilidad de pago. C no es correcto ya que la propiedad de la vivienda no se asocia significativamente con la probabilidad de pago después de controlar otras variables."
   ]
  },
  {
   "cell_type": "markdown",
   "metadata": {},
   "source": [
    "## ¿Necesitamos incluir `verification_status`?"
   ]
  },
  {
   "cell_type": "markdown",
   "metadata": {},
   "source": [
    "De lo anterior, podríamos llegar a la conclusión de que `verification_status` no importa cuando queremos predecir si un prestatario incumplirá con su deuda. Pero, ¿significa esto que, en el futuro, podemos simplemente ignorar el estado de verificación de un solicitante cuando presente una solicitud de préstamo a través de LC?"
   ]
  },
  {
   "cell_type": "markdown",
   "metadata": {},
   "source": [
    "### Ejercicio 10\n",
    "\n",
    "¿Cuál de las siguientes afirmaciones es verdadera con respecto a lo que debemos hacer con `verification_status`, según los resultados que tenemos hasta ahora?\n",
    "\n",
    "A. Dado que el valor $p$ para `verification_status` es grande, podemos eliminarlo de nuestro modelo de clasificación y, en el futuro, no necesitamos recopilar esta parte de la información de los solicitantes.\n",
    "\n",
    "B. Aunque el valor de $p$ para `verification_status` es grande, el coeficiente de regresión estimado para él es distinto de cero. Deberíamos mantener la variable en el modelo y continuar recopilando la información en el futuro.\n",
    "\n",
    "C. Deberíamos llevar a cabo una evaluación adicional para comparar las precisiones de predicción del modelo con y sin `verification_status` antes de que podamos tomar cualquier otra decisión.\n",
    "\n",
    "D. Ninguna de las anteriores."
   ]
  },
  {
   "cell_type": "markdown",
   "metadata": {},
   "source": [
    "**Respuesta.** A y B son incorrectos. No solo debemos basar nuestra decisión en el valor $p$ - solo. C es correcto."
   ]
  },
  {
   "cell_type": "markdown",
   "metadata": {},
   "source": [
    "Evaluemos la precisión de la predicción usando ROC. Los resultados se muestran a continuación:"
   ]
  },
  {
   "cell_type": "code",
   "execution_count": 47,
   "metadata": {},
   "outputs": [
    {
     "data": {
      "image/png": "[encoded data removed]",
      "text/plain": [
       "<Figure size 432x288 with 1 Axes>"
      ]
     },
     "metadata": {
      "needs_background": "light"
     },
     "output_type": "display_data"
    }
   ],
   "source": [
    "predict_withvs = logit_full1_res.predict(df_log2)\n",
    "logit_full_novs = sm.Logit(df.loan_status.cat.codes, df_log2.loc[:, df_log2.columns != 'verification_status'])\n",
    "predict_novs = logit_full_novs.fit(disp=0).predict(df_log2.loc[:, df_log2.columns != 'verification_status'])\n",
    "\n",
    "roc_vs = roc_curve(df.loan_status.cat.codes, predict_withvs)\n",
    "roc_novs = roc_curve(df.loan_status.cat.codes, predict_novs)\n",
    "auc_vs = auc( roc_vs[0], roc_vs[1] )\n",
    "auc_novs = auc( roc_novs[0], roc_novs[1])\n",
    "\n",
    "plt.figure()\n",
    "lw = 2\n",
    "plt.plot(roc_vs[0], roc_vs[1], color='darkorange',\n",
    "         lw=lw, label='With verification_status (AUC = %0.2f)' % auc_vs)\n",
    "plt.plot(roc_novs[0], roc_novs[1], color='darkgreen',\n",
    "         lw=lw, label='Without verification_status (AUC = %0.2f)' % auc_novs)\n",
    "plt.plot([0, 1], [0, 1], color='navy', lw=lw, linestyle='--', label='Random guess')\n",
    "plt.xlim([0.0, 1.0])\n",
    "plt.ylim([0.0, 1.05])\n",
    "plt.xlabel('False Positive Rate')\n",
    "plt.ylabel('True Positive Rate')\n",
    "plt.title('Classification of Defaulters')\n",
    "plt.legend(loc=\"lower right\")\n",
    "plt.show()"
   ]
  },
  {
   "cell_type": "markdown",
   "metadata": {},
   "source": [
    "### Ejercicio 11\n",
    "\n",
    "Con base en todos los resultados anteriores, ¿qué podemos concluir sobre el proceso de verificación?"
   ]
  },
  {
   "cell_type": "markdown",
   "metadata": {},
   "source": [
    "**Respuesta.** Encontramos que el AUC para el modelo con `verification_status` incluido es el mismo que el modelo sin `verification_status` incluido (0.69). Dado que siempre queremos que nuestro modelo sea lo más simple posible, esto significa que no debemos incluir `verification_status` como una variable al predecir si es probable que un usuario pague su deuda.\n"
   ]
  },
  {
   "cell_type": "markdown",
   "metadata": {},
   "source": [
    "## Conclusiones"
   ]
  },
  {
   "cell_type": "markdown",
   "metadata": {},
   "source": [
    "En este caso, investigamos si el estado de verificación de la fuente de ingresos de los solicitantes es importante al predecir si un solicitante pagará su deuda. Construimos un modelo logístico para examinar primero la relación marginal entre el estado de verificación y la probabilidad de pago. Descubrimos una tendencia contraria a la intuición: la información de fuente de ingresos menos confiable se correlacionó con una mayor probabilidad de pago. Sin embargo, después de ajustar un modelo logístico más grande con todas las variables independientes disponibles, encontramos que esta tendencia se introdujo a través de los efectos de confusión de la tasa de interés, el ingreso anual y el plazo del préstamo.\n",
    "\n",
    "Después de tener en cuenta estas variables, el estado de verificación ya no se asoció significativamente con la probabilidad de pago. Con base en los valores de $p$ y el modelo ROC, llegamos a la conclusión de que el proceso de verificación es irrelevante y que potencialmente podríamos eliminarlo de los elementos requeridos y simplificar el proceso de préstamo."
   ]
  },
  {
   "cell_type": "markdown",
   "metadata": {},
   "source": [
    "## Para llevar"
   ]
  },
  {
   "cell_type": "markdown",
   "metadata": {},
   "source": [
    "La regresión logística amplía naturalmente el concepto de regresión lineal y es el modelo de referencia para realizar tareas de clasificación. Los coeficientes tienen una interpretación similar a la de la regresión lineal. Las curvas ROC son útiles para comparar diferentes modelos de clasificación."
   ]
  }
 ],
 "metadata": {
  "anaconda-cloud": {},
  "kernelspec": {
   "display_name": "Python 3 (ipykernel)",
   "language": "python",
   "name": "python3"
  },
  "language_info": {
   "codemirror_mode": {
    "name": "ipython",
    "version": 3
   },
   "file_extension": ".py",
   "mimetype": "text/x-python",
   "name": "python",
   "nbconvert_exporter": "python",
   "pygments_lexer": "ipython3",
   "version": "3.9.12"
  }
 },
 "nbformat": 4,
 "nbformat_minor": 1
}
